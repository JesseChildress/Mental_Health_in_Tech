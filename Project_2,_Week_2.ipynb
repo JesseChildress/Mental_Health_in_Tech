{
  "nbformat": 4,
  "nbformat_minor": 0,
  "metadata": {
    "colab": {
      "name": "Project 2, Week 2.ipynb",
      "provenance": [],
      "mount_file_id": "18a7kvtqZSG7a-YYlGFodISOIPHEDBRoA",
      "authorship_tag": "ABX9TyMAm7Lx79XMgb0R3sMLHMDW",
      "include_colab_link": true
    },
    "kernelspec": {
      "name": "python3",
      "display_name": "Python 3"
    },
    "language_info": {
      "name": "python"
    }
  },
  "cells": [
    {
      "cell_type": "markdown",
      "metadata": {
        "id": "view-in-github",
        "colab_type": "text"
      },
      "source": [
        "<a href=\"https://colab.research.google.com/github/JesseChildress/Mental_Health_in_Tech/blob/main/Project_2%2C_Week_2.ipynb\" target=\"_parent\"><img src=\"https://colab.research.google.com/assets/colab-badge.svg\" alt=\"Open In Colab\"/></a>"
      ]
    },
    {
      "cell_type": "code",
      "metadata": {
        "colab": {
          "base_uri": "https://localhost:8080/",
          "height": 309
        },
        "id": "-EIOCGE2iud7",
        "outputId": "3a7685a9-8502-4e5c-dc4e-9db185e54bbc"
      },
      "source": [
        "import pandas as pd\n",
        "import numpy as np\n",
        "from xgboost import XGBClassifier\n",
        "import matplotlib.pyplot as plt\n",
        "import seaborn as sns\n",
        "\n",
        "#First Choice Data Set\n",
        "df = pd.read_csv('/content/Mental Health in Tech.csv')\n",
        "df.head()"
      ],
      "execution_count": null,
      "outputs": [
        {
          "output_type": "execute_result",
          "data": {
            "text/html": [
              "<div>\n",
              "<style scoped>\n",
              "    .dataframe tbody tr th:only-of-type {\n",
              "        vertical-align: middle;\n",
              "    }\n",
              "\n",
              "    .dataframe tbody tr th {\n",
              "        vertical-align: top;\n",
              "    }\n",
              "\n",
              "    .dataframe thead th {\n",
              "        text-align: right;\n",
              "    }\n",
              "</style>\n",
              "<table border=\"1\" class=\"dataframe\">\n",
              "  <thead>\n",
              "    <tr style=\"text-align: right;\">\n",
              "      <th></th>\n",
              "      <th>Timestamp</th>\n",
              "      <th>Age</th>\n",
              "      <th>Gender</th>\n",
              "      <th>Country</th>\n",
              "      <th>state</th>\n",
              "      <th>self_employed</th>\n",
              "      <th>family_history</th>\n",
              "      <th>treatment</th>\n",
              "      <th>work_interfere</th>\n",
              "      <th>no_employees</th>\n",
              "      <th>remote_work</th>\n",
              "      <th>tech_company</th>\n",
              "      <th>benefits</th>\n",
              "      <th>care_options</th>\n",
              "      <th>wellness_program</th>\n",
              "      <th>seek_help</th>\n",
              "      <th>anonymity</th>\n",
              "      <th>leave</th>\n",
              "      <th>mental_health_consequence</th>\n",
              "      <th>phys_health_consequence</th>\n",
              "      <th>coworkers</th>\n",
              "      <th>supervisor</th>\n",
              "      <th>mental_health_interview</th>\n",
              "      <th>phys_health_interview</th>\n",
              "      <th>mental_vs_physical</th>\n",
              "      <th>obs_consequence</th>\n",
              "      <th>comments</th>\n",
              "    </tr>\n",
              "  </thead>\n",
              "  <tbody>\n",
              "    <tr>\n",
              "      <th>0</th>\n",
              "      <td>2014-08-27 11:29:31</td>\n",
              "      <td>37</td>\n",
              "      <td>Female</td>\n",
              "      <td>United States</td>\n",
              "      <td>IL</td>\n",
              "      <td>NaN</td>\n",
              "      <td>No</td>\n",
              "      <td>Yes</td>\n",
              "      <td>Often</td>\n",
              "      <td>6-25</td>\n",
              "      <td>No</td>\n",
              "      <td>Yes</td>\n",
              "      <td>Yes</td>\n",
              "      <td>Not sure</td>\n",
              "      <td>No</td>\n",
              "      <td>Yes</td>\n",
              "      <td>Yes</td>\n",
              "      <td>Somewhat easy</td>\n",
              "      <td>No</td>\n",
              "      <td>No</td>\n",
              "      <td>Some of them</td>\n",
              "      <td>Yes</td>\n",
              "      <td>No</td>\n",
              "      <td>Maybe</td>\n",
              "      <td>Yes</td>\n",
              "      <td>No</td>\n",
              "      <td>NaN</td>\n",
              "    </tr>\n",
              "    <tr>\n",
              "      <th>1</th>\n",
              "      <td>2014-08-27 11:29:37</td>\n",
              "      <td>44</td>\n",
              "      <td>M</td>\n",
              "      <td>United States</td>\n",
              "      <td>IN</td>\n",
              "      <td>NaN</td>\n",
              "      <td>No</td>\n",
              "      <td>No</td>\n",
              "      <td>Rarely</td>\n",
              "      <td>More than 1000</td>\n",
              "      <td>No</td>\n",
              "      <td>No</td>\n",
              "      <td>Don't know</td>\n",
              "      <td>No</td>\n",
              "      <td>Don't know</td>\n",
              "      <td>Don't know</td>\n",
              "      <td>Don't know</td>\n",
              "      <td>Don't know</td>\n",
              "      <td>Maybe</td>\n",
              "      <td>No</td>\n",
              "      <td>No</td>\n",
              "      <td>No</td>\n",
              "      <td>No</td>\n",
              "      <td>No</td>\n",
              "      <td>Don't know</td>\n",
              "      <td>No</td>\n",
              "      <td>NaN</td>\n",
              "    </tr>\n",
              "    <tr>\n",
              "      <th>2</th>\n",
              "      <td>2014-08-27 11:29:44</td>\n",
              "      <td>32</td>\n",
              "      <td>Male</td>\n",
              "      <td>Canada</td>\n",
              "      <td>NaN</td>\n",
              "      <td>NaN</td>\n",
              "      <td>No</td>\n",
              "      <td>No</td>\n",
              "      <td>Rarely</td>\n",
              "      <td>6-25</td>\n",
              "      <td>No</td>\n",
              "      <td>Yes</td>\n",
              "      <td>No</td>\n",
              "      <td>No</td>\n",
              "      <td>No</td>\n",
              "      <td>No</td>\n",
              "      <td>Don't know</td>\n",
              "      <td>Somewhat difficult</td>\n",
              "      <td>No</td>\n",
              "      <td>No</td>\n",
              "      <td>Yes</td>\n",
              "      <td>Yes</td>\n",
              "      <td>Yes</td>\n",
              "      <td>Yes</td>\n",
              "      <td>No</td>\n",
              "      <td>No</td>\n",
              "      <td>NaN</td>\n",
              "    </tr>\n",
              "    <tr>\n",
              "      <th>3</th>\n",
              "      <td>2014-08-27 11:29:46</td>\n",
              "      <td>31</td>\n",
              "      <td>Male</td>\n",
              "      <td>United Kingdom</td>\n",
              "      <td>NaN</td>\n",
              "      <td>NaN</td>\n",
              "      <td>Yes</td>\n",
              "      <td>Yes</td>\n",
              "      <td>Often</td>\n",
              "      <td>26-100</td>\n",
              "      <td>No</td>\n",
              "      <td>Yes</td>\n",
              "      <td>No</td>\n",
              "      <td>Yes</td>\n",
              "      <td>No</td>\n",
              "      <td>No</td>\n",
              "      <td>No</td>\n",
              "      <td>Somewhat difficult</td>\n",
              "      <td>Yes</td>\n",
              "      <td>Yes</td>\n",
              "      <td>Some of them</td>\n",
              "      <td>No</td>\n",
              "      <td>Maybe</td>\n",
              "      <td>Maybe</td>\n",
              "      <td>No</td>\n",
              "      <td>Yes</td>\n",
              "      <td>NaN</td>\n",
              "    </tr>\n",
              "    <tr>\n",
              "      <th>4</th>\n",
              "      <td>2014-08-27 11:30:22</td>\n",
              "      <td>31</td>\n",
              "      <td>Male</td>\n",
              "      <td>United States</td>\n",
              "      <td>TX</td>\n",
              "      <td>NaN</td>\n",
              "      <td>No</td>\n",
              "      <td>No</td>\n",
              "      <td>Never</td>\n",
              "      <td>100-500</td>\n",
              "      <td>Yes</td>\n",
              "      <td>Yes</td>\n",
              "      <td>Yes</td>\n",
              "      <td>No</td>\n",
              "      <td>Don't know</td>\n",
              "      <td>Don't know</td>\n",
              "      <td>Don't know</td>\n",
              "      <td>Don't know</td>\n",
              "      <td>No</td>\n",
              "      <td>No</td>\n",
              "      <td>Some of them</td>\n",
              "      <td>Yes</td>\n",
              "      <td>Yes</td>\n",
              "      <td>Yes</td>\n",
              "      <td>Don't know</td>\n",
              "      <td>No</td>\n",
              "      <td>NaN</td>\n",
              "    </tr>\n",
              "  </tbody>\n",
              "</table>\n",
              "</div>"
            ],
            "text/plain": [
              "             Timestamp  Age  Gender  ... mental_vs_physical obs_consequence comments\n",
              "0  2014-08-27 11:29:31   37  Female  ...                Yes              No      NaN\n",
              "1  2014-08-27 11:29:37   44       M  ...         Don't know              No      NaN\n",
              "2  2014-08-27 11:29:44   32    Male  ...                 No              No      NaN\n",
              "3  2014-08-27 11:29:46   31    Male  ...                 No             Yes      NaN\n",
              "4  2014-08-27 11:30:22   31    Male  ...         Don't know              No      NaN\n",
              "\n",
              "[5 rows x 27 columns]"
            ]
          },
          "metadata": {},
          "execution_count": 35
        }
      ]
    },
    {
      "cell_type": "code",
      "metadata": {
        "colab": {
          "base_uri": "https://localhost:8080/"
        },
        "id": "R44VCY9HBS0X",
        "outputId": "e8e8f1b7-3ca8-4191-d89e-e850106b9258"
      },
      "source": [
        "df.info()"
      ],
      "execution_count": null,
      "outputs": [
        {
          "output_type": "stream",
          "name": "stdout",
          "text": [
            "<class 'pandas.core.frame.DataFrame'>\n",
            "RangeIndex: 1259 entries, 0 to 1258\n",
            "Data columns (total 27 columns):\n",
            " #   Column                     Non-Null Count  Dtype \n",
            "---  ------                     --------------  ----- \n",
            " 0   Timestamp                  1259 non-null   object\n",
            " 1   Age                        1259 non-null   int64 \n",
            " 2   Gender                     1259 non-null   object\n",
            " 3   Country                    1259 non-null   object\n",
            " 4   state                      744 non-null    object\n",
            " 5   self_employed              1241 non-null   object\n",
            " 6   family_history             1259 non-null   object\n",
            " 7   treatment                  1259 non-null   object\n",
            " 8   work_interfere             995 non-null    object\n",
            " 9   no_employees               1259 non-null   object\n",
            " 10  remote_work                1259 non-null   object\n",
            " 11  tech_company               1259 non-null   object\n",
            " 12  benefits                   1259 non-null   object\n",
            " 13  care_options               1259 non-null   object\n",
            " 14  wellness_program           1259 non-null   object\n",
            " 15  seek_help                  1259 non-null   object\n",
            " 16  anonymity                  1259 non-null   object\n",
            " 17  leave                      1259 non-null   object\n",
            " 18  mental_health_consequence  1259 non-null   object\n",
            " 19  phys_health_consequence    1259 non-null   object\n",
            " 20  coworkers                  1259 non-null   object\n",
            " 21  supervisor                 1259 non-null   object\n",
            " 22  mental_health_interview    1259 non-null   object\n",
            " 23  phys_health_interview      1259 non-null   object\n",
            " 24  mental_vs_physical         1259 non-null   object\n",
            " 25  obs_consequence            1259 non-null   object\n",
            " 26  comments                   164 non-null    object\n",
            "dtypes: int64(1), object(26)\n",
            "memory usage: 265.7+ KB\n"
          ]
        }
      ]
    },
    {
      "cell_type": "code",
      "metadata": {
        "colab": {
          "base_uri": "https://localhost:8080/"
        },
        "id": "UaTA9PDG8vlT",
        "outputId": "d0c5536f-3a9e-449b-b669-2df3f5cd3a0b"
      },
      "source": [
        "#deleted duplicate rows\n",
        "df.duplicated().sum()\n"
      ],
      "execution_count": null,
      "outputs": [
        {
          "output_type": "execute_result",
          "data": {
            "text/plain": [
              "0"
            ]
          },
          "metadata": {},
          "execution_count": 37
        }
      ]
    },
    {
      "cell_type": "markdown",
      "metadata": {
        "id": "Q6oC7YdZ-b4r"
      },
      "source": [
        "No Duplicates"
      ]
    },
    {
      "cell_type": "code",
      "metadata": {
        "id": "J1bbGo0v9lW6"
      },
      "source": [
        "#deleted unnecessary columns\n",
        "#this column will have no effect on the outcome\n",
        "del df['Timestamp']\n",
        "#this column will have no effect on the outcome\n",
        "del df['comments']\n",
        "#While this column could have some relevance, it is likely to be minimal and nearly half the values are missing anyway\n",
        "del df['state']\n",
        "#Most are from the US; the few outliers are likely to have little effect on the overall analysis\n",
        "del df['Country']"
      ],
      "execution_count": null,
      "outputs": []
    },
    {
      "cell_type": "code",
      "metadata": {
        "id": "-i3nv7qA9ov5"
      },
      "source": [
        "#identified and addressed missing values : work_interfere, self_employed\n",
        "#I'm going to fill both columns with \"Unknown\" so that we can use that data but the data\n",
        "#for these columns won't skew the data\n",
        "df['work_interfere'].fillna(\"Unknown\", inplace = True)\n",
        "df['self_employed'].fillna(\"Unknown\", inplace = True)"
      ],
      "execution_count": null,
      "outputs": []
    },
    {
      "cell_type": "code",
      "metadata": {
        "colab": {
          "base_uri": "https://localhost:8080/"
        },
        "id": "FAz6w3woUS2_",
        "outputId": "7cae5ebe-c78c-4ee9-eebf-d3ede38030c7"
      },
      "source": [
        "#confirming all values filled in \n",
        "df.info()"
      ],
      "execution_count": null,
      "outputs": [
        {
          "output_type": "stream",
          "name": "stdout",
          "text": [
            "<class 'pandas.core.frame.DataFrame'>\n",
            "RangeIndex: 1259 entries, 0 to 1258\n",
            "Data columns (total 23 columns):\n",
            " #   Column                     Non-Null Count  Dtype \n",
            "---  ------                     --------------  ----- \n",
            " 0   Age                        1259 non-null   int64 \n",
            " 1   Gender                     1259 non-null   object\n",
            " 2   self_employed              1259 non-null   object\n",
            " 3   family_history             1259 non-null   object\n",
            " 4   treatment                  1259 non-null   object\n",
            " 5   work_interfere             1259 non-null   object\n",
            " 6   no_employees               1259 non-null   object\n",
            " 7   remote_work                1259 non-null   object\n",
            " 8   tech_company               1259 non-null   object\n",
            " 9   benefits                   1259 non-null   object\n",
            " 10  care_options               1259 non-null   object\n",
            " 11  wellness_program           1259 non-null   object\n",
            " 12  seek_help                  1259 non-null   object\n",
            " 13  anonymity                  1259 non-null   object\n",
            " 14  leave                      1259 non-null   object\n",
            " 15  mental_health_consequence  1259 non-null   object\n",
            " 16  phys_health_consequence    1259 non-null   object\n",
            " 17  coworkers                  1259 non-null   object\n",
            " 18  supervisor                 1259 non-null   object\n",
            " 19  mental_health_interview    1259 non-null   object\n",
            " 20  phys_health_interview      1259 non-null   object\n",
            " 21  mental_vs_physical         1259 non-null   object\n",
            " 22  obs_consequence            1259 non-null   object\n",
            "dtypes: int64(1), object(22)\n",
            "memory usage: 226.4+ KB\n"
          ]
        }
      ]
    },
    {
      "cell_type": "code",
      "metadata": {
        "id": "_q1LM4J-9rG_",
        "colab": {
          "base_uri": "https://localhost:8080/"
        },
        "outputId": "76323995-2609-4080-d81b-180731001325"
      },
      "source": [
        "#identified and corrected inconsistencies in data for categorical values (i.e. Cat, cat, cats)\n",
        "print(df['Gender'].value_counts())\n",
        "print(df['self_employed'].value_counts())\n",
        "print(df['family_history'].value_counts())\n",
        "print(df['treatment'].value_counts())\n",
        "print(df['work_interfere'].value_counts())\n",
        "print(df['no_employees'].value_counts())\n",
        "print(df['remote_work'].value_counts())\n",
        "print(df['tech_company'].value_counts())\n",
        "print(df['benefits'].value_counts())\n",
        "print(df['care_options'].value_counts())\n",
        "print(df['wellness_program'].value_counts())\n",
        "print(df['seek_help'].value_counts())\n",
        "print(df['anonymity'].value_counts())\n",
        "print(df['leave'].value_counts())\n",
        "print(df['mental_health_consequence'].value_counts())\n",
        "print(df['coworkers'].value_counts())\n",
        "print(df['supervisor'].value_counts())\n",
        "print(df['mental_health_interview'].value_counts())\n",
        "print(df['phys_health_consequence'].value_counts())\n",
        "print(df['phys_health_interview'].value_counts())\n",
        "print(df['mental_vs_physical'].value_counts())\n",
        "print(df['obs_consequence'].value_counts())\n"
      ],
      "execution_count": null,
      "outputs": [
        {
          "output_type": "stream",
          "name": "stdout",
          "text": [
            "Male                                              615\n",
            "male                                              206\n",
            "Female                                            121\n",
            "M                                                 116\n",
            "female                                             62\n",
            "F                                                  38\n",
            "m                                                  34\n",
            "f                                                  15\n",
            "Make                                                4\n",
            "Woman                                               3\n",
            "Male                                                3\n",
            "Female                                              2\n",
            "Cis Male                                            2\n",
            "Man                                                 2\n",
            "Female (trans)                                      2\n",
            "cis-female/femme                                    1\n",
            "Guy (-ish) ^_^                                      1\n",
            "Trans woman                                         1\n",
            "male leaning androgynous                            1\n",
            "Cis Man                                             1\n",
            "Male-ish                                            1\n",
            "Trans-female                                        1\n",
            "Androgyne                                           1\n",
            "femail                                              1\n",
            "maile                                               1\n",
            "Agender                                             1\n",
            "Mal                                                 1\n",
            "Genderqueer                                         1\n",
            "fluid                                               1\n",
            "p                                                   1\n",
            "ostensibly male, unsure what that really means      1\n",
            "non-binary                                          1\n",
            "Enby                                                1\n",
            "Cis Female                                          1\n",
            "Female (cis)                                        1\n",
            "All                                                 1\n",
            "queer/she/they                                      1\n",
            "Malr                                                1\n",
            "queer                                               1\n",
            "something kinda male?                               1\n",
            "msle                                                1\n",
            "Femake                                              1\n",
            "A little about you                                  1\n",
            "cis male                                            1\n",
            "Nah                                                 1\n",
            "Male (CIS)                                          1\n",
            "woman                                               1\n",
            "Neuter                                              1\n",
            "Mail                                                1\n",
            "Name: Gender, dtype: int64\n",
            "No         1095\n",
            "Yes         146\n",
            "Unknown      18\n",
            "Name: self_employed, dtype: int64\n",
            "No     767\n",
            "Yes    492\n",
            "Name: family_history, dtype: int64\n",
            "Yes    637\n",
            "No     622\n",
            "Name: treatment, dtype: int64\n",
            "Sometimes    465\n",
            "Unknown      264\n",
            "Never        213\n",
            "Rarely       173\n",
            "Often        144\n",
            "Name: work_interfere, dtype: int64\n",
            "6-25              290\n",
            "26-100            289\n",
            "More than 1000    282\n",
            "100-500           176\n",
            "1-5               162\n",
            "500-1000           60\n",
            "Name: no_employees, dtype: int64\n",
            "No     883\n",
            "Yes    376\n",
            "Name: remote_work, dtype: int64\n",
            "Yes    1031\n",
            "No      228\n",
            "Name: tech_company, dtype: int64\n",
            "Yes           477\n",
            "Don't know    408\n",
            "No            374\n",
            "Name: benefits, dtype: int64\n",
            "No          501\n",
            "Yes         444\n",
            "Not sure    314\n",
            "Name: care_options, dtype: int64\n",
            "No            842\n",
            "Yes           229\n",
            "Don't know    188\n",
            "Name: wellness_program, dtype: int64\n",
            "No            646\n",
            "Don't know    363\n",
            "Yes           250\n",
            "Name: seek_help, dtype: int64\n",
            "Don't know    819\n",
            "Yes           375\n",
            "No             65\n",
            "Name: anonymity, dtype: int64\n",
            "Don't know            563\n",
            "Somewhat easy         266\n",
            "Very easy             206\n",
            "Somewhat difficult    126\n",
            "Very difficult         98\n",
            "Name: leave, dtype: int64\n",
            "No       490\n",
            "Maybe    477\n",
            "Yes      292\n",
            "Name: mental_health_consequence, dtype: int64\n",
            "Some of them    774\n",
            "No              260\n",
            "Yes             225\n",
            "Name: coworkers, dtype: int64\n",
            "Yes             516\n",
            "No              393\n",
            "Some of them    350\n",
            "Name: supervisor, dtype: int64\n",
            "No       1008\n",
            "Maybe     207\n",
            "Yes        44\n",
            "Name: mental_health_interview, dtype: int64\n",
            "No       925\n",
            "Maybe    273\n",
            "Yes       61\n",
            "Name: phys_health_consequence, dtype: int64\n",
            "Maybe    557\n",
            "No       500\n",
            "Yes      202\n",
            "Name: phys_health_interview, dtype: int64\n",
            "Don't know    576\n",
            "Yes           343\n",
            "No            340\n",
            "Name: mental_vs_physical, dtype: int64\n",
            "No     1075\n",
            "Yes     184\n",
            "Name: obs_consequence, dtype: int64\n"
          ]
        }
      ]
    },
    {
      "cell_type": "markdown",
      "metadata": {
        "id": "hG32xRFZYKoU"
      },
      "source": [
        "The Only one with inconsistencies is Gender. I will address inconsistencies by putting anything that evidently should be \"Male\" or \"Female\" into those categories, and add others that are unclear or non-traditional into a third, \"other\" category. While this will not represent the divesity of gender identities it will be a way to get a reasonable sample size that represents a different experience other than either identifying as male or female"
      ]
    },
    {
      "cell_type": "code",
      "metadata": {
        "colab": {
          "base_uri": "https://localhost:8080/"
        },
        "id": "udMLPPEEZfen",
        "outputId": "c38e4a09-863f-4691-8b92-0239af7c895c"
      },
      "source": [
        "df['Gender'].str.strip()\n"
      ],
      "execution_count": null,
      "outputs": [
        {
          "output_type": "execute_result",
          "data": {
            "text/plain": [
              "0       Female\n",
              "1            M\n",
              "2         Male\n",
              "3         Male\n",
              "4         Male\n",
              "         ...  \n",
              "1254      male\n",
              "1255      Male\n",
              "1256      male\n",
              "1257         f\n",
              "1258      Male\n",
              "Name: Gender, Length: 1259, dtype: object"
            ]
          },
          "metadata": {},
          "execution_count": 42
        }
      ]
    },
    {
      "cell_type": "code",
      "metadata": {
        "colab": {
          "base_uri": "https://localhost:8080/"
        },
        "id": "tufSWyRaZBZA",
        "outputId": "91109216-2a69-44b1-a833-47d5e45e08ed"
      },
      "source": [
        "df['Gender'].replace(to_replace = 'female', value = 'Female', inplace = True)\n",
        "df['Gender'].replace(to_replace = 'F', value = 'Female', inplace = True)\n",
        "df['Gender'].replace(to_replace = 'f', value = 'Female', inplace = True)\n",
        "df['Gender'].replace(to_replace = 'Woman', value = 'Female', inplace = True)\n",
        "df['Gender'].replace(to_replace = 'Female ', value = 'Female', inplace = True)\n",
        "df['Gender'].replace(to_replace = 'male', value = 'Male', inplace = True)\n",
        "df['Gender'].replace(to_replace = 'M', value = 'Male', inplace = True)\n",
        "df['Gender'].replace(to_replace = 'm', value = 'Male', inplace = True)\n",
        "df['Gender'].replace(to_replace = 'Make', value = 'Male', inplace = True)\n",
        "df['Gender'].replace(to_replace = 'Male ', value = 'Male', inplace = True)\n",
        "df['Gender'].replace(to_replace = 'Cis Male', value = 'Male', inplace = True)\n",
        "df['Gender'].replace(to_replace = 'Man', value = 'Male', inplace = True)\n",
        "df['Gender'].replace(to_replace = 'Male-ish', value = 'Male', inplace = True)\n",
        "df['Gender'].replace(to_replace = 'Guy (-ish) ^_^', value = 'Male', inplace = True)\n",
        "df['Gender'].replace(to_replace = 'something kinda male?', value = 'Male', inplace = True)\n",
        "df['Gender'].replace(to_replace = 'Cis Female', value = 'Female', inplace = True)\n",
        "df['Gender'].replace(to_replace = 'msle', value = 'Male', inplace = True)\n",
        "df['Gender'].replace(to_replace = 'maile', value = 'Male', inplace = True)\n",
        "df['Gender'].replace(to_replace = 'Mal', value = 'Male', inplace = True)\n",
        "df['Gender'].replace(to_replace = 'ostensibly male, unsure what that really means', value = 'Male', inplace = True)\n",
        "df['Gender'].replace(to_replace = 'cis male', value = 'Male', inplace = True)\n",
        "df['Gender'].replace(to_replace = 'Malr', value = 'Male', inplace = True)\n",
        "df['Gender'].replace(to_replace = 'male leaning androgynous', value = 'Male', inplace = True)\n",
        "df['Gender'].replace(to_replace = 'Cis Man', value = 'Male', inplace = True)\n",
        "df['Gender'].replace(to_replace = 'Mail', value = 'Male', inplace = True)\n",
        "df['Gender'].replace(to_replace = 'Female (trans)', value = 'Other', inplace = True)\n",
        "df['Gender'].replace(to_replace = 'Female (cis)', value = 'Female', inplace = True)\n",
        "df['Gender'].replace(to_replace = 'cis-female/femme', value = 'Female', inplace = True)\n",
        "df['Gender'].replace(to_replace = 'femail', value = 'Female', inplace = True)\n",
        "df['Gender'].replace(to_replace = 'Femake', value = 'Female', inplace = True)\n",
        "df['Gender'].replace(to_replace = 'woman', value = 'Female', inplace = True)\n",
        "df['Gender'].replace(to_replace = 'non-binary', value = 'Other', inplace = True)\n",
        "df['Gender'].replace(to_replace = 'Genderqueer', value = 'Other', inplace = True)\n",
        "df['Gender'].replace(to_replace = 'queer', value = 'Other', inplace = True)\n",
        "df['Gender'].replace(to_replace = 'Trans-female', value = 'Other', inplace = True)\n",
        "df['Gender'].replace(to_replace = 'Neuter', value = 'Other', inplace = True)\n",
        "df['Gender'].replace(to_replace = 'Androgyne', value = 'Other', inplace = True)\n",
        "df['Gender'].replace(to_replace = 'p', value = 'Other', inplace = True)\n",
        "df['Gender'].replace(to_replace = 'A little about you', value = 'Other', inplace = True)\n",
        "df['Gender'].replace(to_replace = 'Agender', value = 'Other', inplace = True)\n",
        "df['Gender'].replace(to_replace = 'fluid', value = 'Other', inplace = True)\n",
        "df['Gender'].replace(to_replace = 'Nah', value = 'Other', inplace = True)\n",
        "df['Gender'].replace(to_replace = 'Trans woman', value = 'Other', inplace = True)\n",
        "df['Gender'].replace(to_replace = 'queer/she/they', value = 'Other', inplace = True)\n",
        "df['Gender'].replace(to_replace = 'All', value = 'Other', inplace = True)\n",
        "df['Gender'].replace(to_replace = 'Enby', value = 'Other', inplace = True)\n",
        "df['Gender'].replace(to_replace = 'Male (CIS)', value = 'Other', inplace = True)\n",
        "\n",
        "\n",
        "print(df['Gender'].value_counts())\n"
      ],
      "execution_count": null,
      "outputs": [
        {
          "output_type": "stream",
          "name": "stdout",
          "text": [
            "Male      994\n",
            "Female    247\n",
            "Other      18\n",
            "Name: Gender, dtype: int64\n"
          ]
        }
      ]
    },
    {
      "cell_type": "code",
      "metadata": {
        "id": "Kx8GSZjL9tBA",
        "colab": {
          "base_uri": "https://localhost:8080/"
        },
        "outputId": "65d579c9-e128-4f07-a72a-4602fc805d9b"
      },
      "source": [
        "#produced univariate visuals for the target and all features\n",
        "#df.boxplot(column = 'Age');\n",
        "#df['Age'].hist();\n",
        "df['Age'].value_counts()"
      ],
      "execution_count": null,
      "outputs": [
        {
          "output_type": "execute_result",
          "data": {
            "text/plain": [
              " 29             85\n",
              " 32             82\n",
              " 26             75\n",
              " 27             71\n",
              " 33             70\n",
              " 28             68\n",
              " 31             67\n",
              " 34             65\n",
              " 30             63\n",
              " 25             61\n",
              " 35             55\n",
              " 23             51\n",
              " 24             46\n",
              " 37             43\n",
              " 38             39\n",
              " 36             37\n",
              " 39             33\n",
              " 40             33\n",
              " 43             28\n",
              " 41             21\n",
              " 22             21\n",
              " 42             20\n",
              " 21             16\n",
              " 45             12\n",
              " 46             12\n",
              " 44             11\n",
              " 19              9\n",
              " 18              7\n",
              " 20              6\n",
              " 48              6\n",
              " 50              6\n",
              " 51              5\n",
              " 56              4\n",
              " 49              4\n",
              " 57              3\n",
              " 54              3\n",
              " 55              3\n",
              " 47              2\n",
              " 60              2\n",
              " 11              1\n",
              " 8               1\n",
              " 5               1\n",
              " 99999999999     1\n",
              "-1726            1\n",
              " 53              1\n",
              " 58              1\n",
              " 61              1\n",
              " 62              1\n",
              " 65              1\n",
              " 72              1\n",
              " 329             1\n",
              "-29              1\n",
              "-1               1\n",
              "Name: Age, dtype: int64"
            ]
          },
          "metadata": {},
          "execution_count": 44
        }
      ]
    },
    {
      "cell_type": "markdown",
      "metadata": {
        "id": "IjEP2YZsKG2O"
      },
      "source": [
        "When making univariate visuals I discovered that some of the Age inputs are nonsensical. There are 8 Age inputs that are bad, I am choosing to drop those rows for two reasons: 1, it is a miniscule percentage of the overall data, 2, anyone who puts something like that for their age is less likely to have answered seriously and are likely to skew the data anyway."
      ]
    },
    {
      "cell_type": "code",
      "metadata": {
        "id": "ConaAT33LjOn"
      },
      "source": [
        "df['Age'].replace(to_replace = -1, value = np.NaN, inplace = True)\n",
        "df['Age'].replace(to_replace = -1726, value = np.NaN, inplace = True)\n",
        "df['Age'].replace(to_replace = -29, value = np.NaN, inplace = True)\n",
        "df['Age'].replace(to_replace = 329, value = np.NaN, inplace = True)\n",
        "df['Age'].replace(to_replace = 5, value = np.NaN, inplace = True)\n",
        "df['Age'].replace(to_replace = 8, value = np.NaN, inplace = True)\n",
        "df['Age'].replace(to_replace = 11, value = np.NaN, inplace = True)\n",
        "df['Age'].replace(to_replace = 99999999999, value = np.NaN, inplace = True)\n"
      ],
      "execution_count": null,
      "outputs": []
    },
    {
      "cell_type": "code",
      "metadata": {
        "colab": {
          "base_uri": "https://localhost:8080/"
        },
        "id": "M3VeVMlXPJhO",
        "outputId": "d3cc2ce5-fec8-4ccd-e916-3b3e5eb7d5da"
      },
      "source": [
        "df.info()"
      ],
      "execution_count": null,
      "outputs": [
        {
          "output_type": "stream",
          "name": "stdout",
          "text": [
            "<class 'pandas.core.frame.DataFrame'>\n",
            "RangeIndex: 1259 entries, 0 to 1258\n",
            "Data columns (total 23 columns):\n",
            " #   Column                     Non-Null Count  Dtype  \n",
            "---  ------                     --------------  -----  \n",
            " 0   Age                        1251 non-null   float64\n",
            " 1   Gender                     1259 non-null   object \n",
            " 2   self_employed              1259 non-null   object \n",
            " 3   family_history             1259 non-null   object \n",
            " 4   treatment                  1259 non-null   object \n",
            " 5   work_interfere             1259 non-null   object \n",
            " 6   no_employees               1259 non-null   object \n",
            " 7   remote_work                1259 non-null   object \n",
            " 8   tech_company               1259 non-null   object \n",
            " 9   benefits                   1259 non-null   object \n",
            " 10  care_options               1259 non-null   object \n",
            " 11  wellness_program           1259 non-null   object \n",
            " 12  seek_help                  1259 non-null   object \n",
            " 13  anonymity                  1259 non-null   object \n",
            " 14  leave                      1259 non-null   object \n",
            " 15  mental_health_consequence  1259 non-null   object \n",
            " 16  phys_health_consequence    1259 non-null   object \n",
            " 17  coworkers                  1259 non-null   object \n",
            " 18  supervisor                 1259 non-null   object \n",
            " 19  mental_health_interview    1259 non-null   object \n",
            " 20  phys_health_interview      1259 non-null   object \n",
            " 21  mental_vs_physical         1259 non-null   object \n",
            " 22  obs_consequence            1259 non-null   object \n",
            "dtypes: float64(1), object(22)\n",
            "memory usage: 226.4+ KB\n"
          ]
        }
      ]
    },
    {
      "cell_type": "code",
      "metadata": {
        "id": "JkOdE_qG64A2"
      },
      "source": [
        "df.dropna(0, how = 'any', inplace = True)\n"
      ],
      "execution_count": null,
      "outputs": []
    },
    {
      "cell_type": "code",
      "metadata": {
        "id": "CTWCSCj76wPq"
      },
      "source": [
        "df['Age'] = df['Age'].astype(int)\n"
      ],
      "execution_count": null,
      "outputs": []
    },
    {
      "cell_type": "code",
      "metadata": {
        "colab": {
          "base_uri": "https://localhost:8080/"
        },
        "id": "6jcHXoLz66fQ",
        "outputId": "ec90e1e5-0cf2-40b6-e32c-327b59a0a06c"
      },
      "source": [
        "df.info()"
      ],
      "execution_count": null,
      "outputs": [
        {
          "output_type": "stream",
          "name": "stdout",
          "text": [
            "<class 'pandas.core.frame.DataFrame'>\n",
            "Int64Index: 1251 entries, 0 to 1258\n",
            "Data columns (total 23 columns):\n",
            " #   Column                     Non-Null Count  Dtype \n",
            "---  ------                     --------------  ----- \n",
            " 0   Age                        1251 non-null   int64 \n",
            " 1   Gender                     1251 non-null   object\n",
            " 2   self_employed              1251 non-null   object\n",
            " 3   family_history             1251 non-null   object\n",
            " 4   treatment                  1251 non-null   object\n",
            " 5   work_interfere             1251 non-null   object\n",
            " 6   no_employees               1251 non-null   object\n",
            " 7   remote_work                1251 non-null   object\n",
            " 8   tech_company               1251 non-null   object\n",
            " 9   benefits                   1251 non-null   object\n",
            " 10  care_options               1251 non-null   object\n",
            " 11  wellness_program           1251 non-null   object\n",
            " 12  seek_help                  1251 non-null   object\n",
            " 13  anonymity                  1251 non-null   object\n",
            " 14  leave                      1251 non-null   object\n",
            " 15  mental_health_consequence  1251 non-null   object\n",
            " 16  phys_health_consequence    1251 non-null   object\n",
            " 17  coworkers                  1251 non-null   object\n",
            " 18  supervisor                 1251 non-null   object\n",
            " 19  mental_health_interview    1251 non-null   object\n",
            " 20  phys_health_interview      1251 non-null   object\n",
            " 21  mental_vs_physical         1251 non-null   object\n",
            " 22  obs_consequence            1251 non-null   object\n",
            "dtypes: int64(1), object(22)\n",
            "memory usage: 234.6+ KB\n"
          ]
        }
      ]
    },
    {
      "cell_type": "code",
      "metadata": {
        "colab": {
          "base_uri": "https://localhost:8080/"
        },
        "id": "MMk9tXyr7Pjh",
        "outputId": "c94af1a1-cf7c-46a4-b232-2e73273511a2"
      },
      "source": [
        "df['Age'].value_counts()"
      ],
      "execution_count": null,
      "outputs": [
        {
          "output_type": "execute_result",
          "data": {
            "text/plain": [
              "29    85\n",
              "32    82\n",
              "26    75\n",
              "27    71\n",
              "33    70\n",
              "28    68\n",
              "31    67\n",
              "34    65\n",
              "30    63\n",
              "25    61\n",
              "35    55\n",
              "23    51\n",
              "24    46\n",
              "37    43\n",
              "38    39\n",
              "36    37\n",
              "39    33\n",
              "40    33\n",
              "43    28\n",
              "41    21\n",
              "22    21\n",
              "42    20\n",
              "21    16\n",
              "46    12\n",
              "45    12\n",
              "44    11\n",
              "19     9\n",
              "18     7\n",
              "48     6\n",
              "50     6\n",
              "20     6\n",
              "51     5\n",
              "49     4\n",
              "56     4\n",
              "55     3\n",
              "54     3\n",
              "57     3\n",
              "47     2\n",
              "60     2\n",
              "61     1\n",
              "62     1\n",
              "65     1\n",
              "58     1\n",
              "53     1\n",
              "72     1\n",
              "Name: Age, dtype: int64"
            ]
          },
          "metadata": {},
          "execution_count": 50
        }
      ]
    },
    {
      "cell_type": "code",
      "metadata": {
        "colab": {
          "base_uri": "https://localhost:8080/",
          "height": 265
        },
        "id": "UCYg9HaI7lV5",
        "outputId": "a4a8606b-f97f-40a4-d623-2880626a9e70"
      },
      "source": [
        "df['Age'].hist();\n"
      ],
      "execution_count": null,
      "outputs": [
        {
          "output_type": "display_data",
          "data": {
            "image/png": "[encoded data removed]",
            "text/plain": [
              "<Figure size 432x288 with 1 Axes>"
            ]
          },
          "metadata": {
            "needs_background": "light"
          }
        }
      ]
    },
    {
      "cell_type": "code",
      "metadata": {
        "colab": {
          "base_uri": "https://localhost:8080/",
          "height": 282
        },
        "id": "5KUuuNkK7nS4",
        "outputId": "4d5dd558-7700-4ec7-c221-66397f025bb1"
      },
      "source": [
        "plt.plot(df['Age'])"
      ],
      "execution_count": null,
      "outputs": [
        {
          "output_type": "execute_result",
          "data": {
            "text/plain": [
              "[<matplotlib.lines.Line2D at 0x7ff6149ae7d0>]"
            ]
          },
          "metadata": {},
          "execution_count": 52
        },
        {
          "output_type": "display_data",
          "data": {
            "image/png": "[encoded data removed]",
            "text/plain": [
              "<Figure size 432x288 with 1 Axes>"
            ]
          },
          "metadata": {
            "needs_background": "light"
          }
        }
      ]
    },
    {
      "cell_type": "code",
      "metadata": {
        "colab": {
          "base_uri": "https://localhost:8080/",
          "height": 282
        },
        "id": "m0xNafcR7qWE",
        "outputId": "482fd8e8-159b-4ee0-fa8a-53979ef2c66c"
      },
      "source": [
        "plt.scatter(df['Age'], df['Gender'])"
      ],
      "execution_count": null,
      "outputs": [
        {
          "output_type": "execute_result",
          "data": {
            "text/plain": [
              "<matplotlib.collections.PathCollection at 0x7ff614990250>"
            ]
          },
          "metadata": {},
          "execution_count": 54
        },
        {
          "output_type": "display_data",
          "data": {
            "image/png": "[encoded data removed]",
            "text/plain": [
              "<Figure size 432x288 with 1 Axes>"
            ]
          },
          "metadata": {
            "needs_background": "light"
          }
        }
      ]
    },
    {
      "cell_type": "code",
      "metadata": {
        "colab": {
          "base_uri": "https://localhost:8080/",
          "height": 265
        },
        "id": "vp1J6-Ol7vJe",
        "outputId": "d3616857-4814-4b3e-9acb-5484afa7928d"
      },
      "source": [
        "df.boxplot(column = 'Age');"
      ],
      "execution_count": null,
      "outputs": [
        {
          "output_type": "display_data",
          "data": {
            "image/png": "[encoded data removed]",
            "text/plain": [
              "<Figure size 432x288 with 1 Axes>"
            ]
          },
          "metadata": {
            "needs_background": "light"
          }
        }
      ]
    },
    {
      "cell_type": "code",
      "metadata": {
        "colab": {
          "base_uri": "https://localhost:8080/",
          "height": 265
        },
        "id": "KecD99nuQ5dH",
        "outputId": "e7e11e98-b5dd-4fa2-e5f5-fd95a9403444"
      },
      "source": [
        "df['Gender'].hist();\n"
      ],
      "execution_count": null,
      "outputs": [
        {
          "output_type": "display_data",
          "data": {
            "image/png": "[encoded data removed]",
            "text/plain": [
              "<Figure size 432x288 with 1 Axes>"
            ]
          },
          "metadata": {
            "needs_background": "light"
          }
        }
      ]
    },
    {
      "cell_type": "code",
      "metadata": {
        "colab": {
          "base_uri": "https://localhost:8080/",
          "height": 265
        },
        "id": "kfam8rz5SzJo",
        "outputId": "0a2badcb-3fb7-4751-ab49-8f92e89b5ef7"
      },
      "source": [
        "df['self_employed'].hist();\n",
        "\n",
        "  "
      ],
      "execution_count": null,
      "outputs": [
        {
          "output_type": "display_data",
          "data": {
            "image/png": "[encoded data removed]",
            "text/plain": [
              "<Figure size 432x288 with 1 Axes>"
            ]
          },
          "metadata": {
            "needs_background": "light"
          }
        }
      ]
    },
    {
      "cell_type": "code",
      "metadata": {
        "colab": {
          "base_uri": "https://localhost:8080/",
          "height": 269
        },
        "id": "wtSIis_YS0ll",
        "outputId": "52d556c9-9ada-4707-d885-a6e43541181f"
      },
      "source": [
        "df['family_history'].hist();\n"
      ],
      "execution_count": null,
      "outputs": [
        {
          "output_type": "display_data",
          "data": {
            "image/png": "[encoded data removed]",
            "text/plain": [
              "<Figure size 432x288 with 1 Axes>"
            ]
          },
          "metadata": {
            "needs_background": "light"
          }
        }
      ]
    },
    {
      "cell_type": "code",
      "metadata": {
        "colab": {
          "base_uri": "https://localhost:8080/",
          "height": 282
        },
        "id": "1_7lPx5DS2Kt",
        "outputId": "8319ef81-fa31-426a-ff52-7212e977638b"
      },
      "source": [
        "df['treatment'].hist()\n"
      ],
      "execution_count": null,
      "outputs": [
        {
          "output_type": "execute_result",
          "data": {
            "text/plain": [
              "<matplotlib.axes._subplots.AxesSubplot at 0x7ff614eae090>"
            ]
          },
          "metadata": {},
          "execution_count": 59
        },
        {
          "output_type": "display_data",
          "data": {
            "image/png": "[encoded data removed]",
            "text/plain": [
              "<Figure size 432x288 with 1 Axes>"
            ]
          },
          "metadata": {
            "needs_background": "light"
          }
        }
      ]
    },
    {
      "cell_type": "code",
      "metadata": {
        "colab": {
          "base_uri": "https://localhost:8080/",
          "height": 282
        },
        "id": "bBd6Q1mcS3Xu",
        "outputId": "af4e65bf-3e91-476f-bc04-54829713dfb3"
      },
      "source": [
        "df['work_interfere'].hist()\n"
      ],
      "execution_count": null,
      "outputs": [
        {
          "output_type": "execute_result",
          "data": {
            "text/plain": [
              "<matplotlib.axes._subplots.AxesSubplot at 0x7ff6148b0f10>"
            ]
          },
          "metadata": {},
          "execution_count": 60
        },
        {
          "output_type": "display_data",
          "data": {
            "image/png": "[encoded data removed]",
            "text/plain": [
              "<Figure size 432x288 with 1 Axes>"
            ]
          },
          "metadata": {
            "needs_background": "light"
          }
        }
      ]
    },
    {
      "cell_type": "code",
      "metadata": {
        "colab": {
          "base_uri": "https://localhost:8080/",
          "height": 267
        },
        "id": "Yw5i-FgjS5DN",
        "outputId": "f0758f62-154b-4355-cf8f-d1837e85a752"
      },
      "source": [
        "df['no_employees'].hist();\n"
      ],
      "execution_count": null,
      "outputs": [
        {
          "output_type": "display_data",
          "data": {
            "image/png": "[encoded data removed]",
            "text/plain": [
              "<Figure size 432x288 with 1 Axes>"
            ]
          },
          "metadata": {
            "needs_background": "light"
          }
        }
      ]
    },
    {
      "cell_type": "code",
      "metadata": {
        "colab": {
          "base_uri": "https://localhost:8080/",
          "height": 265
        },
        "id": "L0JMLGzzS6fd",
        "outputId": "4aa8ed10-25de-4e29-a41a-c9ef0970613b"
      },
      "source": [
        "df['remote_work'].hist();\n"
      ],
      "execution_count": null,
      "outputs": [
        {
          "output_type": "display_data",
          "data": {
            "image/png": "[encoded data removed]",
            "text/plain": [
              "<Figure size 432x288 with 1 Axes>"
            ]
          },
          "metadata": {
            "needs_background": "light"
          }
        }
      ]
    },
    {
      "cell_type": "code",
      "metadata": {
        "colab": {
          "base_uri": "https://localhost:8080/",
          "height": 265
        },
        "id": "HgOlKjpuS7yb",
        "outputId": "b449a00d-0191-4280-8788-c1bc5ac9dc5b"
      },
      "source": [
        "df['tech_company'].hist();\n"
      ],
      "execution_count": null,
      "outputs": [
        {
          "output_type": "display_data",
          "data": {
            "image/png": "[encoded data removed]",
            "text/plain": [
              "<Figure size 432x288 with 1 Axes>"
            ]
          },
          "metadata": {
            "needs_background": "light"
          }
        }
      ]
    },
    {
      "cell_type": "code",
      "metadata": {
        "colab": {
          "base_uri": "https://localhost:8080/",
          "height": 265
        },
        "id": "WJcjMbRpS8_Z",
        "outputId": "4b67e15b-a28f-4427-8bcc-1c31430713a2"
      },
      "source": [
        "df['benefits'].hist();\n"
      ],
      "execution_count": null,
      "outputs": [
        {
          "output_type": "display_data",
          "data": {
            "image/png": "[encoded data removed]",
            "text/plain": [
              "<Figure size 432x288 with 1 Axes>"
            ]
          },
          "metadata": {
            "needs_background": "light"
          }
        }
      ]
    },
    {
      "cell_type": "code",
      "metadata": {
        "colab": {
          "base_uri": "https://localhost:8080/",
          "height": 265
        },
        "id": "UvbSolx8S-kk",
        "outputId": "d189fd84-11d5-4315-e2a4-72d1496065c4"
      },
      "source": [
        "df['care_options'].hist();\n"
      ],
      "execution_count": null,
      "outputs": [
        {
          "output_type": "display_data",
          "data": {
            "image/png": "[encoded data removed]",
            "text/plain": [
              "<Figure size 432x288 with 1 Axes>"
            ]
          },
          "metadata": {
            "needs_background": "light"
          }
        }
      ]
    },
    {
      "cell_type": "code",
      "metadata": {
        "colab": {
          "base_uri": "https://localhost:8080/",
          "height": 265
        },
        "id": "lfo2aFzPS_nY",
        "outputId": "a455dad3-54f4-4236-f58c-70459cca5d2f"
      },
      "source": [
        "df['wellness_program'].hist();\n"
      ],
      "execution_count": null,
      "outputs": [
        {
          "output_type": "display_data",
          "data": {
            "image/png": "[encoded data removed]",
            "text/plain": [
              "<Figure size 432x288 with 1 Axes>"
            ]
          },
          "metadata": {
            "needs_background": "light"
          }
        }
      ]
    },
    {
      "cell_type": "code",
      "metadata": {
        "colab": {
          "base_uri": "https://localhost:8080/",
          "height": 265
        },
        "id": "Ckji4tevTAkW",
        "outputId": "ac90231a-ed3f-43e1-dae4-eeb8e5107df2"
      },
      "source": [
        "df['seek_help'].hist();\n"
      ],
      "execution_count": null,
      "outputs": [
        {
          "output_type": "display_data",
          "data": {
            "image/png": "[encoded data removed]",
            "text/plain": [
              "<Figure size 432x288 with 1 Axes>"
            ]
          },
          "metadata": {
            "needs_background": "light"
          }
        }
      ]
    },
    {
      "cell_type": "code",
      "metadata": {
        "colab": {
          "base_uri": "https://localhost:8080/",
          "height": 265
        },
        "id": "_JkmG71gTBqV",
        "outputId": "c174bfb2-a6e4-4791-c8a1-7de525d4e2b3"
      },
      "source": [
        "df['anonymity'].hist();\n"
      ],
      "execution_count": null,
      "outputs": [
        {
          "output_type": "display_data",
          "data": {
            "image/png": "[encoded data removed]",
            "text/plain": [
              "<Figure size 432x288 with 1 Axes>"
            ]
          },
          "metadata": {
            "needs_background": "light"
          }
        }
      ]
    },
    {
      "cell_type": "code",
      "metadata": {
        "colab": {
          "base_uri": "https://localhost:8080/",
          "height": 265
        },
        "id": "Uw4Mnha6TC8A",
        "outputId": "fd4e14c9-ddfc-4aca-d429-b372c4ba919c"
      },
      "source": [
        "df['leave'].hist();\n"
      ],
      "execution_count": null,
      "outputs": [
        {
          "output_type": "display_data",
          "data": {
            "image/png": "[encoded data removed]",
            "text/plain": [
              "<Figure size 432x288 with 1 Axes>"
            ]
          },
          "metadata": {
            "needs_background": "light"
          }
        }
      ]
    },
    {
      "cell_type": "code",
      "metadata": {
        "colab": {
          "base_uri": "https://localhost:8080/",
          "height": 265
        },
        "id": "pJ8uLcUYTEMO",
        "outputId": "c8980754-b69d-497a-863e-1f13717604df"
      },
      "source": [
        "df['mental_health_consequence'].hist();\n"
      ],
      "execution_count": null,
      "outputs": [
        {
          "output_type": "display_data",
          "data": {
            "image/png": "[encoded data removed]",
            "text/plain": [
              "<Figure size 432x288 with 1 Axes>"
            ]
          },
          "metadata": {
            "needs_background": "light"
          }
        }
      ]
    },
    {
      "cell_type": "code",
      "metadata": {
        "colab": {
          "base_uri": "https://localhost:8080/",
          "height": 267
        },
        "id": "5gozqGmaTFm0",
        "outputId": "b2a55987-21e3-4ab6-8be6-ae2c566ab7f5"
      },
      "source": [
        "df['coworkers'].hist();\n"
      ],
      "execution_count": null,
      "outputs": [
        {
          "output_type": "display_data",
          "data": {
            "image/png": "[encoded data removed]",
            "text/plain": [
              "<Figure size 432x288 with 1 Axes>"
            ]
          },
          "metadata": {
            "needs_background": "light"
          }
        }
      ]
    },
    {
      "cell_type": "code",
      "metadata": {
        "colab": {
          "base_uri": "https://localhost:8080/",
          "height": 265
        },
        "id": "AGQVx8wUTG3T",
        "outputId": "d204efdd-af3f-4489-d6c6-2811661c5657"
      },
      "source": [
        "#target variable\n",
        "df['supervisor'].hist();\n"
      ],
      "execution_count": null,
      "outputs": [
        {
          "output_type": "display_data",
          "data": {
            "image/png": "[encoded data removed]",
            "text/plain": [
              "<Figure size 432x288 with 1 Axes>"
            ]
          },
          "metadata": {
            "needs_background": "light"
          }
        }
      ]
    },
    {
      "cell_type": "code",
      "metadata": {
        "colab": {
          "base_uri": "https://localhost:8080/",
          "height": 265
        },
        "id": "Z_RrB6qKTH5N",
        "outputId": "03d88fe2-b3de-41b5-9812-6938d44b7256"
      },
      "source": [
        "df['mental_health_interview'].hist();\n"
      ],
      "execution_count": null,
      "outputs": [
        {
          "output_type": "display_data",
          "data": {
            "image/png": "[encoded data removed]",
            "text/plain": [
              "<Figure size 432x288 with 1 Axes>"
            ]
          },
          "metadata": {
            "needs_background": "light"
          }
        }
      ]
    },
    {
      "cell_type": "code",
      "metadata": {
        "colab": {
          "base_uri": "https://localhost:8080/",
          "height": 265
        },
        "id": "3F7gEqAjTI3x",
        "outputId": "7f5256f2-95bb-43b6-cfcb-2bab7a898e79"
      },
      "source": [
        "df['phys_health_consequence'].hist();\n"
      ],
      "execution_count": null,
      "outputs": [
        {
          "output_type": "display_data",
          "data": {
            "image/png": "[encoded data removed]",
            "text/plain": [
              "<Figure size 432x288 with 1 Axes>"
            ]
          },
          "metadata": {
            "needs_background": "light"
          }
        }
      ]
    },
    {
      "cell_type": "code",
      "metadata": {
        "colab": {
          "base_uri": "https://localhost:8080/",
          "height": 265
        },
        "id": "rWwlMzRBTKJl",
        "outputId": "eae1bebf-74ec-433b-fe44-060a17027ff8"
      },
      "source": [
        "df['phys_health_interview'].hist();\n"
      ],
      "execution_count": null,
      "outputs": [
        {
          "output_type": "display_data",
          "data": {
            "image/png": "[encoded data removed]",
            "text/plain": [
              "<Figure size 432x288 with 1 Axes>"
            ]
          },
          "metadata": {
            "needs_background": "light"
          }
        }
      ]
    },
    {
      "cell_type": "code",
      "metadata": {
        "colab": {
          "base_uri": "https://localhost:8080/",
          "height": 268
        },
        "id": "Duvu8wtoTLNc",
        "outputId": "4598653f-8ac1-4fe8-ee94-e8a187a2b741"
      },
      "source": [
        "df['mental_vs_physical'].hist();\n"
      ],
      "execution_count": null,
      "outputs": [
        {
          "output_type": "display_data",
          "data": {
            "image/png": "[encoded data removed]",
            "text/plain": [
              "<Figure size 432x288 with 1 Axes>"
            ]
          },
          "metadata": {
            "needs_background": "light"
          }
        }
      ]
    },
    {
      "cell_type": "code",
      "metadata": {
        "colab": {
          "base_uri": "https://localhost:8080/",
          "height": 265
        },
        "id": "Bw7AMN5WTP3V",
        "outputId": "4741280f-7db8-4b6c-f995-0c21e39d148c"
      },
      "source": [
        "df['obs_consequence'].hist();"
      ],
      "execution_count": null,
      "outputs": [
        {
          "output_type": "display_data",
          "data": {
            "image/png": "[encoded data removed]",
            "text/plain": [
              "<Figure size 432x288 with 1 Axes>"
            ]
          },
          "metadata": {
            "needs_background": "light"
          }
        }
      ]
    },
    {
      "cell_type": "markdown",
      "metadata": {
        "id": "6lkaeIAO8XMM"
      },
      "source": [
        "Identified outliers:\n",
        "\n",
        "There are very few self-employed people in this study. The majoirty of participants are male. Most participants are in their 30's, with some outliers in their 60s and 70s. Most of the participants work at tech companies. Most would not have anonymity if they talked about their mental health. Most of them did not have a mental health interview for their job.\n"
      ]
    },
    {
      "cell_type": "code",
      "metadata": {
        "id": "He6FgqLO9xgf",
        "colab": {
          "base_uri": "https://localhost:8080/",
          "height": 286
        },
        "outputId": "96fc1b1b-64b9-4804-ccd7-04f4028f9433"
      },
      "source": [
        "#produce a correlation heatmap and identify any moderate or strong correlations \n",
        "#between your target and your features and/or between one feature and anothe\n",
        "corr=df.corr()\n",
        "sns.heatmap(corr) "
      ],
      "execution_count": null,
      "outputs": [
        {
          "output_type": "execute_result",
          "data": {
            "text/plain": [
              "<matplotlib.axes._subplots.AxesSubplot at 0x7ff61497cc90>"
            ]
          },
          "metadata": {},
          "execution_count": 79
        },
        {
          "output_type": "display_data",
          "data": {
            "image/png": "[encoded data removed]",
            "text/plain": [
              "<Figure size 432x288 with 2 Axes>"
            ]
          },
          "metadata": {
            "needs_background": "light"
          }
        }
      ]
    },
    {
      "cell_type": "markdown",
      "metadata": {
        "id": "1cTGd6OOHvYA"
      },
      "source": [
        "A heatmap at this point is pointless because I only have one numerical feature."
      ]
    },
    {
      "cell_type": "code",
      "metadata": {
        "id": "cydo-sHkHWZE"
      },
      "source": [
        ""
      ],
      "execution_count": null,
      "outputs": []
    }
  ]
}