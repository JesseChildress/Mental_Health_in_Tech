{
  "nbformat": 4,
  "nbformat_minor": 0,
  "metadata": {
    "colab": {
      "name": " Project 2, Part 4.ipynb",
      "provenance": [],
      "collapsed_sections": [],
      "mount_file_id": "1g14oaRHNiXCTrpl72887V9fmhmBCZssS",
      "authorship_tag": "ABX9TyPaK1kc5VOKx4VWoOl+9g69",
      "include_colab_link": true
    },
    "kernelspec": {
      "name": "python3",
      "display_name": "Python 3"
    },
    "language_info": {
      "name": "python"
    }
  },
  "cells": [
    {
      "cell_type": "markdown",
      "metadata": {
        "id": "view-in-github",
        "colab_type": "text"
      },
      "source": [
        "<a href=\"https://colab.research.google.com/github/JesseChildress/Mental_Health_in_Tech/blob/main/Mental_Health_in_Tech_Project.ipynb\" target=\"_parent\"><img src=\"https://colab.research.google.com/assets/colab-badge.svg\" alt=\"Open In Colab\"/></a>"
      ]
    },
    {
      "cell_type": "code",
      "metadata": {
        "colab": {
          "base_uri": "https://localhost:8080/",
          "height": 309
        },
        "id": "-EIOCGE2iud7",
        "outputId": "6731e16c-6994-4553-bfc4-5fa09f797de5"
      },
      "source": [
        "import pandas as pd\n",
        "import numpy as np\n",
        "from xgboost import XGBClassifier\n",
        "from lightgbm import LGBMClassifier\n",
        "from sklearn.metrics import classification_report, silhouette_score, plot_confusion_matrix\n",
        "import matplotlib.pyplot as plt\n",
        "import seaborn as sns\n",
        "from sklearn.model_selection import train_test_split, GridSearchCV \n",
        "from sklearn.preprocessing import StandardScaler,  LabelEncoder\n",
        "from sklearn.pipeline import make_pipeline\n",
        "from sklearn.ensemble import RandomForestClassifier, BaggingClassifier, GradientBoostingClassifier\n",
        "from sklearn.linear_model import LogisticRegression\n",
        "from sklearn.neighbors import KNeighborsClassifier\n",
        "from sklearn.cluster import DBSCAN, KMeans, AgglomerativeClustering\n",
        "import scipy.cluster.hierarchy as sch\n",
        "from sklearn.decomposition import PCA\n",
        "#First Choice Data Set\n",
        "df = pd.read_csv('/content/Mental Health in Tech.csv')\n",
        "df.head()"
      ],
      "execution_count": 656,
      "outputs": [
        {
          "output_type": "execute_result",
          "data": {
            "text/html": [
              "<div>\n",
              "<style scoped>\n",
              "    .dataframe tbody tr th:only-of-type {\n",
              "        vertical-align: middle;\n",
              "    }\n",
              "\n",
              "    .dataframe tbody tr th {\n",
              "        vertical-align: top;\n",
              "    }\n",
              "\n",
              "    .dataframe thead th {\n",
              "        text-align: right;\n",
              "    }\n",
              "</style>\n",
              "<table border=\"1\" class=\"dataframe\">\n",
              "  <thead>\n",
              "    <tr style=\"text-align: right;\">\n",
              "      <th></th>\n",
              "      <th>Timestamp</th>\n",
              "      <th>Age</th>\n",
              "      <th>Gender</th>\n",
              "      <th>Country</th>\n",
              "      <th>state</th>\n",
              "      <th>self_employed</th>\n",
              "      <th>family_history</th>\n",
              "      <th>treatment</th>\n",
              "      <th>work_interfere</th>\n",
              "      <th>no_employees</th>\n",
              "      <th>remote_work</th>\n",
              "      <th>tech_company</th>\n",
              "      <th>benefits</th>\n",
              "      <th>care_options</th>\n",
              "      <th>wellness_program</th>\n",
              "      <th>seek_help</th>\n",
              "      <th>anonymity</th>\n",
              "      <th>leave</th>\n",
              "      <th>mental_health_consequence</th>\n",
              "      <th>phys_health_consequence</th>\n",
              "      <th>coworkers</th>\n",
              "      <th>supervisor</th>\n",
              "      <th>mental_health_interview</th>\n",
              "      <th>phys_health_interview</th>\n",
              "      <th>mental_vs_physical</th>\n",
              "      <th>obs_consequence</th>\n",
              "      <th>comments</th>\n",
              "    </tr>\n",
              "  </thead>\n",
              "  <tbody>\n",
              "    <tr>\n",
              "      <th>0</th>\n",
              "      <td>2014-08-27 11:29:31</td>\n",
              "      <td>37</td>\n",
              "      <td>Female</td>\n",
              "      <td>United States</td>\n",
              "      <td>IL</td>\n",
              "      <td>NaN</td>\n",
              "      <td>No</td>\n",
              "      <td>Yes</td>\n",
              "      <td>Often</td>\n",
              "      <td>6-25</td>\n",
              "      <td>No</td>\n",
              "      <td>Yes</td>\n",
              "      <td>Yes</td>\n",
              "      <td>Not sure</td>\n",
              "      <td>No</td>\n",
              "      <td>Yes</td>\n",
              "      <td>Yes</td>\n",
              "      <td>Somewhat easy</td>\n",
              "      <td>No</td>\n",
              "      <td>No</td>\n",
              "      <td>Some of them</td>\n",
              "      <td>Yes</td>\n",
              "      <td>No</td>\n",
              "      <td>Maybe</td>\n",
              "      <td>Yes</td>\n",
              "      <td>No</td>\n",
              "      <td>NaN</td>\n",
              "    </tr>\n",
              "    <tr>\n",
              "      <th>1</th>\n",
              "      <td>2014-08-27 11:29:37</td>\n",
              "      <td>44</td>\n",
              "      <td>M</td>\n",
              "      <td>United States</td>\n",
              "      <td>IN</td>\n",
              "      <td>NaN</td>\n",
              "      <td>No</td>\n",
              "      <td>No</td>\n",
              "      <td>Rarely</td>\n",
              "      <td>More than 1000</td>\n",
              "      <td>No</td>\n",
              "      <td>No</td>\n",
              "      <td>Don't know</td>\n",
              "      <td>No</td>\n",
              "      <td>Don't know</td>\n",
              "      <td>Don't know</td>\n",
              "      <td>Don't know</td>\n",
              "      <td>Don't know</td>\n",
              "      <td>Maybe</td>\n",
              "      <td>No</td>\n",
              "      <td>No</td>\n",
              "      <td>No</td>\n",
              "      <td>No</td>\n",
              "      <td>No</td>\n",
              "      <td>Don't know</td>\n",
              "      <td>No</td>\n",
              "      <td>NaN</td>\n",
              "    </tr>\n",
              "    <tr>\n",
              "      <th>2</th>\n",
              "      <td>2014-08-27 11:29:44</td>\n",
              "      <td>32</td>\n",
              "      <td>Male</td>\n",
              "      <td>Canada</td>\n",
              "      <td>NaN</td>\n",
              "      <td>NaN</td>\n",
              "      <td>No</td>\n",
              "      <td>No</td>\n",
              "      <td>Rarely</td>\n",
              "      <td>6-25</td>\n",
              "      <td>No</td>\n",
              "      <td>Yes</td>\n",
              "      <td>No</td>\n",
              "      <td>No</td>\n",
              "      <td>No</td>\n",
              "      <td>No</td>\n",
              "      <td>Don't know</td>\n",
              "      <td>Somewhat difficult</td>\n",
              "      <td>No</td>\n",
              "      <td>No</td>\n",
              "      <td>Yes</td>\n",
              "      <td>Yes</td>\n",
              "      <td>Yes</td>\n",
              "      <td>Yes</td>\n",
              "      <td>No</td>\n",
              "      <td>No</td>\n",
              "      <td>NaN</td>\n",
              "    </tr>\n",
              "    <tr>\n",
              "      <th>3</th>\n",
              "      <td>2014-08-27 11:29:46</td>\n",
              "      <td>31</td>\n",
              "      <td>Male</td>\n",
              "      <td>United Kingdom</td>\n",
              "      <td>NaN</td>\n",
              "      <td>NaN</td>\n",
              "      <td>Yes</td>\n",
              "      <td>Yes</td>\n",
              "      <td>Often</td>\n",
              "      <td>26-100</td>\n",
              "      <td>No</td>\n",
              "      <td>Yes</td>\n",
              "      <td>No</td>\n",
              "      <td>Yes</td>\n",
              "      <td>No</td>\n",
              "      <td>No</td>\n",
              "      <td>No</td>\n",
              "      <td>Somewhat difficult</td>\n",
              "      <td>Yes</td>\n",
              "      <td>Yes</td>\n",
              "      <td>Some of them</td>\n",
              "      <td>No</td>\n",
              "      <td>Maybe</td>\n",
              "      <td>Maybe</td>\n",
              "      <td>No</td>\n",
              "      <td>Yes</td>\n",
              "      <td>NaN</td>\n",
              "    </tr>\n",
              "    <tr>\n",
              "      <th>4</th>\n",
              "      <td>2014-08-27 11:30:22</td>\n",
              "      <td>31</td>\n",
              "      <td>Male</td>\n",
              "      <td>United States</td>\n",
              "      <td>TX</td>\n",
              "      <td>NaN</td>\n",
              "      <td>No</td>\n",
              "      <td>No</td>\n",
              "      <td>Never</td>\n",
              "      <td>100-500</td>\n",
              "      <td>Yes</td>\n",
              "      <td>Yes</td>\n",
              "      <td>Yes</td>\n",
              "      <td>No</td>\n",
              "      <td>Don't know</td>\n",
              "      <td>Don't know</td>\n",
              "      <td>Don't know</td>\n",
              "      <td>Don't know</td>\n",
              "      <td>No</td>\n",
              "      <td>No</td>\n",
              "      <td>Some of them</td>\n",
              "      <td>Yes</td>\n",
              "      <td>Yes</td>\n",
              "      <td>Yes</td>\n",
              "      <td>Don't know</td>\n",
              "      <td>No</td>\n",
              "      <td>NaN</td>\n",
              "    </tr>\n",
              "  </tbody>\n",
              "</table>\n",
              "</div>"
            ],
            "text/plain": [
              "             Timestamp  Age  Gender  ... mental_vs_physical obs_consequence comments\n",
              "0  2014-08-27 11:29:31   37  Female  ...                Yes              No      NaN\n",
              "1  2014-08-27 11:29:37   44       M  ...         Don't know              No      NaN\n",
              "2  2014-08-27 11:29:44   32    Male  ...                 No              No      NaN\n",
              "3  2014-08-27 11:29:46   31    Male  ...                 No             Yes      NaN\n",
              "4  2014-08-27 11:30:22   31    Male  ...         Don't know              No      NaN\n",
              "\n",
              "[5 rows x 27 columns]"
            ]
          },
          "metadata": {},
          "execution_count": 656
        }
      ]
    },
    {
      "cell_type": "code",
      "metadata": {
        "colab": {
          "base_uri": "https://localhost:8080/"
        },
        "id": "R44VCY9HBS0X",
        "outputId": "b960f6af-17a2-4b49-9983-59031417a205"
      },
      "source": [
        "#checking missing values, dtypes, number of columns and rows, etc.\n",
        "df.info()"
      ],
      "execution_count": 556,
      "outputs": [
        {
          "output_type": "stream",
          "name": "stdout",
          "text": [
            "<class 'pandas.core.frame.DataFrame'>\n",
            "RangeIndex: 1259 entries, 0 to 1258\n",
            "Data columns (total 27 columns):\n",
            " #   Column                     Non-Null Count  Dtype \n",
            "---  ------                     --------------  ----- \n",
            " 0   Timestamp                  1259 non-null   object\n",
            " 1   Age                        1259 non-null   int64 \n",
            " 2   Gender                     1259 non-null   object\n",
            " 3   Country                    1259 non-null   object\n",
            " 4   state                      744 non-null    object\n",
            " 5   self_employed              1241 non-null   object\n",
            " 6   family_history             1259 non-null   object\n",
            " 7   treatment                  1259 non-null   object\n",
            " 8   work_interfere             995 non-null    object\n",
            " 9   no_employees               1259 non-null   object\n",
            " 10  remote_work                1259 non-null   object\n",
            " 11  tech_company               1259 non-null   object\n",
            " 12  benefits                   1259 non-null   object\n",
            " 13  care_options               1259 non-null   object\n",
            " 14  wellness_program           1259 non-null   object\n",
            " 15  seek_help                  1259 non-null   object\n",
            " 16  anonymity                  1259 non-null   object\n",
            " 17  leave                      1259 non-null   object\n",
            " 18  mental_health_consequence  1259 non-null   object\n",
            " 19  phys_health_consequence    1259 non-null   object\n",
            " 20  coworkers                  1259 non-null   object\n",
            " 21  supervisor                 1259 non-null   object\n",
            " 22  mental_health_interview    1259 non-null   object\n",
            " 23  phys_health_interview      1259 non-null   object\n",
            " 24  mental_vs_physical         1259 non-null   object\n",
            " 25  obs_consequence            1259 non-null   object\n",
            " 26  comments                   164 non-null    object\n",
            "dtypes: int64(1), object(26)\n",
            "memory usage: 265.7+ KB\n"
          ]
        }
      ]
    },
    {
      "cell_type": "code",
      "metadata": {
        "colab": {
          "base_uri": "https://localhost:8080/"
        },
        "id": "UaTA9PDG8vlT",
        "outputId": "dbdb26d2-adea-45e8-971d-1c4fbf4322f3"
      },
      "source": [
        "#deleted duplicate rows\n",
        "df.duplicated().sum()\n"
      ],
      "execution_count": 557,
      "outputs": [
        {
          "output_type": "execute_result",
          "data": {
            "text/plain": [
              "0"
            ]
          },
          "metadata": {},
          "execution_count": 557
        }
      ]
    },
    {
      "cell_type": "markdown",
      "metadata": {
        "id": "Q6oC7YdZ-b4r"
      },
      "source": [
        "No Duplicates"
      ]
    },
    {
      "cell_type": "code",
      "metadata": {
        "id": "J1bbGo0v9lW6"
      },
      "source": [
        "#deleted unnecessary columns\n",
        "#this column will have no effect on the outcome\n",
        "del df['Timestamp']\n",
        "#this column will have no effect on the outcome\n",
        "del df['comments']\n",
        "#While this column could have some relevance, it is likely to be minimal and nearly half the values are missing anyway\n",
        "del df['state']\n",
        "#Most are from the US; the few outliers are likely to have little effect on the overall analysis\n",
        "del df['Country']"
      ],
      "execution_count": 558,
      "outputs": []
    },
    {
      "cell_type": "code",
      "metadata": {
        "id": "-i3nv7qA9ov5"
      },
      "source": [
        "#identified and addressed missing values : work_interfere, self_employed\n",
        "#I'm going to fill both columns with \"Unknown\" so that we can use that data but the data\n",
        "#for these columns won't skew the data\n",
        "df['work_interfere'].fillna(\"Unknown\", inplace = True)\n",
        "df['self_employed'].fillna(\"Unknown\", inplace = True)"
      ],
      "execution_count": 559,
      "outputs": []
    },
    {
      "cell_type": "code",
      "metadata": {
        "colab": {
          "base_uri": "https://localhost:8080/"
        },
        "id": "FAz6w3woUS2_",
        "outputId": "67d06db8-b860-4943-f26c-d6e4f40ca97c"
      },
      "source": [
        "#confirming all values filled in \n",
        "df.info()"
      ],
      "execution_count": 560,
      "outputs": [
        {
          "output_type": "stream",
          "name": "stdout",
          "text": [
            "<class 'pandas.core.frame.DataFrame'>\n",
            "RangeIndex: 1259 entries, 0 to 1258\n",
            "Data columns (total 23 columns):\n",
            " #   Column                     Non-Null Count  Dtype \n",
            "---  ------                     --------------  ----- \n",
            " 0   Age                        1259 non-null   int64 \n",
            " 1   Gender                     1259 non-null   object\n",
            " 2   self_employed              1259 non-null   object\n",
            " 3   family_history             1259 non-null   object\n",
            " 4   treatment                  1259 non-null   object\n",
            " 5   work_interfere             1259 non-null   object\n",
            " 6   no_employees               1259 non-null   object\n",
            " 7   remote_work                1259 non-null   object\n",
            " 8   tech_company               1259 non-null   object\n",
            " 9   benefits                   1259 non-null   object\n",
            " 10  care_options               1259 non-null   object\n",
            " 11  wellness_program           1259 non-null   object\n",
            " 12  seek_help                  1259 non-null   object\n",
            " 13  anonymity                  1259 non-null   object\n",
            " 14  leave                      1259 non-null   object\n",
            " 15  mental_health_consequence  1259 non-null   object\n",
            " 16  phys_health_consequence    1259 non-null   object\n",
            " 17  coworkers                  1259 non-null   object\n",
            " 18  supervisor                 1259 non-null   object\n",
            " 19  mental_health_interview    1259 non-null   object\n",
            " 20  phys_health_interview      1259 non-null   object\n",
            " 21  mental_vs_physical         1259 non-null   object\n",
            " 22  obs_consequence            1259 non-null   object\n",
            "dtypes: int64(1), object(22)\n",
            "memory usage: 226.4+ KB\n"
          ]
        }
      ]
    },
    {
      "cell_type": "code",
      "metadata": {
        "id": "_q1LM4J-9rG_",
        "colab": {
          "base_uri": "https://localhost:8080/"
        },
        "outputId": "24b5ee18-f97e-4f95-c8aa-303141418dfe"
      },
      "source": [
        "#identified and corrected inconsistencies in data for categorical values (i.e. Cat, cat, cats)\n",
        "print(df['Gender'].value_counts())\n",
        "print(df['self_employed'].value_counts())\n",
        "print(df['family_history'].value_counts())\n",
        "print(df['treatment'].value_counts())\n",
        "print(df['work_interfere'].value_counts())\n",
        "print(df['no_employees'].value_counts())\n",
        "print(df['remote_work'].value_counts())\n",
        "print(df['tech_company'].value_counts())\n",
        "print(df['benefits'].value_counts())\n",
        "print(df['care_options'].value_counts())\n",
        "print(df['wellness_program'].value_counts())\n",
        "print(df['seek_help'].value_counts())\n",
        "print(df['anonymity'].value_counts())\n",
        "print(df['leave'].value_counts())\n",
        "print(df['mental_health_consequence'].value_counts())\n",
        "print(df['coworkers'].value_counts())\n",
        "print(df['supervisor'].value_counts())\n",
        "print(df['mental_health_interview'].value_counts())\n",
        "print(df['phys_health_consequence'].value_counts())\n",
        "print(df['phys_health_interview'].value_counts())\n",
        "print(df['mental_vs_physical'].value_counts())\n",
        "print(df['obs_consequence'].value_counts())\n"
      ],
      "execution_count": 561,
      "outputs": [
        {
          "output_type": "stream",
          "name": "stdout",
          "text": [
            "Male                                              615\n",
            "male                                              206\n",
            "Female                                            121\n",
            "M                                                 116\n",
            "female                                             62\n",
            "F                                                  38\n",
            "m                                                  34\n",
            "f                                                  15\n",
            "Make                                                4\n",
            "Woman                                               3\n",
            "Male                                                3\n",
            "Man                                                 2\n",
            "Female (trans)                                      2\n",
            "Cis Male                                            2\n",
            "Female                                              2\n",
            "Guy (-ish) ^_^                                      1\n",
            "Mail                                                1\n",
            "male leaning androgynous                            1\n",
            "queer                                               1\n",
            "Female (cis)                                        1\n",
            "msle                                                1\n",
            "Malr                                                1\n",
            "p                                                   1\n",
            "Neuter                                              1\n",
            "Male (CIS)                                          1\n",
            "woman                                               1\n",
            "Trans-female                                        1\n",
            "A little about you                                  1\n",
            "something kinda male?                               1\n",
            "cis-female/femme                                    1\n",
            "maile                                               1\n",
            "Cis Female                                          1\n",
            "Genderqueer                                         1\n",
            "Nah                                                 1\n",
            "ostensibly male, unsure what that really means      1\n",
            "Cis Man                                             1\n",
            "Trans woman                                         1\n",
            "Femake                                              1\n",
            "Agender                                             1\n",
            "All                                                 1\n",
            "femail                                              1\n",
            "non-binary                                          1\n",
            "cis male                                            1\n",
            "queer/she/they                                      1\n",
            "fluid                                               1\n",
            "Androgyne                                           1\n",
            "Enby                                                1\n",
            "Mal                                                 1\n",
            "Male-ish                                            1\n",
            "Name: Gender, dtype: int64\n",
            "No         1095\n",
            "Yes         146\n",
            "Unknown      18\n",
            "Name: self_employed, dtype: int64\n",
            "No     767\n",
            "Yes    492\n",
            "Name: family_history, dtype: int64\n",
            "Yes    637\n",
            "No     622\n",
            "Name: treatment, dtype: int64\n",
            "Sometimes    465\n",
            "Unknown      264\n",
            "Never        213\n",
            "Rarely       173\n",
            "Often        144\n",
            "Name: work_interfere, dtype: int64\n",
            "6-25              290\n",
            "26-100            289\n",
            "More than 1000    282\n",
            "100-500           176\n",
            "1-5               162\n",
            "500-1000           60\n",
            "Name: no_employees, dtype: int64\n",
            "No     883\n",
            "Yes    376\n",
            "Name: remote_work, dtype: int64\n",
            "Yes    1031\n",
            "No      228\n",
            "Name: tech_company, dtype: int64\n",
            "Yes           477\n",
            "Don't know    408\n",
            "No            374\n",
            "Name: benefits, dtype: int64\n",
            "No          501\n",
            "Yes         444\n",
            "Not sure    314\n",
            "Name: care_options, dtype: int64\n",
            "No            842\n",
            "Yes           229\n",
            "Don't know    188\n",
            "Name: wellness_program, dtype: int64\n",
            "No            646\n",
            "Don't know    363\n",
            "Yes           250\n",
            "Name: seek_help, dtype: int64\n",
            "Don't know    819\n",
            "Yes           375\n",
            "No             65\n",
            "Name: anonymity, dtype: int64\n",
            "Don't know            563\n",
            "Somewhat easy         266\n",
            "Very easy             206\n",
            "Somewhat difficult    126\n",
            "Very difficult         98\n",
            "Name: leave, dtype: int64\n",
            "No       490\n",
            "Maybe    477\n",
            "Yes      292\n",
            "Name: mental_health_consequence, dtype: int64\n",
            "Some of them    774\n",
            "No              260\n",
            "Yes             225\n",
            "Name: coworkers, dtype: int64\n",
            "Yes             516\n",
            "No              393\n",
            "Some of them    350\n",
            "Name: supervisor, dtype: int64\n",
            "No       1008\n",
            "Maybe     207\n",
            "Yes        44\n",
            "Name: mental_health_interview, dtype: int64\n",
            "No       925\n",
            "Maybe    273\n",
            "Yes       61\n",
            "Name: phys_health_consequence, dtype: int64\n",
            "Maybe    557\n",
            "No       500\n",
            "Yes      202\n",
            "Name: phys_health_interview, dtype: int64\n",
            "Don't know    576\n",
            "Yes           343\n",
            "No            340\n",
            "Name: mental_vs_physical, dtype: int64\n",
            "No     1075\n",
            "Yes     184\n",
            "Name: obs_consequence, dtype: int64\n"
          ]
        }
      ]
    },
    {
      "cell_type": "markdown",
      "metadata": {
        "id": "hG32xRFZYKoU"
      },
      "source": [
        "The Only column with inconsistencies is 'Gender'. I will address inconsistencies by putting anything that evidently should be \"Male\" or \"Female\" into those categories, and add others that are unclear or non-traditional into a third, \"other\" category. While this will not represent the divesity of gender identities it will be a way to get a reasonable sample size that represents a different experience other than either identifying as male or female"
      ]
    },
    {
      "cell_type": "code",
      "metadata": {
        "colab": {
          "base_uri": "https://localhost:8080/"
        },
        "id": "udMLPPEEZfen",
        "outputId": "5fa712c1-a8bb-45d7-8f99-abc7d9b288c2"
      },
      "source": [
        "df['Gender'].str.strip()\n"
      ],
      "execution_count": 562,
      "outputs": [
        {
          "output_type": "execute_result",
          "data": {
            "text/plain": [
              "0       Female\n",
              "1            M\n",
              "2         Male\n",
              "3         Male\n",
              "4         Male\n",
              "         ...  \n",
              "1254      male\n",
              "1255      Male\n",
              "1256      male\n",
              "1257         f\n",
              "1258      Male\n",
              "Name: Gender, Length: 1259, dtype: object"
            ]
          },
          "metadata": {},
          "execution_count": 562
        }
      ]
    },
    {
      "cell_type": "code",
      "metadata": {
        "colab": {
          "base_uri": "https://localhost:8080/"
        },
        "id": "tufSWyRaZBZA",
        "outputId": "2259ed8c-4d23-4383-ff08-89b30fa973d2"
      },
      "source": [
        "df['Gender'].replace(to_replace = 'female', value = 'Female', inplace = True)\n",
        "df['Gender'].replace(to_replace = 'F', value = 'Female', inplace = True)\n",
        "df['Gender'].replace(to_replace = 'f', value = 'Female', inplace = True)\n",
        "df['Gender'].replace(to_replace = 'Woman', value = 'Female', inplace = True)\n",
        "df['Gender'].replace(to_replace = 'Female ', value = 'Female', inplace = True)\n",
        "df['Gender'].replace(to_replace = 'male', value = 'Male', inplace = True)\n",
        "df['Gender'].replace(to_replace = 'M', value = 'Male', inplace = True)\n",
        "df['Gender'].replace(to_replace = 'm', value = 'Male', inplace = True)\n",
        "df['Gender'].replace(to_replace = 'Make', value = 'Male', inplace = True)\n",
        "df['Gender'].replace(to_replace = 'Male ', value = 'Male', inplace = True)\n",
        "df['Gender'].replace(to_replace = 'Cis Male', value = 'Male', inplace = True)\n",
        "df['Gender'].replace(to_replace = 'Man', value = 'Male', inplace = True)\n",
        "df['Gender'].replace(to_replace = 'Male-ish', value = 'Male', inplace = True)\n",
        "df['Gender'].replace(to_replace = 'Guy (-ish) ^_^', value = 'Male', inplace = True)\n",
        "df['Gender'].replace(to_replace = 'something kinda male?', value = 'Male', inplace = True)\n",
        "df['Gender'].replace(to_replace = 'Cis Female', value = 'Female', inplace = True)\n",
        "df['Gender'].replace(to_replace = 'msle', value = 'Male', inplace = True)\n",
        "df['Gender'].replace(to_replace = 'maile', value = 'Male', inplace = True)\n",
        "df['Gender'].replace(to_replace = 'Mal', value = 'Male', inplace = True)\n",
        "df['Gender'].replace(to_replace = 'ostensibly male, unsure what that really means', value = 'Male', inplace = True)\n",
        "df['Gender'].replace(to_replace = 'cis male', value = 'Male', inplace = True)\n",
        "df['Gender'].replace(to_replace = 'Malr', value = 'Male', inplace = True)\n",
        "df['Gender'].replace(to_replace = 'male leaning androgynous', value = 'Male', inplace = True)\n",
        "df['Gender'].replace(to_replace = 'Cis Man', value = 'Male', inplace = True)\n",
        "df['Gender'].replace(to_replace = 'Mail', value = 'Male', inplace = True)\n",
        "df['Gender'].replace(to_replace = 'Female (trans)', value = 'Other', inplace = True)\n",
        "df['Gender'].replace(to_replace = 'Female (cis)', value = 'Female', inplace = True)\n",
        "df['Gender'].replace(to_replace = 'cis-female/femme', value = 'Female', inplace = True)\n",
        "df['Gender'].replace(to_replace = 'femail', value = 'Female', inplace = True)\n",
        "df['Gender'].replace(to_replace = 'Femake', value = 'Female', inplace = True)\n",
        "df['Gender'].replace(to_replace = 'woman', value = 'Female', inplace = True)\n",
        "df['Gender'].replace(to_replace = 'non-binary', value = 'Other', inplace = True)\n",
        "df['Gender'].replace(to_replace = 'Genderqueer', value = 'Other', inplace = True)\n",
        "df['Gender'].replace(to_replace = 'queer', value = 'Other', inplace = True)\n",
        "df['Gender'].replace(to_replace = 'Trans-female', value = 'Other', inplace = True)\n",
        "df['Gender'].replace(to_replace = 'Neuter', value = 'Other', inplace = True)\n",
        "df['Gender'].replace(to_replace = 'Androgyne', value = 'Other', inplace = True)\n",
        "df['Gender'].replace(to_replace = 'p', value = 'Other', inplace = True)\n",
        "df['Gender'].replace(to_replace = 'A little about you', value = 'Other', inplace = True)\n",
        "df['Gender'].replace(to_replace = 'Agender', value = 'Other', inplace = True)\n",
        "df['Gender'].replace(to_replace = 'fluid', value = 'Other', inplace = True)\n",
        "df['Gender'].replace(to_replace = 'Nah', value = 'Other', inplace = True)\n",
        "df['Gender'].replace(to_replace = 'Trans woman', value = 'Other', inplace = True)\n",
        "df['Gender'].replace(to_replace = 'queer/she/they', value = 'Other', inplace = True)\n",
        "df['Gender'].replace(to_replace = 'All', value = 'Other', inplace = True)\n",
        "df['Gender'].replace(to_replace = 'Enby', value = 'Other', inplace = True)\n",
        "df['Gender'].replace(to_replace = 'Male (CIS)', value = 'Other', inplace = True)\n",
        "\n",
        "\n",
        "print(df['Gender'].value_counts())\n"
      ],
      "execution_count": 563,
      "outputs": [
        {
          "output_type": "stream",
          "name": "stdout",
          "text": [
            "Male      994\n",
            "Female    247\n",
            "Other      18\n",
            "Name: Gender, dtype: int64\n"
          ]
        }
      ]
    },
    {
      "cell_type": "code",
      "metadata": {
        "id": "Kx8GSZjL9tBA",
        "colab": {
          "base_uri": "https://localhost:8080/"
        },
        "outputId": "01e7d85e-670a-471a-c0de-08ec6d6f9729"
      },
      "source": [
        "#checking 'Age' to make sure the inputs are all good\n",
        "df['Age'].value_counts()"
      ],
      "execution_count": 564,
      "outputs": [
        {
          "output_type": "execute_result",
          "data": {
            "text/plain": [
              " 29             85\n",
              " 32             82\n",
              " 26             75\n",
              " 27             71\n",
              " 33             70\n",
              " 28             68\n",
              " 31             67\n",
              " 34             65\n",
              " 30             63\n",
              " 25             61\n",
              " 35             55\n",
              " 23             51\n",
              " 24             46\n",
              " 37             43\n",
              " 38             39\n",
              " 36             37\n",
              " 39             33\n",
              " 40             33\n",
              " 43             28\n",
              " 41             21\n",
              " 22             21\n",
              " 42             20\n",
              " 21             16\n",
              " 45             12\n",
              " 46             12\n",
              " 44             11\n",
              " 19              9\n",
              " 18              7\n",
              " 20              6\n",
              " 48              6\n",
              " 50              6\n",
              " 51              5\n",
              " 56              4\n",
              " 49              4\n",
              " 57              3\n",
              " 54              3\n",
              " 55              3\n",
              " 47              2\n",
              " 60              2\n",
              " 11              1\n",
              " 8               1\n",
              " 5               1\n",
              " 99999999999     1\n",
              "-1726            1\n",
              " 53              1\n",
              " 58              1\n",
              " 61              1\n",
              " 62              1\n",
              " 65              1\n",
              " 72              1\n",
              " 329             1\n",
              "-29              1\n",
              "-1               1\n",
              "Name: Age, dtype: int64"
            ]
          },
          "metadata": {},
          "execution_count": 564
        }
      ]
    },
    {
      "cell_type": "markdown",
      "metadata": {
        "id": "IjEP2YZsKG2O"
      },
      "source": [
        "When I began making univariate visuals I discovered that some of the Age inputs are nonsensical. There are 8 Age inputs that are bad, I am choosing to drop those rows for two reasons: 1, it is a miniscule percentage of the overall data, 2, anyone who puts something like that for their age is less likely to have answered seriously and are likely to skew the data anyway."
      ]
    },
    {
      "cell_type": "code",
      "metadata": {
        "id": "ConaAT33LjOn"
      },
      "source": [
        "df['Age'].replace(to_replace = -1, value = np.NaN, inplace = True)\n",
        "df['Age'].replace(to_replace = -1726, value = np.NaN, inplace = True)\n",
        "df['Age'].replace(to_replace = -29, value = np.NaN, inplace = True)\n",
        "df['Age'].replace(to_replace = 329, value = np.NaN, inplace = True)\n",
        "df['Age'].replace(to_replace = 5, value = np.NaN, inplace = True)\n",
        "df['Age'].replace(to_replace = 8, value = np.NaN, inplace = True)\n",
        "df['Age'].replace(to_replace = 11, value = np.NaN, inplace = True)\n",
        "df['Age'].replace(to_replace = 99999999999, value = np.NaN, inplace = True)\n"
      ],
      "execution_count": 565,
      "outputs": []
    },
    {
      "cell_type": "code",
      "metadata": {
        "colab": {
          "base_uri": "https://localhost:8080/"
        },
        "id": "M3VeVMlXPJhO",
        "outputId": "041cba0f-29bd-4a1f-c69a-ebc272f0aa3f"
      },
      "source": [
        "#looking again at date= there are now null values in 'Age', which I will drop\n",
        "df.info()"
      ],
      "execution_count": 566,
      "outputs": [
        {
          "output_type": "stream",
          "name": "stdout",
          "text": [
            "<class 'pandas.core.frame.DataFrame'>\n",
            "RangeIndex: 1259 entries, 0 to 1258\n",
            "Data columns (total 23 columns):\n",
            " #   Column                     Non-Null Count  Dtype  \n",
            "---  ------                     --------------  -----  \n",
            " 0   Age                        1251 non-null   float64\n",
            " 1   Gender                     1259 non-null   object \n",
            " 2   self_employed              1259 non-null   object \n",
            " 3   family_history             1259 non-null   object \n",
            " 4   treatment                  1259 non-null   object \n",
            " 5   work_interfere             1259 non-null   object \n",
            " 6   no_employees               1259 non-null   object \n",
            " 7   remote_work                1259 non-null   object \n",
            " 8   tech_company               1259 non-null   object \n",
            " 9   benefits                   1259 non-null   object \n",
            " 10  care_options               1259 non-null   object \n",
            " 11  wellness_program           1259 non-null   object \n",
            " 12  seek_help                  1259 non-null   object \n",
            " 13  anonymity                  1259 non-null   object \n",
            " 14  leave                      1259 non-null   object \n",
            " 15  mental_health_consequence  1259 non-null   object \n",
            " 16  phys_health_consequence    1259 non-null   object \n",
            " 17  coworkers                  1259 non-null   object \n",
            " 18  supervisor                 1259 non-null   object \n",
            " 19  mental_health_interview    1259 non-null   object \n",
            " 20  phys_health_interview      1259 non-null   object \n",
            " 21  mental_vs_physical         1259 non-null   object \n",
            " 22  obs_consequence            1259 non-null   object \n",
            "dtypes: float64(1), object(22)\n",
            "memory usage: 226.4+ KB\n"
          ]
        }
      ]
    },
    {
      "cell_type": "code",
      "metadata": {
        "id": "JkOdE_qG64A2"
      },
      "source": [
        "#dropping\n",
        "df.dropna(0, how = 'any', inplace = True)\n"
      ],
      "execution_count": 567,
      "outputs": []
    },
    {
      "cell_type": "code",
      "metadata": {
        "id": "CTWCSCj76wPq"
      },
      "source": [
        "#returning age dtype to original\n",
        "df['Age'] = df['Age'].astype(int)\n"
      ],
      "execution_count": 568,
      "outputs": []
    },
    {
      "cell_type": "code",
      "metadata": {
        "colab": {
          "base_uri": "https://localhost:8080/"
        },
        "id": "6jcHXoLz66fQ",
        "outputId": "bc49042f-fd35-4ef9-ec32-22e1669f5b06"
      },
      "source": [
        "#confirming the changes\n",
        "df.info()"
      ],
      "execution_count": 569,
      "outputs": [
        {
          "output_type": "stream",
          "name": "stdout",
          "text": [
            "<class 'pandas.core.frame.DataFrame'>\n",
            "Int64Index: 1251 entries, 0 to 1258\n",
            "Data columns (total 23 columns):\n",
            " #   Column                     Non-Null Count  Dtype \n",
            "---  ------                     --------------  ----- \n",
            " 0   Age                        1251 non-null   int64 \n",
            " 1   Gender                     1251 non-null   object\n",
            " 2   self_employed              1251 non-null   object\n",
            " 3   family_history             1251 non-null   object\n",
            " 4   treatment                  1251 non-null   object\n",
            " 5   work_interfere             1251 non-null   object\n",
            " 6   no_employees               1251 non-null   object\n",
            " 7   remote_work                1251 non-null   object\n",
            " 8   tech_company               1251 non-null   object\n",
            " 9   benefits                   1251 non-null   object\n",
            " 10  care_options               1251 non-null   object\n",
            " 11  wellness_program           1251 non-null   object\n",
            " 12  seek_help                  1251 non-null   object\n",
            " 13  anonymity                  1251 non-null   object\n",
            " 14  leave                      1251 non-null   object\n",
            " 15  mental_health_consequence  1251 non-null   object\n",
            " 16  phys_health_consequence    1251 non-null   object\n",
            " 17  coworkers                  1251 non-null   object\n",
            " 18  supervisor                 1251 non-null   object\n",
            " 19  mental_health_interview    1251 non-null   object\n",
            " 20  phys_health_interview      1251 non-null   object\n",
            " 21  mental_vs_physical         1251 non-null   object\n",
            " 22  obs_consequence            1251 non-null   object\n",
            "dtypes: int64(1), object(22)\n",
            "memory usage: 234.6+ KB\n"
          ]
        }
      ]
    },
    {
      "cell_type": "code",
      "metadata": {
        "colab": {
          "base_uri": "https://localhost:8080/"
        },
        "id": "MMk9tXyr7Pjh",
        "outputId": "600c6dd2-79af-4a49-84eb-1cebd0b9044a"
      },
      "source": [
        "#confirming changes\n",
        "df['Age'].value_counts()"
      ],
      "execution_count": 570,
      "outputs": [
        {
          "output_type": "execute_result",
          "data": {
            "text/plain": [
              "29    85\n",
              "32    82\n",
              "26    75\n",
              "27    71\n",
              "33    70\n",
              "28    68\n",
              "31    67\n",
              "34    65\n",
              "30    63\n",
              "25    61\n",
              "35    55\n",
              "23    51\n",
              "24    46\n",
              "37    43\n",
              "38    39\n",
              "36    37\n",
              "39    33\n",
              "40    33\n",
              "43    28\n",
              "41    21\n",
              "22    21\n",
              "42    20\n",
              "21    16\n",
              "46    12\n",
              "45    12\n",
              "44    11\n",
              "19     9\n",
              "18     7\n",
              "48     6\n",
              "50     6\n",
              "20     6\n",
              "51     5\n",
              "49     4\n",
              "56     4\n",
              "55     3\n",
              "54     3\n",
              "57     3\n",
              "47     2\n",
              "60     2\n",
              "61     1\n",
              "62     1\n",
              "65     1\n",
              "58     1\n",
              "53     1\n",
              "72     1\n",
              "Name: Age, dtype: int64"
            ]
          },
          "metadata": {},
          "execution_count": 570
        }
      ]
    },
    {
      "cell_type": "code",
      "metadata": {
        "colab": {
          "base_uri": "https://localhost:8080/",
          "height": 268
        },
        "id": "UCYg9HaI7lV5",
        "outputId": "f6b21edb-2029-48ce-fae9-b22029f29685"
      },
      "source": [
        "#produced univariate visuals for the target and all features\n",
        "\n",
        "df['Age'].hist();\n"
      ],
      "execution_count": 571,
      "outputs": [
        {
          "output_type": "display_data",
          "data": {
            "image/png": "[encoded data removed]",
            "text/plain": [
              "<Figure size 432x288 with 1 Axes>"
            ]
          },
          "metadata": {}
        }
      ]
    },
    {
      "cell_type": "markdown",
      "metadata": {
        "id": "S8-TYyhpdpqS"
      },
      "source": [
        "Average ages: late 20s to mid-30s"
      ]
    },
    {
      "cell_type": "code",
      "metadata": {
        "colab": {
          "base_uri": "https://localhost:8080/",
          "height": 285
        },
        "id": "m0xNafcR7qWE",
        "outputId": "123db52e-911c-408a-cfa9-7162225ae05d"
      },
      "source": [
        "\n",
        "plt.scatter(df['Age'], df['Gender'])"
      ],
      "execution_count": 572,
      "outputs": [
        {
          "output_type": "execute_result",
          "data": {
            "text/plain": [
              "<matplotlib.collections.PathCollection at 0x7f422afb0ad0>"
            ]
          },
          "metadata": {},
          "execution_count": 572
        },
        {
          "output_type": "display_data",
          "data": {
            "image/png": "[encoded data removed]",
            "text/plain": [
              "<Figure size 432x288 with 1 Axes>"
            ]
          },
          "metadata": {}
        }
      ]
    },
    {
      "cell_type": "markdown",
      "metadata": {
        "id": "bBoRCVAAd2Lp"
      },
      "source": [
        "Age vs Gender, we see that there are males of all ages, most of the females are under 48 except for a couple outliers, and all but three who are \"other\" are early thirties or younger. "
      ]
    },
    {
      "cell_type": "code",
      "metadata": {
        "colab": {
          "base_uri": "https://localhost:8080/",
          "height": 268
        },
        "id": "vp1J6-Ol7vJe",
        "outputId": "fccda5b2-0f3d-441b-f9bd-5ac68aae2ee0"
      },
      "source": [
        "df.boxplot(column = 'Age');"
      ],
      "execution_count": 573,
      "outputs": [
        {
          "output_type": "display_data",
          "data": {
            "image/png": "[encoded data removed]",
            "text/plain": [
              "<Figure size 432x288 with 1 Axes>"
            ]
          },
          "metadata": {}
        }
      ]
    },
    {
      "cell_type": "markdown",
      "metadata": {
        "id": "wd0BRoZbeEa3"
      },
      "source": [
        "Average age about 31; 75th percentil is about 36; \"max\" is under 50, but there are a number of outliers who are older."
      ]
    },
    {
      "cell_type": "code",
      "metadata": {
        "colab": {
          "base_uri": "https://localhost:8080/",
          "height": 268
        },
        "id": "KecD99nuQ5dH",
        "outputId": "9a0b40f1-b7cf-4092-8033-86f67280a8ee"
      },
      "source": [
        "df['Gender'].hist();\n"
      ],
      "execution_count": 574,
      "outputs": [
        {
          "output_type": "display_data",
          "data": {
            "image/png": "[encoded data removed]",
            "text/plain": [
              "<Figure size 432x288 with 1 Axes>"
            ]
          },
          "metadata": {}
        }
      ]
    },
    {
      "cell_type": "code",
      "metadata": {
        "colab": {
          "base_uri": "https://localhost:8080/",
          "height": 268
        },
        "id": "kfam8rz5SzJo",
        "outputId": "30a03405-a8d7-4bd8-dc8a-55f059565112"
      },
      "source": [
        "df['self_employed'].hist();\n",
        "\n",
        "  "
      ],
      "execution_count": 575,
      "outputs": [
        {
          "output_type": "display_data",
          "data": {
            "image/png": "[encoded data removed]",
            "text/plain": [
              "<Figure size 432x288 with 1 Axes>"
            ]
          },
          "metadata": {}
        }
      ]
    },
    {
      "cell_type": "markdown",
      "metadata": {
        "id": "MbFZaav5eVKW"
      },
      "source": [
        "The large majority ar not self-employed; for those who are self-employed, the question about whether they are comfortable talking to their supervisor about mental health does not make sense. Luckily for our purposes, most are not self-employed."
      ]
    },
    {
      "cell_type": "code",
      "metadata": {
        "colab": {
          "base_uri": "https://localhost:8080/",
          "height": 272
        },
        "id": "wtSIis_YS0ll",
        "outputId": "be68041e-1c94-430e-8444-f9f92c1da9c2"
      },
      "source": [
        "df['family_history'].hist();\n"
      ],
      "execution_count": 576,
      "outputs": [
        {
          "output_type": "display_data",
          "data": {
            "image/png": "[encoded data removed]",
            "text/plain": [
              "<Figure size 432x288 with 1 Axes>"
            ]
          },
          "metadata": {}
        }
      ]
    },
    {
      "cell_type": "markdown",
      "metadata": {
        "id": "eT6OYpXheggy"
      },
      "source": [
        "Nearly two-thirds don't have a family history of mental health problems."
      ]
    },
    {
      "cell_type": "code",
      "metadata": {
        "colab": {
          "base_uri": "https://localhost:8080/",
          "height": 285
        },
        "id": "1_7lPx5DS2Kt",
        "outputId": "b6e1de76-d8d4-4d1f-cc62-818593485f85"
      },
      "source": [
        "#treatment: Have you sought treatment for a mental health condition?\n",
        "\n",
        "df['treatment'].hist()\n"
      ],
      "execution_count": 577,
      "outputs": [
        {
          "output_type": "execute_result",
          "data": {
            "text/plain": [
              "<matplotlib.axes._subplots.AxesSubplot at 0x7f422aceb650>"
            ]
          },
          "metadata": {},
          "execution_count": 577
        },
        {
          "output_type": "display_data",
          "data": {
            "image/png": "[encoded data removed]",
            "text/plain": [
              "<Figure size 432x288 with 1 Axes>"
            ]
          },
          "metadata": {}
        }
      ]
    },
    {
      "cell_type": "markdown",
      "metadata": {
        "id": "q29Hqmgpe131"
      },
      "source": [
        "About half of tech workers have sought treatment for mental health issues"
      ]
    },
    {
      "cell_type": "code",
      "metadata": {
        "colab": {
          "base_uri": "https://localhost:8080/",
          "height": 285
        },
        "id": "bBd6Q1mcS3Xu",
        "outputId": "abdf5743-3cf3-483a-e745-5632583e05c7"
      },
      "source": [
        "df['work_interfere'].hist()\n"
      ],
      "execution_count": 578,
      "outputs": [
        {
          "output_type": "execute_result",
          "data": {
            "text/plain": [
              "<matplotlib.axes._subplots.AxesSubplot at 0x7f422afc0090>"
            ]
          },
          "metadata": {},
          "execution_count": 578
        },
        {
          "output_type": "display_data",
          "data": {
            "image/png": "[encoded data removed]",
            "text/plain": [
              "<Figure size 432x288 with 1 Axes>"
            ]
          },
          "metadata": {}
        }
      ]
    },
    {
      "cell_type": "code",
      "metadata": {
        "colab": {
          "base_uri": "https://localhost:8080/",
          "height": 269
        },
        "id": "Yw5i-FgjS5DN",
        "outputId": "d966dddc-6b67-406e-fba8-f145c85cd312"
      },
      "source": [
        "df['no_employees'].hist();\n"
      ],
      "execution_count": 579,
      "outputs": [
        {
          "output_type": "display_data",
          "data": {
            "image/png": "[encoded data removed]",
            "text/plain": [
              "<Figure size 432x288 with 1 Axes>"
            ]
          },
          "metadata": {}
        }
      ]
    },
    {
      "cell_type": "code",
      "metadata": {
        "colab": {
          "base_uri": "https://localhost:8080/",
          "height": 268
        },
        "id": "L0JMLGzzS6fd",
        "outputId": "d86cde29-ea9c-4f5e-8c7f-721e6d6c9c68"
      },
      "source": [
        "df['remote_work'].hist();\n"
      ],
      "execution_count": 580,
      "outputs": [
        {
          "output_type": "display_data",
          "data": {
            "image/png": "[encoded data removed]",
            "text/plain": [
              "<Figure size 432x288 with 1 Axes>"
            ]
          },
          "metadata": {}
        }
      ]
    },
    {
      "cell_type": "code",
      "metadata": {
        "colab": {
          "base_uri": "https://localhost:8080/",
          "height": 268
        },
        "id": "HgOlKjpuS7yb",
        "outputId": "d7f9d562-c3a1-4079-b3c2-0008d1315cf9"
      },
      "source": [
        "df['tech_company'].hist();\n"
      ],
      "execution_count": 581,
      "outputs": [
        {
          "output_type": "display_data",
          "data": {
            "image/png": "[encoded data removed]",
            "text/plain": [
              "<Figure size 432x288 with 1 Axes>"
            ]
          },
          "metadata": {}
        }
      ]
    },
    {
      "cell_type": "code",
      "metadata": {
        "colab": {
          "base_uri": "https://localhost:8080/",
          "height": 268
        },
        "id": "WJcjMbRpS8_Z",
        "outputId": "abb3f48b-f0ee-46a2-fe0a-4be61cc37fbc"
      },
      "source": [
        "#benefits: Does your employer provide mental health benefits?\n",
        "\n",
        "\n",
        "df['benefits'].hist();\n"
      ],
      "execution_count": 582,
      "outputs": [
        {
          "output_type": "display_data",
          "data": {
            "image/png": "[encoded data removed]",
            "text/plain": [
              "<Figure size 432x288 with 1 Axes>"
            ]
          },
          "metadata": {}
        }
      ]
    },
    {
      "cell_type": "code",
      "metadata": {
        "colab": {
          "base_uri": "https://localhost:8080/",
          "height": 268
        },
        "id": "UvbSolx8S-kk",
        "outputId": "1a2fe5b7-8396-47d3-f0b5-c8e561fa7aa7"
      },
      "source": [
        "#care_options: Do you know the options for mental health care your employer provides?\n",
        "\n",
        "df['care_options'].hist();\n"
      ],
      "execution_count": 583,
      "outputs": [
        {
          "output_type": "display_data",
          "data": {
            "image/png": "[encoded data removed]",
            "text/plain": [
              "<Figure size 432x288 with 1 Axes>"
            ]
          },
          "metadata": {}
        }
      ]
    },
    {
      "cell_type": "code",
      "metadata": {
        "colab": {
          "base_uri": "https://localhost:8080/",
          "height": 268
        },
        "id": "lfo2aFzPS_nY",
        "outputId": "126f8874-fcfa-461d-92d1-523303e60c4e"
      },
      "source": [
        "df['wellness_program'].hist();\n"
      ],
      "execution_count": 584,
      "outputs": [
        {
          "output_type": "display_data",
          "data": {
            "image/png": "[encoded data removed]",
            "text/plain": [
              "<Figure size 432x288 with 1 Axes>"
            ]
          },
          "metadata": {}
        }
      ]
    },
    {
      "cell_type": "markdown",
      "metadata": {
        "id": "3vv637pZfh1u"
      },
      "source": [
        "The majority of companies don't have wellness programs"
      ]
    },
    {
      "cell_type": "code",
      "metadata": {
        "colab": {
          "base_uri": "https://localhost:8080/",
          "height": 268
        },
        "id": "Ckji4tevTAkW",
        "outputId": "d0efae87-ecdc-4197-d1d1-615812e02b6b"
      },
      "source": [
        "#seek_help: Does your employer provide resources to learn more about mental health issues and how to seek help?\n",
        "df['seek_help'].hist();\n"
      ],
      "execution_count": 585,
      "outputs": [
        {
          "output_type": "display_data",
          "data": {
            "image/png": "[encoded data removed]",
            "text/plain": [
              "<Figure size 432x288 with 1 Axes>"
            ]
          },
          "metadata": {}
        }
      ]
    },
    {
      "cell_type": "code",
      "metadata": {
        "colab": {
          "base_uri": "https://localhost:8080/",
          "height": 268
        },
        "id": "_JkmG71gTBqV",
        "outputId": "ec02697b-abba-4067-8973-8cb0b55d0381"
      },
      "source": [
        "df['anonymity'].hist();\n"
      ],
      "execution_count": 586,
      "outputs": [
        {
          "output_type": "display_data",
          "data": {
            "image/png": "[encoded data removed]",
            "text/plain": [
              "<Figure size 432x288 with 1 Axes>"
            ]
          },
          "metadata": {}
        }
      ]
    },
    {
      "cell_type": "markdown",
      "metadata": {
        "id": "HgUl7Ev-g3eo"
      },
      "source": [
        "Most employees are unsure if they would have anonymity if they talked about mental health issues"
      ]
    },
    {
      "cell_type": "code",
      "metadata": {
        "colab": {
          "base_uri": "https://localhost:8080/",
          "height": 268
        },
        "id": "Uw4Mnha6TC8A",
        "outputId": "44fb03e4-8e8a-43d9-d8b5-5bc2369db50e"
      },
      "source": [
        "#How easy would it be to take leave for mental health reasons?\n",
        "df['leave'].hist();\n"
      ],
      "execution_count": 587,
      "outputs": [
        {
          "output_type": "display_data",
          "data": {
            "image/png": "[encoded data removed]",
            "text/plain": [
              "<Figure size 432x288 with 1 Axes>"
            ]
          },
          "metadata": {}
        }
      ]
    },
    {
      "cell_type": "code",
      "metadata": {
        "colab": {
          "base_uri": "https://localhost:8080/",
          "height": 268
        },
        "id": "pJ8uLcUYTEMO",
        "outputId": "8b406d58-4f49-4b1e-d768-39455d6e5f3e"
      },
      "source": [
        "#Would discussing mental health issues with your employers have negative consequences?\n",
        "df['mental_health_consequence'].hist();\n"
      ],
      "execution_count": 588,
      "outputs": [
        {
          "output_type": "display_data",
          "data": {
            "image/png": "[encoded data removed]",
            "text/plain": [
              "<Figure size 432x288 with 1 Axes>"
            ]
          },
          "metadata": {}
        }
      ]
    },
    {
      "cell_type": "code",
      "metadata": {
        "colab": {
          "base_uri": "https://localhost:8080/",
          "height": 269
        },
        "id": "5gozqGmaTFm0",
        "outputId": "7303e71a-f5f6-4a39-9097-dea90c44ea68"
      },
      "source": [
        "#Would you be comfortable sharing mental health issues with coworkers?\n",
        "df['coworkers'].hist();\n"
      ],
      "execution_count": 589,
      "outputs": [
        {
          "output_type": "display_data",
          "data": {
            "image/png": "[encoded data removed]",
            "text/plain": [
              "<Figure size 432x288 with 1 Axes>"
            ]
          },
          "metadata": {}
        }
      ]
    },
    {
      "cell_type": "code",
      "metadata": {
        "colab": {
          "base_uri": "https://localhost:8080/",
          "height": 268
        },
        "id": "AGQVx8wUTG3T",
        "outputId": "d4062c46-2ceb-42cc-f712-8a83884ee409"
      },
      "source": [
        "#Would you be comfortable sharing mental health issues with your superisor(s)?\n",
        "#target variable\n",
        "df['supervisor'].hist();\n"
      ],
      "execution_count": 590,
      "outputs": [
        {
          "output_type": "display_data",
          "data": {
            "image/png": "[encoded data removed]",
            "text/plain": [
              "<Figure size 432x288 with 1 Axes>"
            ]
          },
          "metadata": {}
        }
      ]
    },
    {
      "cell_type": "code",
      "metadata": {
        "colab": {
          "base_uri": "https://localhost:8080/",
          "height": 268
        },
        "id": "Z_RrB6qKTH5N",
        "outputId": "2b293d70-f897-42f7-80b4-4f6127939b70"
      },
      "source": [
        "#Would you bring up mental health in an interview?\n",
        "df['mental_health_interview'].hist();\n"
      ],
      "execution_count": 591,
      "outputs": [
        {
          "output_type": "display_data",
          "data": {
            "image/png": "[encoded data removed]",
            "text/plain": [
              "<Figure size 432x288 with 1 Axes>"
            ]
          },
          "metadata": {}
        }
      ]
    },
    {
      "cell_type": "markdown",
      "metadata": {
        "id": "0OeVmxBTijsr"
      },
      "source": [
        "Almost none are confident they would bring up mental health in an interview. 1000 say that they would not."
      ]
    },
    {
      "cell_type": "code",
      "metadata": {
        "colab": {
          "base_uri": "https://localhost:8080/",
          "height": 268
        },
        "id": "3F7gEqAjTI3x",
        "outputId": "fe19e1fc-1eed-42af-d7a1-3e0e0ec9d0c5"
      },
      "source": [
        "#Would discussing physical health issues with your employers have negative consequences?\n",
        "\n",
        "df['phys_health_consequence'].hist();\n"
      ],
      "execution_count": 592,
      "outputs": [
        {
          "output_type": "display_data",
          "data": {
            "image/png": "[encoded data removed]",
            "text/plain": [
              "<Figure size 432x288 with 1 Axes>"
            ]
          },
          "metadata": {}
        }
      ]
    },
    {
      "cell_type": "markdown",
      "metadata": {
        "id": "8jXrhrgEh4WS"
      },
      "source": [
        "While nearly 300 said \"yes\" to discussing mental health having negative consequences and nearly 500 said \"maybe,\" when it comes to phyiscal health the chart above show that less than 100 think that such discussion would have negative repercussions, and nearly 1000 are confident that it would not."
      ]
    },
    {
      "cell_type": "code",
      "metadata": {
        "colab": {
          "base_uri": "https://localhost:8080/",
          "height": 268
        },
        "id": "rWwlMzRBTKJl",
        "outputId": "39adf681-ed6d-42e7-b0bf-2e32d3125a14"
      },
      "source": [
        "#Would you bring up physical health in an interview?\n",
        "df['phys_health_interview'].hist();\n"
      ],
      "execution_count": 593,
      "outputs": [
        {
          "output_type": "display_data",
          "data": {
            "image/png": "[encoded data removed]",
            "text/plain": [
              "<Figure size 432x288 with 1 Axes>"
            ]
          },
          "metadata": {}
        }
      ]
    },
    {
      "cell_type": "code",
      "metadata": {
        "colab": {
          "base_uri": "https://localhost:8080/",
          "height": 271
        },
        "id": "Duvu8wtoTLNc",
        "outputId": "c771995e-03ac-45cf-8abb-101169494149"
      },
      "source": [
        "df['mental_vs_physical'].hist();\n"
      ],
      "execution_count": 594,
      "outputs": [
        {
          "output_type": "display_data",
          "data": {
            "image/png": "[encoded data removed]",
            "text/plain": [
              "<Figure size 432x288 with 1 Axes>"
            ]
          },
          "metadata": {}
        }
      ]
    },
    {
      "cell_type": "markdown",
      "metadata": {
        "id": "YUJgJCKciW3s"
      },
      "source": [
        "Pretty even split on whether employees take mental and phyiscal health as seriosuly as one another."
      ]
    },
    {
      "cell_type": "code",
      "metadata": {
        "colab": {
          "base_uri": "https://localhost:8080/",
          "height": 268
        },
        "id": "Bw7AMN5WTP3V",
        "outputId": "25adba5c-d8bf-423a-cfd2-b9f8cd9d3db5"
      },
      "source": [
        "#Have you heard of or observed negative consequences for coworkers with mental health conditions in your workplace?\n",
        "df['obs_consequence'].hist();"
      ],
      "execution_count": 595,
      "outputs": [
        {
          "output_type": "display_data",
          "data": {
            "image/png": "[encoded data removed]",
            "text/plain": [
              "<Figure size 432x288 with 1 Axes>"
            ]
          },
          "metadata": {}
        }
      ]
    },
    {
      "cell_type": "markdown",
      "metadata": {
        "id": "6lkaeIAO8XMM"
      },
      "source": [
        "Identified outliers:\n",
        "\n",
        "There are very few self-employed people in this study. The majoirty of participants are male. Most participants are in their 30's, with some outliers in their 60s and 70s. Most of the participants work at tech companies. Most would not have anonymity if they talked about their mental health. Most of them did not have a mental health interview for their job.\n"
      ]
    },
    {
      "cell_type": "code",
      "metadata": {
        "colab": {
          "base_uri": "https://localhost:8080/",
          "height": 318
        },
        "id": "v7d50rRe-wib",
        "outputId": "f000c6ce-f2cf-411e-df58-d7c908a9e22d"
      },
      "source": [
        "#Some multivariate analysis\n",
        "\n",
        "sns.set_style('darkgrid')\n",
        "colors = ['teal','#8470FF', 'red']\n",
        "ax =sns.countplot(data = df, x = 'treatment',  hue = 'Gender', palette = colors)\n",
        "plt.xlabel('Have you sought Treatment for Mental Illnes?')\n",
        "plt.ylabel('Count')\n",
        "plt.title('Males least likely to seek treatment')\n"
      ],
      "execution_count": 596,
      "outputs": [
        {
          "output_type": "execute_result",
          "data": {
            "text/plain": [
              "Text(0.5, 1.0, 'Males least likely to seek treatment')"
            ]
          },
          "metadata": {},
          "execution_count": 596
        },
        {
          "output_type": "display_data",
          "data": {
            "image/png": "[encoded data removed]",
            "text/plain": [
              "<Figure size 432x288 with 1 Axes>"
            ]
          },
          "metadata": {}
        }
      ]
    },
    {
      "cell_type": "markdown",
      "metadata": {
        "id": "qID_Xn-x-1Xt"
      },
      "source": [
        "(1) more males did not seek treatment than did, \n",
        "(2) more females DID seeks treatment than did not,\n",
        "(3) ALL who classified as \"other\" sought treatment"
      ]
    },
    {
      "cell_type": "code",
      "metadata": {
        "colab": {
          "base_uri": "https://localhost:8080/",
          "height": 338
        },
        "id": "LlBDRA_k-_FF",
        "outputId": "88481dbb-eef8-4ac5-cb3b-9187b48c00d5"
      },
      "source": [
        "sns.set_style('darkgrid')\n",
        "colors = ['teal','#8470FF', 'yellow']\n",
        "ax =sns.countplot(data = df, x = 'mental_health_interview',  hue = 'supervisor', palette = colors)\n",
        "plt.xlabel('Would You Bring up Mental Health in an Interview?')\n",
        "plt.ylabel('Count')\n",
        "plt.title('Regardless of if they would talk to their supervisor, most would not mention it in an interview')\n",
        "\n",
        "\n"
      ],
      "execution_count": 597,
      "outputs": [
        {
          "output_type": "execute_result",
          "data": {
            "text/plain": [
              "Text(0.5, 1.0, 'Regardless of if they would talk to their supervisor, most would not mention it in an interview')"
            ]
          },
          "metadata": {},
          "execution_count": 597
        },
        {
          "output_type": "display_data",
          "data": {
            "image/png": "[encoded data removed]",
            "text/plain": [
              "<Figure size 432x288 with 1 Axes>"
            ]
          },
          "metadata": {}
        }
      ]
    },
    {
      "cell_type": "markdown",
      "metadata": {
        "id": "phpSLLRt_Czv"
      },
      "source": [
        "(1)Relatively even split for those who would not bring it up in an interview- some would talk with a supervisor (600+) but 375 wouldn't talk to their supervisor\n",
        "\n",
        "(2) those who would bring it up would talk to at least some supervisors\n",
        "\n",
        "(3) those who might bring it up in an interview are highly likely to talk to some supervisors"
      ]
    },
    {
      "cell_type": "code",
      "metadata": {
        "colab": {
          "base_uri": "https://localhost:8080/",
          "height": 302
        },
        "id": "dEtZoC6bHspt",
        "outputId": "3a0317a1-bcc8-44ba-c758-1c475924cee6"
      },
      "source": [
        "sns.set_style('darkgrid')\n",
        "colors = ['yellow','teal','#8470FF']\n",
        "ax =sns.countplot(data = df, x = 'mental_health_interview',  hue = 'coworkers', palette = colors)\n",
        "plt.xlabel('Would You Bring up Mental Health in an Interview?')\n",
        "plt.ylabel('Count')\n",
        "plt.title('')"
      ],
      "execution_count": 658,
      "outputs": [
        {
          "output_type": "execute_result",
          "data": {
            "text/plain": [
              "Text(0.5, 1.0, '')"
            ]
          },
          "metadata": {},
          "execution_count": 658
        },
        {
          "output_type": "display_data",
          "data": {
            "image/png": "[encoded data removed]",
            "text/plain": [
              "<Figure size 432x288 with 1 Axes>"
            ]
          },
          "metadata": {}
        }
      ]
    },
    {
      "cell_type": "markdown",
      "metadata": {
        "id": "3ZVSpNJ-JTy5"
      },
      "source": [
        "(1)Many who would not bring up mental health in an interview (600+) would, however, talk to at least soe coworkers\n",
        "\n",
        "(2)Those who would bring it up in an interview unanimously would talk to at least some coworkers\n",
        "\n",
        "(3)Those who migh also unanimously would talk to at least some coworkers"
      ]
    },
    {
      "cell_type": "code",
      "metadata": {
        "colab": {
          "base_uri": "https://localhost:8080/",
          "height": 302
        },
        "id": "suaXXHNMIHjV",
        "outputId": "8ab9f8d1-6bff-46c4-ec6c-cfa0c6bc1295"
      },
      "source": [
        "sns.set_style('darkgrid')\n",
        "colors = ['yellow','teal','#8470FF']\n",
        "ax =sns.countplot(data = df, x = 'supervisor',  hue = 'coworkers', palette = colors)\n",
        "plt.xlabel('Would you talk to your Supervisor?')\n",
        "plt.ylabel('Count')\n",
        "plt.title('')"
      ],
      "execution_count": 660,
      "outputs": [
        {
          "output_type": "execute_result",
          "data": {
            "text/plain": [
              "Text(0.5, 1.0, '')"
            ]
          },
          "metadata": {},
          "execution_count": 660
        },
        {
          "output_type": "display_data",
          "data": {
            "image/png": "[encoded data removed]",
            "text/plain": [
              "<Figure size 432x288 with 1 Axes>"
            ]
          },
          "metadata": {}
        }
      ]
    },
    {
      "cell_type": "markdown",
      "metadata": {
        "id": "m3M9uGp8I9w3"
      },
      "source": [
        "(1) Those who would talk to their supervisor, would also almost unanimously talk to at least some of their coworkers\n",
        "\n",
        "(2)Those who wouldn't talk to their supervisor would not talk to their coworkers, or would only talk to some of them\n",
        "\n",
        "(3)For the most part, those who would talk to some supervisors would also talk to some coworkers"
      ]
    },
    {
      "cell_type": "code",
      "metadata": {
        "colab": {
          "base_uri": "https://localhost:8080/",
          "height": 302
        },
        "id": "F1Kcq5eCIRbN",
        "outputId": "81758d63-a217-4f50-f49d-8f34b992a8f3"
      },
      "source": [
        "#This chart shows the same thing as the previous one, just coworker and supervisor being switched for bars and hues\n",
        "sns.set_style('darkgrid')\n",
        "colors = ['#8470FF', 'teal','yellow']\n",
        "ax =sns.countplot(data = df, x = 'coworkers',  hue = 'supervisor', palette = colors)\n",
        "plt.xlabel('Would You Talk to your Coworkers?')\n",
        "plt.ylabel('Count')\n",
        "plt.title('')"
      ],
      "execution_count": 663,
      "outputs": [
        {
          "output_type": "execute_result",
          "data": {
            "text/plain": [
              "Text(0.5, 1.0, '')"
            ]
          },
          "metadata": {},
          "execution_count": 663
        },
        {
          "output_type": "display_data",
          "data": {
            "image/png": "[encoded data removed]",
            "text/plain": [
              "<Figure size 432x288 with 1 Axes>"
            ]
          },
          "metadata": {}
        }
      ]
    },
    {
      "cell_type": "markdown",
      "metadata": {
        "id": "3e1tGf1WKL5t"
      },
      "source": [
        "(1) Those who would talk to some coworkers are quite likely to also talk to their supervisor\n",
        "\n",
        "(2) Those who would not talk to coworkers are very unlikely to talk to supervisors instead\n",
        "\n",
        "(3)Those who talk responded \"yes\" rather than \"some\" to talking to Coworkers are most likely to also talk to a supervisor"
      ]
    },
    {
      "cell_type": "code",
      "metadata": {
        "colab": {
          "base_uri": "https://localhost:8080/",
          "height": 302
        },
        "id": "zGxPfpm5_A03",
        "outputId": "cd025569-7ad5-4e29-be2b-578c09a4a77a"
      },
      "source": [
        "#Remapping the 'supervisor column allow us to see a different view of people's willingness to \n",
        "#talk to their supervisors by putting Yes and Some together\n",
        "#I'll use the same stratgey for the Supervised Learning models, as our goal will be to see if they would talk to any of their supervisors\n",
        "df['supervisor'] = df['supervisor'].map({'Yes': 'Yes or Some', 'Some of them': 'Yes or Some', 'No': 'No'})\n",
        "sns.set_style('darkgrid')\n",
        "colors = ['teal','#8470FF']\n",
        "ax =sns.countplot(data = df, x = 'treatment',  hue = 'supervisor', palette = colors)\n",
        "plt.xlabel('Have You Sought Treatment for Mental Illness?')\n",
        "plt.ylabel('Count')\n",
        "plt.title('')"
      ],
      "execution_count": 598,
      "outputs": [
        {
          "output_type": "execute_result",
          "data": {
            "text/plain": [
              "Text(0.5, 1.0, '')"
            ]
          },
          "metadata": {},
          "execution_count": 598
        },
        {
          "output_type": "display_data",
          "data": {
            "image/png": "[encoded data removed]",
            "text/plain": [
              "<Figure size 432x288 with 1 Axes>"
            ]
          },
          "metadata": {}
        }
      ]
    },
    {
      "cell_type": "markdown",
      "metadata": {
        "id": "JAAp0ykV_Ly9"
      },
      "source": [
        "This shows there is nearly a 50/50 split among those who have had treatment for mental illness and\n",
        "those who would be comfortable talking to a supervisor about mental illness\n",
        "\n",
        "That is, whether or not they're had issues with mental illness they're just as likely to not want to talk about it"
      ]
    },
    {
      "cell_type": "code",
      "metadata": {
        "id": "He6FgqLO9xgf",
        "colab": {
          "base_uri": "https://localhost:8080/",
          "height": 289
        },
        "outputId": "9582a3a9-45a0-4251-bdab-277e2e63c191"
      },
      "source": [
        "#produce a correlation heatmap and identify any moderate or strong correlations \n",
        "#between your target and your features and/or between one feature and anothe\n",
        "corr=df.corr()\n",
        "sns.heatmap(corr) "
      ],
      "execution_count": 599,
      "outputs": [
        {
          "output_type": "execute_result",
          "data": {
            "text/plain": [
              "<matplotlib.axes._subplots.AxesSubplot at 0x7f42298eb310>"
            ]
          },
          "metadata": {},
          "execution_count": 599
        },
        {
          "output_type": "display_data",
          "data": {
            "image/png": "[encoded data removed]",
            "text/plain": [
              "<Figure size 432x288 with 2 Axes>"
            ]
          },
          "metadata": {}
        }
      ]
    },
    {
      "cell_type": "markdown",
      "metadata": {
        "id": "1cTGd6OOHvYA"
      },
      "source": [
        "A heatmap is pointless because I only have one numerical feature."
      ]
    },
    {
      "cell_type": "code",
      "metadata": {
        "id": "cydo-sHkHWZE"
      },
      "source": [
        "#One last tweak before starting Supervised Machine Learning: \n",
        "#since the target is to predict whether or not they are comfortable sharing with their supervisor, \n",
        "#When I encode the responses in numbers I will combine responses for \"Yes\" and \"Some of them\"\n",
        "df['supervisor'] = df['supervisor'].map({'Yes or Some': 1, 'No': 0})\n"
      ],
      "execution_count": 600,
      "outputs": []
    },
    {
      "cell_type": "code",
      "metadata": {
        "id": "GJR_48EanLS_"
      },
      "source": [
        "#OHE all of my categorical features\n",
        "dummies_df = pd.get_dummies(df, columns=[\"Gender\",\n",
        "                                 'self_employed',\n",
        "                                 'family_history',\n",
        "                                 'treatment',\n",
        "                                 'no_employees',\n",
        "                                 'remote_work',\n",
        "                                 'tech_company',\n",
        "                                 'benefits',\n",
        "                                 'care_options',\n",
        "                                 'wellness_program',\n",
        "                                 'seek_help',\n",
        "                                 'anonymity',\n",
        "                                 'leave',\n",
        "                                 'mental_health_consequence',\n",
        "                                 'work_interfere',\n",
        "                                 'phys_health_consequence',\n",
        "                                 'coworkers',\n",
        "                                 'mental_health_interview',\n",
        "                                 'phys_health_interview',\n",
        "                                 'mental_vs_physical',\n",
        "                                 'obs_consequence'] )"
      ],
      "execution_count": 601,
      "outputs": []
    },
    {
      "cell_type": "code",
      "metadata": {
        "id": "UO-UgG5g4VPm"
      },
      "source": [
        "#Scale BEFORE doing PCA\n",
        "scaler = StandardScaler()\n",
        "\n"
      ],
      "execution_count": 602,
      "outputs": []
    },
    {
      "cell_type": "code",
      "metadata": {
        "id": "6JR7SRtbif5j"
      },
      "source": [
        "#Creating target variable\n",
        "y = df['supervisor']\n",
        "X = dummies_df.drop(columns = 'supervisor')\n",
        "\n"
      ],
      "execution_count": 603,
      "outputs": []
    },
    {
      "cell_type": "code",
      "metadata": {
        "colab": {
          "base_uri": "https://localhost:8080/",
          "height": 241
        },
        "id": "z9c2RmnokGXP",
        "outputId": "acb2f237-28ad-4e28-ee8a-714f0ab1bfbb"
      },
      "source": [
        "#Checking out OHE dataframe for machine learning\n",
        "X.head()"
      ],
      "execution_count": 604,
      "outputs": [
        {
          "output_type": "execute_result",
          "data": {
            "text/html": [
              "<div>\n",
              "<style scoped>\n",
              "    .dataframe tbody tr th:only-of-type {\n",
              "        vertical-align: middle;\n",
              "    }\n",
              "\n",
              "    .dataframe tbody tr th {\n",
              "        vertical-align: top;\n",
              "    }\n",
              "\n",
              "    .dataframe thead th {\n",
              "        text-align: right;\n",
              "    }\n",
              "</style>\n",
              "<table border=\"1\" class=\"dataframe\">\n",
              "  <thead>\n",
              "    <tr style=\"text-align: right;\">\n",
              "      <th></th>\n",
              "      <th>Age</th>\n",
              "      <th>Gender_Female</th>\n",
              "      <th>Gender_Male</th>\n",
              "      <th>Gender_Other</th>\n",
              "      <th>self_employed_No</th>\n",
              "      <th>self_employed_Unknown</th>\n",
              "      <th>self_employed_Yes</th>\n",
              "      <th>family_history_No</th>\n",
              "      <th>family_history_Yes</th>\n",
              "      <th>treatment_No</th>\n",
              "      <th>treatment_Yes</th>\n",
              "      <th>no_employees_1-5</th>\n",
              "      <th>no_employees_100-500</th>\n",
              "      <th>no_employees_26-100</th>\n",
              "      <th>no_employees_500-1000</th>\n",
              "      <th>no_employees_6-25</th>\n",
              "      <th>no_employees_More than 1000</th>\n",
              "      <th>remote_work_No</th>\n",
              "      <th>remote_work_Yes</th>\n",
              "      <th>tech_company_No</th>\n",
              "      <th>tech_company_Yes</th>\n",
              "      <th>benefits_Don't know</th>\n",
              "      <th>benefits_No</th>\n",
              "      <th>benefits_Yes</th>\n",
              "      <th>care_options_No</th>\n",
              "      <th>care_options_Not sure</th>\n",
              "      <th>care_options_Yes</th>\n",
              "      <th>wellness_program_Don't know</th>\n",
              "      <th>wellness_program_No</th>\n",
              "      <th>wellness_program_Yes</th>\n",
              "      <th>seek_help_Don't know</th>\n",
              "      <th>seek_help_No</th>\n",
              "      <th>seek_help_Yes</th>\n",
              "      <th>anonymity_Don't know</th>\n",
              "      <th>anonymity_No</th>\n",
              "      <th>anonymity_Yes</th>\n",
              "      <th>leave_Don't know</th>\n",
              "      <th>leave_Somewhat difficult</th>\n",
              "      <th>leave_Somewhat easy</th>\n",
              "      <th>leave_Very difficult</th>\n",
              "      <th>leave_Very easy</th>\n",
              "      <th>mental_health_consequence_Maybe</th>\n",
              "      <th>mental_health_consequence_No</th>\n",
              "      <th>mental_health_consequence_Yes</th>\n",
              "      <th>work_interfere_Never</th>\n",
              "      <th>work_interfere_Often</th>\n",
              "      <th>work_interfere_Rarely</th>\n",
              "      <th>work_interfere_Sometimes</th>\n",
              "      <th>work_interfere_Unknown</th>\n",
              "      <th>phys_health_consequence_Maybe</th>\n",
              "      <th>phys_health_consequence_No</th>\n",
              "      <th>phys_health_consequence_Yes</th>\n",
              "      <th>coworkers_No</th>\n",
              "      <th>coworkers_Some of them</th>\n",
              "      <th>coworkers_Yes</th>\n",
              "      <th>mental_health_interview_Maybe</th>\n",
              "      <th>mental_health_interview_No</th>\n",
              "      <th>mental_health_interview_Yes</th>\n",
              "      <th>phys_health_interview_Maybe</th>\n",
              "      <th>phys_health_interview_No</th>\n",
              "      <th>phys_health_interview_Yes</th>\n",
              "      <th>mental_vs_physical_Don't know</th>\n",
              "      <th>mental_vs_physical_No</th>\n",
              "      <th>mental_vs_physical_Yes</th>\n",
              "      <th>obs_consequence_No</th>\n",
              "      <th>obs_consequence_Yes</th>\n",
              "    </tr>\n",
              "  </thead>\n",
              "  <tbody>\n",
              "    <tr>\n",
              "      <th>0</th>\n",
              "      <td>37</td>\n",
              "      <td>1</td>\n",
              "      <td>0</td>\n",
              "      <td>0</td>\n",
              "      <td>0</td>\n",
              "      <td>1</td>\n",
              "      <td>0</td>\n",
              "      <td>1</td>\n",
              "      <td>0</td>\n",
              "      <td>0</td>\n",
              "      <td>1</td>\n",
              "      <td>0</td>\n",
              "      <td>0</td>\n",
              "      <td>0</td>\n",
              "      <td>0</td>\n",
              "      <td>1</td>\n",
              "      <td>0</td>\n",
              "      <td>1</td>\n",
              "      <td>0</td>\n",
              "      <td>0</td>\n",
              "      <td>1</td>\n",
              "      <td>0</td>\n",
              "      <td>0</td>\n",
              "      <td>1</td>\n",
              "      <td>0</td>\n",
              "      <td>1</td>\n",
              "      <td>0</td>\n",
              "      <td>0</td>\n",
              "      <td>1</td>\n",
              "      <td>0</td>\n",
              "      <td>0</td>\n",
              "      <td>0</td>\n",
              "      <td>1</td>\n",
              "      <td>0</td>\n",
              "      <td>0</td>\n",
              "      <td>1</td>\n",
              "      <td>0</td>\n",
              "      <td>0</td>\n",
              "      <td>1</td>\n",
              "      <td>0</td>\n",
              "      <td>0</td>\n",
              "      <td>0</td>\n",
              "      <td>1</td>\n",
              "      <td>0</td>\n",
              "      <td>0</td>\n",
              "      <td>1</td>\n",
              "      <td>0</td>\n",
              "      <td>0</td>\n",
              "      <td>0</td>\n",
              "      <td>0</td>\n",
              "      <td>1</td>\n",
              "      <td>0</td>\n",
              "      <td>0</td>\n",
              "      <td>1</td>\n",
              "      <td>0</td>\n",
              "      <td>0</td>\n",
              "      <td>1</td>\n",
              "      <td>0</td>\n",
              "      <td>1</td>\n",
              "      <td>0</td>\n",
              "      <td>0</td>\n",
              "      <td>0</td>\n",
              "      <td>0</td>\n",
              "      <td>1</td>\n",
              "      <td>1</td>\n",
              "      <td>0</td>\n",
              "    </tr>\n",
              "    <tr>\n",
              "      <th>1</th>\n",
              "      <td>44</td>\n",
              "      <td>0</td>\n",
              "      <td>1</td>\n",
              "      <td>0</td>\n",
              "      <td>0</td>\n",
              "      <td>1</td>\n",
              "      <td>0</td>\n",
              "      <td>1</td>\n",
              "      <td>0</td>\n",
              "      <td>1</td>\n",
              "      <td>0</td>\n",
              "      <td>0</td>\n",
              "      <td>0</td>\n",
              "      <td>0</td>\n",
              "      <td>0</td>\n",
              "      <td>0</td>\n",
              "      <td>1</td>\n",
              "      <td>1</td>\n",
              "      <td>0</td>\n",
              "      <td>1</td>\n",
              "      <td>0</td>\n",
              "      <td>1</td>\n",
              "      <td>0</td>\n",
              "      <td>0</td>\n",
              "      <td>1</td>\n",
              "      <td>0</td>\n",
              "      <td>0</td>\n",
              "      <td>1</td>\n",
              "      <td>0</td>\n",
              "      <td>0</td>\n",
              "      <td>1</td>\n",
              "      <td>0</td>\n",
              "      <td>0</td>\n",
              "      <td>1</td>\n",
              "      <td>0</td>\n",
              "      <td>0</td>\n",
              "      <td>1</td>\n",
              "      <td>0</td>\n",
              "      <td>0</td>\n",
              "      <td>0</td>\n",
              "      <td>0</td>\n",
              "      <td>1</td>\n",
              "      <td>0</td>\n",
              "      <td>0</td>\n",
              "      <td>0</td>\n",
              "      <td>0</td>\n",
              "      <td>1</td>\n",
              "      <td>0</td>\n",
              "      <td>0</td>\n",
              "      <td>0</td>\n",
              "      <td>1</td>\n",
              "      <td>0</td>\n",
              "      <td>1</td>\n",
              "      <td>0</td>\n",
              "      <td>0</td>\n",
              "      <td>0</td>\n",
              "      <td>1</td>\n",
              "      <td>0</td>\n",
              "      <td>0</td>\n",
              "      <td>1</td>\n",
              "      <td>0</td>\n",
              "      <td>1</td>\n",
              "      <td>0</td>\n",
              "      <td>0</td>\n",
              "      <td>1</td>\n",
              "      <td>0</td>\n",
              "    </tr>\n",
              "    <tr>\n",
              "      <th>2</th>\n",
              "      <td>32</td>\n",
              "      <td>0</td>\n",
              "      <td>1</td>\n",
              "      <td>0</td>\n",
              "      <td>0</td>\n",
              "      <td>1</td>\n",
              "      <td>0</td>\n",
              "      <td>1</td>\n",
              "      <td>0</td>\n",
              "      <td>1</td>\n",
              "      <td>0</td>\n",
              "      <td>0</td>\n",
              "      <td>0</td>\n",
              "      <td>0</td>\n",
              "      <td>0</td>\n",
              "      <td>1</td>\n",
              "      <td>0</td>\n",
              "      <td>1</td>\n",
              "      <td>0</td>\n",
              "      <td>0</td>\n",
              "      <td>1</td>\n",
              "      <td>0</td>\n",
              "      <td>1</td>\n",
              "      <td>0</td>\n",
              "      <td>1</td>\n",
              "      <td>0</td>\n",
              "      <td>0</td>\n",
              "      <td>0</td>\n",
              "      <td>1</td>\n",
              "      <td>0</td>\n",
              "      <td>0</td>\n",
              "      <td>1</td>\n",
              "      <td>0</td>\n",
              "      <td>1</td>\n",
              "      <td>0</td>\n",
              "      <td>0</td>\n",
              "      <td>0</td>\n",
              "      <td>1</td>\n",
              "      <td>0</td>\n",
              "      <td>0</td>\n",
              "      <td>0</td>\n",
              "      <td>0</td>\n",
              "      <td>1</td>\n",
              "      <td>0</td>\n",
              "      <td>0</td>\n",
              "      <td>0</td>\n",
              "      <td>1</td>\n",
              "      <td>0</td>\n",
              "      <td>0</td>\n",
              "      <td>0</td>\n",
              "      <td>1</td>\n",
              "      <td>0</td>\n",
              "      <td>0</td>\n",
              "      <td>0</td>\n",
              "      <td>1</td>\n",
              "      <td>0</td>\n",
              "      <td>0</td>\n",
              "      <td>1</td>\n",
              "      <td>0</td>\n",
              "      <td>0</td>\n",
              "      <td>1</td>\n",
              "      <td>0</td>\n",
              "      <td>1</td>\n",
              "      <td>0</td>\n",
              "      <td>1</td>\n",
              "      <td>0</td>\n",
              "    </tr>\n",
              "    <tr>\n",
              "      <th>3</th>\n",
              "      <td>31</td>\n",
              "      <td>0</td>\n",
              "      <td>1</td>\n",
              "      <td>0</td>\n",
              "      <td>0</td>\n",
              "      <td>1</td>\n",
              "      <td>0</td>\n",
              "      <td>0</td>\n",
              "      <td>1</td>\n",
              "      <td>0</td>\n",
              "      <td>1</td>\n",
              "      <td>0</td>\n",
              "      <td>0</td>\n",
              "      <td>1</td>\n",
              "      <td>0</td>\n",
              "      <td>0</td>\n",
              "      <td>0</td>\n",
              "      <td>1</td>\n",
              "      <td>0</td>\n",
              "      <td>0</td>\n",
              "      <td>1</td>\n",
              "      <td>0</td>\n",
              "      <td>1</td>\n",
              "      <td>0</td>\n",
              "      <td>0</td>\n",
              "      <td>0</td>\n",
              "      <td>1</td>\n",
              "      <td>0</td>\n",
              "      <td>1</td>\n",
              "      <td>0</td>\n",
              "      <td>0</td>\n",
              "      <td>1</td>\n",
              "      <td>0</td>\n",
              "      <td>0</td>\n",
              "      <td>1</td>\n",
              "      <td>0</td>\n",
              "      <td>0</td>\n",
              "      <td>1</td>\n",
              "      <td>0</td>\n",
              "      <td>0</td>\n",
              "      <td>0</td>\n",
              "      <td>0</td>\n",
              "      <td>0</td>\n",
              "      <td>1</td>\n",
              "      <td>0</td>\n",
              "      <td>1</td>\n",
              "      <td>0</td>\n",
              "      <td>0</td>\n",
              "      <td>0</td>\n",
              "      <td>0</td>\n",
              "      <td>0</td>\n",
              "      <td>1</td>\n",
              "      <td>0</td>\n",
              "      <td>1</td>\n",
              "      <td>0</td>\n",
              "      <td>1</td>\n",
              "      <td>0</td>\n",
              "      <td>0</td>\n",
              "      <td>1</td>\n",
              "      <td>0</td>\n",
              "      <td>0</td>\n",
              "      <td>0</td>\n",
              "      <td>1</td>\n",
              "      <td>0</td>\n",
              "      <td>0</td>\n",
              "      <td>1</td>\n",
              "    </tr>\n",
              "    <tr>\n",
              "      <th>4</th>\n",
              "      <td>31</td>\n",
              "      <td>0</td>\n",
              "      <td>1</td>\n",
              "      <td>0</td>\n",
              "      <td>0</td>\n",
              "      <td>1</td>\n",
              "      <td>0</td>\n",
              "      <td>1</td>\n",
              "      <td>0</td>\n",
              "      <td>1</td>\n",
              "      <td>0</td>\n",
              "      <td>0</td>\n",
              "      <td>1</td>\n",
              "      <td>0</td>\n",
              "      <td>0</td>\n",
              "      <td>0</td>\n",
              "      <td>0</td>\n",
              "      <td>0</td>\n",
              "      <td>1</td>\n",
              "      <td>0</td>\n",
              "      <td>1</td>\n",
              "      <td>0</td>\n",
              "      <td>0</td>\n",
              "      <td>1</td>\n",
              "      <td>1</td>\n",
              "      <td>0</td>\n",
              "      <td>0</td>\n",
              "      <td>1</td>\n",
              "      <td>0</td>\n",
              "      <td>0</td>\n",
              "      <td>1</td>\n",
              "      <td>0</td>\n",
              "      <td>0</td>\n",
              "      <td>1</td>\n",
              "      <td>0</td>\n",
              "      <td>0</td>\n",
              "      <td>1</td>\n",
              "      <td>0</td>\n",
              "      <td>0</td>\n",
              "      <td>0</td>\n",
              "      <td>0</td>\n",
              "      <td>0</td>\n",
              "      <td>1</td>\n",
              "      <td>0</td>\n",
              "      <td>1</td>\n",
              "      <td>0</td>\n",
              "      <td>0</td>\n",
              "      <td>0</td>\n",
              "      <td>0</td>\n",
              "      <td>0</td>\n",
              "      <td>1</td>\n",
              "      <td>0</td>\n",
              "      <td>0</td>\n",
              "      <td>1</td>\n",
              "      <td>0</td>\n",
              "      <td>0</td>\n",
              "      <td>0</td>\n",
              "      <td>1</td>\n",
              "      <td>0</td>\n",
              "      <td>0</td>\n",
              "      <td>1</td>\n",
              "      <td>1</td>\n",
              "      <td>0</td>\n",
              "      <td>0</td>\n",
              "      <td>1</td>\n",
              "      <td>0</td>\n",
              "    </tr>\n",
              "  </tbody>\n",
              "</table>\n",
              "</div>"
            ],
            "text/plain": [
              "   Age  Gender_Female  ...  obs_consequence_No  obs_consequence_Yes\n",
              "0   37              1  ...                   1                    0\n",
              "1   44              0  ...                   1                    0\n",
              "2   32              0  ...                   1                    0\n",
              "3   31              0  ...                   0                    1\n",
              "4   31              0  ...                   1                    0\n",
              "\n",
              "[5 rows x 66 columns]"
            ]
          },
          "metadata": {},
          "execution_count": 604
        }
      ]
    },
    {
      "cell_type": "code",
      "metadata": {
        "colab": {
          "base_uri": "https://localhost:8080/"
        },
        "id": "cz4Z5u4NkIg2",
        "outputId": "bdfa2ce7-9738-43a7-bdc7-ca3baf21b79f"
      },
      "source": [
        "X.info()"
      ],
      "execution_count": 605,
      "outputs": [
        {
          "output_type": "stream",
          "name": "stdout",
          "text": [
            "<class 'pandas.core.frame.DataFrame'>\n",
            "Int64Index: 1251 entries, 0 to 1258\n",
            "Data columns (total 66 columns):\n",
            " #   Column                           Non-Null Count  Dtype\n",
            "---  ------                           --------------  -----\n",
            " 0   Age                              1251 non-null   int64\n",
            " 1   Gender_Female                    1251 non-null   uint8\n",
            " 2   Gender_Male                      1251 non-null   uint8\n",
            " 3   Gender_Other                     1251 non-null   uint8\n",
            " 4   self_employed_No                 1251 non-null   uint8\n",
            " 5   self_employed_Unknown            1251 non-null   uint8\n",
            " 6   self_employed_Yes                1251 non-null   uint8\n",
            " 7   family_history_No                1251 non-null   uint8\n",
            " 8   family_history_Yes               1251 non-null   uint8\n",
            " 9   treatment_No                     1251 non-null   uint8\n",
            " 10  treatment_Yes                    1251 non-null   uint8\n",
            " 11  no_employees_1-5                 1251 non-null   uint8\n",
            " 12  no_employees_100-500             1251 non-null   uint8\n",
            " 13  no_employees_26-100              1251 non-null   uint8\n",
            " 14  no_employees_500-1000            1251 non-null   uint8\n",
            " 15  no_employees_6-25                1251 non-null   uint8\n",
            " 16  no_employees_More than 1000      1251 non-null   uint8\n",
            " 17  remote_work_No                   1251 non-null   uint8\n",
            " 18  remote_work_Yes                  1251 non-null   uint8\n",
            " 19  tech_company_No                  1251 non-null   uint8\n",
            " 20  tech_company_Yes                 1251 non-null   uint8\n",
            " 21  benefits_Don't know              1251 non-null   uint8\n",
            " 22  benefits_No                      1251 non-null   uint8\n",
            " 23  benefits_Yes                     1251 non-null   uint8\n",
            " 24  care_options_No                  1251 non-null   uint8\n",
            " 25  care_options_Not sure            1251 non-null   uint8\n",
            " 26  care_options_Yes                 1251 non-null   uint8\n",
            " 27  wellness_program_Don't know      1251 non-null   uint8\n",
            " 28  wellness_program_No              1251 non-null   uint8\n",
            " 29  wellness_program_Yes             1251 non-null   uint8\n",
            " 30  seek_help_Don't know             1251 non-null   uint8\n",
            " 31  seek_help_No                     1251 non-null   uint8\n",
            " 32  seek_help_Yes                    1251 non-null   uint8\n",
            " 33  anonymity_Don't know             1251 non-null   uint8\n",
            " 34  anonymity_No                     1251 non-null   uint8\n",
            " 35  anonymity_Yes                    1251 non-null   uint8\n",
            " 36  leave_Don't know                 1251 non-null   uint8\n",
            " 37  leave_Somewhat difficult         1251 non-null   uint8\n",
            " 38  leave_Somewhat easy              1251 non-null   uint8\n",
            " 39  leave_Very difficult             1251 non-null   uint8\n",
            " 40  leave_Very easy                  1251 non-null   uint8\n",
            " 41  mental_health_consequence_Maybe  1251 non-null   uint8\n",
            " 42  mental_health_consequence_No     1251 non-null   uint8\n",
            " 43  mental_health_consequence_Yes    1251 non-null   uint8\n",
            " 44  work_interfere_Never             1251 non-null   uint8\n",
            " 45  work_interfere_Often             1251 non-null   uint8\n",
            " 46  work_interfere_Rarely            1251 non-null   uint8\n",
            " 47  work_interfere_Sometimes         1251 non-null   uint8\n",
            " 48  work_interfere_Unknown           1251 non-null   uint8\n",
            " 49  phys_health_consequence_Maybe    1251 non-null   uint8\n",
            " 50  phys_health_consequence_No       1251 non-null   uint8\n",
            " 51  phys_health_consequence_Yes      1251 non-null   uint8\n",
            " 52  coworkers_No                     1251 non-null   uint8\n",
            " 53  coworkers_Some of them           1251 non-null   uint8\n",
            " 54  coworkers_Yes                    1251 non-null   uint8\n",
            " 55  mental_health_interview_Maybe    1251 non-null   uint8\n",
            " 56  mental_health_interview_No       1251 non-null   uint8\n",
            " 57  mental_health_interview_Yes      1251 non-null   uint8\n",
            " 58  phys_health_interview_Maybe      1251 non-null   uint8\n",
            " 59  phys_health_interview_No         1251 non-null   uint8\n",
            " 60  phys_health_interview_Yes        1251 non-null   uint8\n",
            " 61  mental_vs_physical_Don't know    1251 non-null   uint8\n",
            " 62  mental_vs_physical_No            1251 non-null   uint8\n",
            " 63  mental_vs_physical_Yes           1251 non-null   uint8\n",
            " 64  obs_consequence_No               1251 non-null   uint8\n",
            " 65  obs_consequence_Yes              1251 non-null   uint8\n",
            "dtypes: int64(1), uint8(65)\n",
            "memory usage: 139.0 KB\n"
          ]
        }
      ]
    },
    {
      "cell_type": "code",
      "metadata": {
        "id": "ztR0o7PBoga0"
      },
      "source": [
        "X_train, X_test, y_train, y_test = train_test_split(X, y, random_state = 42)\n"
      ],
      "execution_count": 606,
      "outputs": []
    },
    {
      "cell_type": "code",
      "metadata": {
        "id": "pSevxKlPo5V6"
      },
      "source": [
        "#Using PCA and a pipeline for Supervised Machine Learning\n",
        "#I'll try for these models, but because the dataset is not too big it is likely to be unnecessary/unhelpful on most models\n",
        "pca = PCA(n_components = .95) "
      ],
      "execution_count": 607,
      "outputs": []
    },
    {
      "cell_type": "code",
      "metadata": {
        "colab": {
          "base_uri": "https://localhost:8080/",
          "height": 292
        },
        "id": "Z_ZFM7RUVS0r",
        "outputId": "7dbcf45f-f7a8-415c-ab7a-1db388b336d4"
      },
      "source": [
        "\n",
        "#looking for ideal max_depth for a RandomForestClassifier\n",
        "max_depth_range_forest = list(range(2, 36)) \n",
        "\n",
        "r2 = []\n",
        "for depth in max_depth_range_forest:\n",
        "    rf = RandomForestClassifier(max_depth = depth, \n",
        "                             random_state = 42)\n",
        "    rf.fit(X_train, y_train)\n",
        "    score = rf.score(X_test, y_test)\n",
        "\n",
        "    r2.append(score)\n",
        "#Plot for depth for random forests model\n",
        "\n",
        "plt.plot(max_depth_range_forest, r2)\n",
        "sns.set(style=\"ticks\")\n",
        "plt.xticks([1,2,3,4,5,6,7,8,9,10,11,12,13,14,15], rotation =45)\n",
        "sns.set_style('whitegrid')\n",
        "plt.xlabel('max_depth')\n",
        "plt.ylabel('R2');"
      ],
      "execution_count": 608,
      "outputs": [
        {
          "output_type": "display_data",
          "data": {
            "image/png": "[encoded data removed]",
            "text/plain": [
              "<Figure size 432x288 with 1 Axes>"
            ]
          },
          "metadata": {}
        }
      ]
    },
    {
      "cell_type": "markdown",
      "metadata": {
        "id": "-CMwM1xojqwZ"
      },
      "source": [
        "Max depth of 14 is ideal"
      ]
    },
    {
      "cell_type": "code",
      "metadata": {
        "colab": {
          "base_uri": "https://localhost:8080/",
          "height": 297
        },
        "id": "UVS-n079ZbxY",
        "outputId": "66d268c3-e6d7-42f9-e132-af005a420085"
      },
      "source": [
        "#looking for ideal n_estimators for a RandomForestClassifier\n",
        "\n",
        "n_estimators_rf = list(range(100, 250)) \n",
        "\n",
        "r2 = []\n",
        "for estimators in n_estimators_rf:\n",
        "    rf = RandomForestClassifier(max_depth = 14, n_estimators = estimators, \n",
        "                             random_state = 42)\n",
        "    rf.fit(X_train, y_train)\n",
        "    score = rf.score(X_test, y_test)\n",
        "    r2.append(score)\n",
        "plt.plot(n_estimators_rf, r2)\n",
        "sns.set(style=\"ticks\")\n",
        "plt.xticks([100,110,120,130,140,150,200,250], rotation = 45)\n",
        "sns.set_style('whitegrid')\n",
        "plt.xlabel('n_estimators')\n",
        "plt.ylabel('R2');"
      ],
      "execution_count": 609,
      "outputs": [
        {
          "output_type": "display_data",
          "data": {
            "image/png": "[encoded data removed]",
            "text/plain": [
              "<Figure size 432x288 with 1 Axes>"
            ]
          },
          "metadata": {}
        }
      ]
    },
    {
      "cell_type": "code",
      "metadata": {
        "id": "fC_dWApej1Iz"
      },
      "source": [
        "#instantiate with hyperparameters based on the above exploratory code\n",
        "rf = RandomForestClassifier(max_depth =14, random_state =42, n_estimators = 100)\n"
      ],
      "execution_count": 610,
      "outputs": []
    },
    {
      "cell_type": "code",
      "metadata": {
        "colab": {
          "base_uri": "https://localhost:8080/"
        },
        "id": "yiu2AS8hp6gu",
        "outputId": "36f9086f-349e-44a7-a16a-0b1e952c551d"
      },
      "source": [
        "#with PCA\n",
        "pipe = make_pipeline(scaler, pca, rf)\n",
        "pipe.fit(X_train, y_train)\n",
        "print(pipe.score(X_train, y_train))\n",
        "print(pipe.score(X_test, y_test))"
      ],
      "execution_count": 611,
      "outputs": [
        {
          "output_type": "stream",
          "name": "stdout",
          "text": [
            "1.0\n",
            "0.7635782747603834\n"
          ]
        }
      ]
    },
    {
      "cell_type": "code",
      "metadata": {
        "colab": {
          "base_uri": "https://localhost:8080/"
        },
        "id": "vOfwbb38Vn8f",
        "outputId": "df27bef1-e6de-43c8-eb83-e3db913a24bd"
      },
      "source": [
        "#without PCA\n",
        "pipe = make_pipeline(scaler, rf)\n",
        "pipe.fit(X_train, y_train)\n",
        "print(pipe.score(X_train, y_train))\n",
        "print(pipe.score(X_test, y_test))"
      ],
      "execution_count": 612,
      "outputs": [
        {
          "output_type": "stream",
          "name": "stdout",
          "text": [
            "0.9989339019189766\n",
            "0.8019169329073482\n"
          ]
        }
      ]
    },
    {
      "cell_type": "code",
      "metadata": {
        "id": "t1NvOguRq9dA"
      },
      "source": [
        "#instantiating and fitting next model\n",
        "bt = BaggingClassifier()\n",
        "\n"
      ],
      "execution_count": 613,
      "outputs": []
    },
    {
      "cell_type": "code",
      "metadata": {
        "colab": {
          "base_uri": "https://localhost:8080/",
          "height": 292
        },
        "id": "YK-D1VVn0xMx",
        "outputId": "dca544f6-fc88-475b-9926-c0e1d8826d4d"
      },
      "source": [
        "#Lookinh for ideal number of estimators\n",
        "estimators_bt = list(range(45, 75)) \n",
        "\n",
        "r2 = []\n",
        "for estimators in estimators_bt:\n",
        "    bt = BaggingClassifier(n_estimators = estimators, \n",
        "                             random_state = 42)\n",
        "    bt.fit(X_train, y_train)\n",
        "    score = bt.score(X_test, y_test)\n",
        "    r2.append(score)\n",
        "plt.plot(estimators_bt, r2)\n",
        "sns.set(style=\"ticks\")\n",
        "plt.xticks([46,48,50], rotation =45)\n",
        "sns.set_style('whitegrid')\n",
        "plt.xlabel('n_estimators')\n",
        "plt.ylabel('R2');"
      ],
      "execution_count": 614,
      "outputs": [
        {
          "output_type": "display_data",
          "data": {
            "image/png": "[encoded data removed]",
            "text/plain": [
              "<Figure size 432x288 with 1 Axes>"
            ]
          },
          "metadata": {}
        }
      ]
    },
    {
      "cell_type": "markdown",
      "metadata": {
        "id": "f3DJvfB2kAAb"
      },
      "source": [
        "48 or 50 will work the best. I'll choose 48 because it means less iterations."
      ]
    },
    {
      "cell_type": "code",
      "metadata": {
        "colab": {
          "base_uri": "https://localhost:8080/"
        },
        "id": "B1WyyDpkkSSE",
        "outputId": "030090b4-8e1a-41fb-d72a-d3a9f420f141"
      },
      "source": [
        "#using hyperparemeter from above exploration\n",
        "bt = BaggingClassifier(n_estimators =48,  random_state = 42)\n",
        "pipe_bt  = make_pipeline(scaler,bt)\n",
        "pipe_bt.fit(X_train, y_train)\n"
      ],
      "execution_count": 615,
      "outputs": [
        {
          "output_type": "execute_result",
          "data": {
            "text/plain": [
              "Pipeline(memory=None,\n",
              "         steps=[('standardscaler',\n",
              "                 StandardScaler(copy=True, with_mean=True, with_std=True)),\n",
              "                ('baggingclassifier',\n",
              "                 BaggingClassifier(base_estimator=None, bootstrap=True,\n",
              "                                   bootstrap_features=False, max_features=1.0,\n",
              "                                   max_samples=1.0, n_estimators=48,\n",
              "                                   n_jobs=None, oob_score=False,\n",
              "                                   random_state=42, verbose=0,\n",
              "                                   warm_start=False))],\n",
              "         verbose=False)"
            ]
          },
          "metadata": {},
          "execution_count": 615
        }
      ]
    },
    {
      "cell_type": "code",
      "metadata": {
        "id": "o8xaSFbWAQ2L",
        "colab": {
          "base_uri": "https://localhost:8080/"
        },
        "outputId": "a52a4dd0-9fc3-4294-d48c-656490461c0c"
      },
      "source": [
        "print(pipe_bt.score(X_train, y_train))\n",
        "print(pipe_bt.score(X_test, y_test))"
      ],
      "execution_count": 616,
      "outputs": [
        {
          "output_type": "stream",
          "name": "stdout",
          "text": [
            "1.0\n",
            "0.805111821086262\n"
          ]
        }
      ]
    },
    {
      "cell_type": "markdown",
      "metadata": {
        "id": "6N03vJ1ODSkL"
      },
      "source": [
        "Second highest r^2"
      ]
    },
    {
      "cell_type": "code",
      "metadata": {
        "colab": {
          "base_uri": "https://localhost:8080/",
          "height": 285
        },
        "id": "1QjI0EEnFnw7",
        "outputId": "214d676a-90cc-4867-d270-fd2c8c9373ee"
      },
      "source": [
        "#Checking what type of misclassifications the model made\n",
        "plot_confusion_matrix(pipe_bt, X_test, y_test, cmap = 'Blues');"
      ],
      "execution_count": 617,
      "outputs": [
        {
          "output_type": "display_data",
          "data": {
            "image/png": "[encoded data removed]",
            "text/plain": [
              "<Figure size 432x288 with 2 Axes>"
            ]
          },
          "metadata": {}
        }
      ]
    },
    {
      "cell_type": "code",
      "metadata": {
        "id": "asEgxI4YAoNN"
      },
      "source": [
        "#instantiating and fitting next model\n",
        "\n",
        "lgb = LGBMClassifier()"
      ],
      "execution_count": 618,
      "outputs": []
    },
    {
      "cell_type": "code",
      "metadata": {
        "id": "zbUPsQyHAAsX",
        "colab": {
          "base_uri": "https://localhost:8080/",
          "height": 286
        },
        "outputId": "a8d294fd-0e71-4eff-b541-97334b763cbb"
      },
      "source": [
        "#looking for ideal max_depth\n",
        "max_depth_range_lgb = list(range(2, 36)) \n",
        "\n",
        "r2 = []\n",
        "for depth in max_depth_range_forest:\n",
        "    lgb = LGBMClassifier(max_depth = depth, \n",
        "                             random_state = 42)\n",
        "    lgb.fit(X_train, y_train)\n",
        "    score = lgb.score(X_test, y_test)\n",
        "    r2.append(score)\n",
        "plt.plot(max_depth_range_lgb, r2)\n",
        "sns.set(style=\"ticks\")\n",
        "#plt.xticks([1,2,3,4,5,6,7,8,9,10,11,12,13,14,15])\n",
        "sns.set_style('whitegrid')\n",
        "plt.xlabel('max_depth')\n",
        "plt.ylabel('R2');"
      ],
      "execution_count": 619,
      "outputs": [
        {
          "output_type": "display_data",
          "data": {
            "image/png": "[encoded data removed]",
            "text/plain": [
              "<Figure size 432x288 with 1 Axes>"
            ]
          },
          "metadata": {}
        }
      ]
    },
    {
      "cell_type": "code",
      "metadata": {
        "colab": {
          "base_uri": "https://localhost:8080/"
        },
        "id": "Sc3EX4m5ksms",
        "outputId": "474aceb3-b75b-4603-c6db-8b722188e04b"
      },
      "source": [
        "lgb = LGBMClassifier(max_depth = 5, random_state = 42)\n",
        "pipe_lgb  = make_pipeline(scaler,lgb)\n",
        "pipe_lgb.fit(X_train, y_train)"
      ],
      "execution_count": 620,
      "outputs": [
        {
          "output_type": "execute_result",
          "data": {
            "text/plain": [
              "Pipeline(memory=None,\n",
              "         steps=[('standardscaler',\n",
              "                 StandardScaler(copy=True, with_mean=True, with_std=True)),\n",
              "                ('lgbmclassifier',\n",
              "                 LGBMClassifier(boosting_type='gbdt', class_weight=None,\n",
              "                                colsample_bytree=1.0, importance_type='split',\n",
              "                                learning_rate=0.1, max_depth=5,\n",
              "                                min_child_samples=20, min_child_weight=0.001,\n",
              "                                min_split_gain=0.0, n_estimators=100, n_jobs=-1,\n",
              "                                num_leaves=31, objective=None, random_state=42,\n",
              "                                reg_alpha=0.0, reg_lambda=0.0, silent=True,\n",
              "                                subsample=1.0, subsample_for_bin=200000,\n",
              "                                subsample_freq=0))],\n",
              "         verbose=False)"
            ]
          },
          "metadata": {},
          "execution_count": 620
        }
      ]
    },
    {
      "cell_type": "code",
      "metadata": {
        "colab": {
          "base_uri": "https://localhost:8080/"
        },
        "id": "95PufdoYkvke",
        "outputId": "da3bf428-d49b-4b4f-8a36-7e0091729c4d"
      },
      "source": [
        "print(pipe_lgb.score(X_train, y_train))\n",
        "print(pipe_lgb.score(X_test, y_test))"
      ],
      "execution_count": 621,
      "outputs": [
        {
          "output_type": "stream",
          "name": "stdout",
          "text": [
            "0.9584221748400853\n",
            "0.7987220447284346\n"
          ]
        }
      ]
    },
    {
      "cell_type": "code",
      "metadata": {
        "colab": {
          "base_uri": "https://localhost:8080/"
        },
        "id": "H62T_leqkua8",
        "outputId": "3377cc88-d372-434e-df7d-dcda9f7fc842"
      },
      "source": [
        "lgb = LGBMClassifier(max_depth = 4, n_estimators = 50, num_leaves =10, random_state = 42)\n",
        "pipe_lgb  = make_pipeline(scaler,lgb)\n",
        "pipe_lgb.fit(X_train, y_train)\n",
        "print(pipe_lgb.score(X_train, y_train))\n",
        "print(pipe_lgb.score(X_test, y_test))"
      ],
      "execution_count": 622,
      "outputs": [
        {
          "output_type": "stream",
          "name": "stdout",
          "text": [
            "0.8720682302771855\n",
            "0.8083067092651757\n"
          ]
        }
      ]
    },
    {
      "cell_type": "markdown",
      "metadata": {
        "id": "xA1FzC0tk7gP"
      },
      "source": [
        "Supposedly 5 is the ideal max_depth, but 4 returns a better r^2 with other tuned hyperparameters"
      ]
    },
    {
      "cell_type": "markdown",
      "metadata": {
        "id": "Gjq07wCSDe2P"
      },
      "source": [
        "Highest r^2"
      ]
    },
    {
      "cell_type": "code",
      "metadata": {
        "colab": {
          "base_uri": "https://localhost:8080/",
          "height": 285
        },
        "id": "JhbX680yGBEn",
        "outputId": "d5ec9496-2ab1-409f-c857-c469de46979e"
      },
      "source": [
        "plot_confusion_matrix(pipe_lgb, X_test, y_test, cmap = 'Blues');"
      ],
      "execution_count": 623,
      "outputs": [
        {
          "output_type": "display_data",
          "data": {
            "image/png": "[encoded data removed]",
            "text/plain": [
              "<Figure size 432x288 with 2 Axes>"
            ]
          },
          "metadata": {}
        }
      ]
    },
    {
      "cell_type": "code",
      "metadata": {
        "colab": {
          "base_uri": "https://localhost:8080/"
        },
        "id": "9z_zz1DvlO09",
        "outputId": "a41258ac-3b34-4ddb-c8b6-bfabfcde2c9c"
      },
      "source": [
        "#Gridsearch for Light Gradient Booster\n",
        "lgb_params = {'lgbmclassifier__num_estimators' : [50,100,150,200,250], \n",
        "          'lgbmclassifier__num_leaves' : [5,10,15,20,25,29,30,31,35,40], \n",
        "          'lgbmclassifier__max_depth' : [1,2,3,4,5,10,15,20,25]\n",
        "          }\n",
        "grid_lgb = GridSearchCV(pipe_lgb, lgb_params)\n",
        "grid_lgb.fit(X_train, y_train)\n",
        "grid_lgb.best_params_\n",
        "grid_lgb.score(X_train, y_train)\n",
        "grid_lgb.score(X_test, y_test)\n"
      ],
      "execution_count": 624,
      "outputs": [
        {
          "output_type": "execute_result",
          "data": {
            "text/plain": [
              "0.8083067092651757"
            ]
          },
          "metadata": {},
          "execution_count": 624
        }
      ]
    },
    {
      "cell_type": "markdown",
      "metadata": {
        "id": "ZEsCHDwElQWz"
      },
      "source": [
        "Highest r^2 overall; the same model as pipe_lgb"
      ]
    },
    {
      "cell_type": "code",
      "metadata": {
        "colab": {
          "base_uri": "https://localhost:8080/"
        },
        "id": "sagzZNP_st9Q",
        "outputId": "bbc3b0da-58e5-4ef8-e5ab-219fc71e8341"
      },
      "source": [
        "#instantiate and fit next model\n",
        "log_reg = LogisticRegression(random_state = 42)\n",
        "pipe_log_reg  = make_pipeline(scaler,pca,log_reg)\n",
        "pipe_log_reg.fit(X_train, y_train)\n",
        "print(pipe_log_reg.score(X_train, y_train))\n",
        "print(pipe_log_reg.score(X_test, y_test))"
      ],
      "execution_count": 625,
      "outputs": [
        {
          "output_type": "stream",
          "name": "stdout",
          "text": [
            "0.8336886993603412\n",
            "0.7827476038338658\n"
          ]
        }
      ]
    },
    {
      "cell_type": "code",
      "metadata": {
        "colab": {
          "base_uri": "https://localhost:8080/"
        },
        "id": "w2Hs1INr-Qov",
        "outputId": "81247d55-8de5-4839-a557-6ae0a7ab1128"
      },
      "source": [
        "log_reg"
      ],
      "execution_count": 626,
      "outputs": [
        {
          "output_type": "execute_result",
          "data": {
            "text/plain": [
              "LogisticRegression(C=1.0, class_weight=None, dual=False, fit_intercept=True,\n",
              "                   intercept_scaling=1, l1_ratio=None, max_iter=100,\n",
              "                   multi_class='auto', n_jobs=None, penalty='l2',\n",
              "                   random_state=42, solver='lbfgs', tol=0.0001, verbose=0,\n",
              "                   warm_start=False)"
            ]
          },
          "metadata": {},
          "execution_count": 626
        }
      ]
    },
    {
      "cell_type": "markdown",
      "metadata": {
        "id": "3rc69rJt-sOt"
      },
      "source": [
        "Not any critical hyperparameters to tune"
      ]
    },
    {
      "cell_type": "code",
      "metadata": {
        "colab": {
          "base_uri": "https://localhost:8080/"
        },
        "id": "bXWMO4H2svJn",
        "outputId": "44d13101-2ef2-4f29-e52e-2407cb4a34bb"
      },
      "source": [
        "#Instantiate and fit next model\n",
        "xgb = XGBClassifier(max_depth =4, n_estimators =150, random_state = 42)\n",
        "pipe_xgb  = make_pipeline(scaler,xgb)\n",
        "pipe_xgb.fit(X_train, y_train)\n",
        "\n",
        "print(pipe_xgb.score(X_train, y_train))\n",
        "print(pipe_xgb.score(X_test, y_test))"
      ],
      "execution_count": 627,
      "outputs": [
        {
          "output_type": "stream",
          "name": "stdout",
          "text": [
            "0.9573560767590619\n",
            "0.792332268370607\n"
          ]
        }
      ]
    },
    {
      "cell_type": "code",
      "metadata": {
        "colab": {
          "base_uri": "https://localhost:8080/"
        },
        "id": "uTZuHc2U-wBp",
        "outputId": "0aa356ce-b9a3-458d-afab-d0450bbdfa5a"
      },
      "source": [
        "#I'm not going to run GridSearchCV on this model because it takes forever \n",
        "#so I'll manually try some different params\n",
        "xgb = XGBClassifier(max_depth =4, n_estimators =75, random_state = 42)\n",
        "pipe_xgb  = make_pipeline(scaler,xgb)\n",
        "pipe_xgb.fit(X_train, y_train)\n",
        "\n",
        "print(pipe_xgb.score(X_train, y_train))\n",
        "print(pipe_xgb.score(X_test, y_test))"
      ],
      "execution_count": 628,
      "outputs": [
        {
          "output_type": "stream",
          "name": "stdout",
          "text": [
            "0.9008528784648188\n",
            "0.8019169329073482\n"
          ]
        }
      ]
    },
    {
      "cell_type": "markdown",
      "metadata": {
        "id": "QXGx-Zr6_Sb2"
      },
      "source": [
        "^^The highest r^2 for XGB; 2nd highest among all the models"
      ]
    },
    {
      "cell_type": "code",
      "metadata": {
        "colab": {
          "base_uri": "https://localhost:8080/",
          "height": 285
        },
        "id": "sGL4r5PQGNQL",
        "outputId": "84177d09-8d28-43bf-adf7-65cd6563d2c0"
      },
      "source": [
        "plot_confusion_matrix(pipe_xgb, X_test, y_test, cmap = 'Blues');"
      ],
      "execution_count": 629,
      "outputs": [
        {
          "output_type": "display_data",
          "data": {
            "image/png": "[encoded data removed]",
            "text/plain": [
              "<Figure size 432x288 with 2 Axes>"
            ]
          },
          "metadata": {}
        }
      ]
    },
    {
      "cell_type": "code",
      "metadata": {
        "colab": {
          "base_uri": "https://localhost:8080/"
        },
        "id": "b2en76Oj_DqW",
        "outputId": "b32fbe55-2e6c-45b5-e6a4-bb80bb82f6a1"
      },
      "source": [
        "#different hyperparameters tried on xgb\n",
        "xgb = XGBClassifier(max_depth =5, n_estimators =75, random_state = 42)\n",
        "pipe_xgb  = make_pipeline(scaler,xgb)\n",
        "pipe_xgb.fit(X_train, y_train)\n",
        "\n",
        "print(pipe_xgb.score(X_train, y_train))\n",
        "print(pipe_xgb.score(X_test, y_test))"
      ],
      "execution_count": 630,
      "outputs": [
        {
          "output_type": "stream",
          "name": "stdout",
          "text": [
            "0.9434968017057569\n",
            "0.7859424920127795\n"
          ]
        }
      ]
    },
    {
      "cell_type": "code",
      "metadata": {
        "colab": {
          "base_uri": "https://localhost:8080/"
        },
        "id": "DVXFABIW_HGJ",
        "outputId": "b4b67119-3401-4dc7-d093-bb9995be79b4"
      },
      "source": [
        "#different hyperparameters tried on xgb\n",
        "\n",
        "xgb = XGBClassifier(max_depth =3, n_estimators =150, random_state = 42)\n",
        "pipe_xgb  = make_pipeline(scaler,xgb)\n",
        "pipe_xgb.fit(X_train, y_train)\n",
        "\n",
        "print(pipe_xgb.score(X_train, y_train))\n",
        "print(pipe_xgb.score(X_test, y_test))"
      ],
      "execution_count": 631,
      "outputs": [
        {
          "output_type": "stream",
          "name": "stdout",
          "text": [
            "0.9051172707889126\n",
            "0.7987220447284346\n"
          ]
        }
      ]
    },
    {
      "cell_type": "code",
      "metadata": {
        "colab": {
          "base_uri": "https://localhost:8080/"
        },
        "id": "a9xTXXdOsvjS",
        "outputId": "5248adff-79f7-45f1-fc85-23c888107aa3"
      },
      "source": [
        "#instantiate next model\n",
        "gb = GradientBoostingClassifier(random_state = 42)\n",
        "pipe_gb  = make_pipeline(scaler,pca,gb)\n",
        "pipe_gb.fit(X_train, y_train)\n",
        "print(pipe_gb.score(X_train, y_train))\n",
        "print(pipe_gb.score(X_test, y_test))"
      ],
      "execution_count": 632,
      "outputs": [
        {
          "output_type": "stream",
          "name": "stdout",
          "text": [
            "0.9733475479744137\n",
            "0.7891373801916933\n"
          ]
        }
      ]
    },
    {
      "cell_type": "code",
      "metadata": {
        "colab": {
          "base_uri": "https://localhost:8080/"
        },
        "id": "Ikfxzt0G_XKb",
        "outputId": "5d2f5aea-bec3-4167-e626-374b265c5f7a"
      },
      "source": [
        "#not going to GridSearchCV on this either for the same reason\n",
        "gb = GradientBoostingClassifier(max_depth = 4, n_estimators = 150, max_features = 15, random_state = 42)\n",
        "pipe_gb  = make_pipeline(scaler,pca,gb)\n",
        "pipe_gb.fit(X_train, y_train)\n",
        "print(pipe_gb.score(X_train, y_train))\n",
        "print(pipe_gb.score(X_test, y_test))"
      ],
      "execution_count": 633,
      "outputs": [
        {
          "output_type": "stream",
          "name": "stdout",
          "text": [
            "1.0\n",
            "0.7891373801916933\n"
          ]
        }
      ]
    },
    {
      "cell_type": "code",
      "metadata": {
        "colab": {
          "base_uri": "https://localhost:8080/"
        },
        "id": "pUv60fbD_nst",
        "outputId": "3f2d92d9-ee5e-499c-9f4a-00cd7998d509"
      },
      "source": [
        "#different hyperparameters tried on gb\n",
        "\n",
        "gb = GradientBoostingClassifier(max_depth = 4, n_estimators = 150, random_state = 42)\n",
        "pipe_gb  = make_pipeline(scaler,pca,gb)\n",
        "pipe_gb.fit(X_train, y_train)\n",
        "print(pipe_gb.score(X_train, y_train))\n",
        "print(pipe_gb.score(X_test, y_test))"
      ],
      "execution_count": 634,
      "outputs": [
        {
          "output_type": "stream",
          "name": "stdout",
          "text": [
            "1.0\n",
            "0.7603833865814696\n"
          ]
        }
      ]
    },
    {
      "cell_type": "code",
      "metadata": {
        "colab": {
          "base_uri": "https://localhost:8080/"
        },
        "id": "WtYq84KX_rWm",
        "outputId": "0f13eb15-5bf9-4fec-9438-c08756277ec0"
      },
      "source": [
        "#different hyperparameters tried on gb\n",
        "\n",
        "gb = GradientBoostingClassifier(max_depth = 4, n_estimators = 75, max_features = 24, random_state = 42)\n",
        "pipe_gb  = make_pipeline(scaler,pca,gb)\n",
        "pipe_gb.fit(X_train, y_train)\n",
        "print(pipe_gb.score(X_train, y_train))\n",
        "print(pipe_gb.score(X_test, y_test))"
      ],
      "execution_count": 635,
      "outputs": [
        {
          "output_type": "stream",
          "name": "stdout",
          "text": [
            "0.997867803837953\n",
            "0.7731629392971247\n"
          ]
        }
      ]
    },
    {
      "cell_type": "code",
      "metadata": {
        "colab": {
          "base_uri": "https://localhost:8080/"
        },
        "id": "7A3eQxc6_7Of",
        "outputId": "a6f5dcd9-3810-40e1-942e-7d3df4c81db8"
      },
      "source": [
        "#different hyperparameters tried on gb\n",
        "\n",
        "gb = GradientBoostingClassifier(max_depth = 2, n_estimators = 200,  random_state = 42)\n",
        "pipe_gb  = make_pipeline(scaler,pca,gb)\n",
        "pipe_gb.fit(X_train, y_train)\n",
        "print(pipe_gb.score(X_train, y_train))\n",
        "print(pipe_gb.score(X_test, y_test))"
      ],
      "execution_count": 636,
      "outputs": [
        {
          "output_type": "stream",
          "name": "stdout",
          "text": [
            "0.9530916844349681\n",
            "0.7859424920127795\n"
          ]
        }
      ]
    },
    {
      "cell_type": "markdown",
      "metadata": {
        "id": "VEFg1-ZfAHBc"
      },
      "source": [
        "None of the hyperparemeter tuning i tried on GradientBoostingClassifier made any improvement on the default parameters"
      ]
    },
    {
      "cell_type": "code",
      "metadata": {
        "id": "Uy0U597GA3Ch",
        "colab": {
          "base_uri": "https://localhost:8080/"
        },
        "outputId": "29e4f630-b93b-41ea-d1bb-6ee670fd2abb"
      },
      "source": [
        "#Instantiate next model\n",
        "knn = KNeighborsClassifier()\n",
        "pipe_knn  = make_pipeline(scaler,pca,knn)\n",
        "pipe_knn.fit(X_train, y_train)"
      ],
      "execution_count": 637,
      "outputs": [
        {
          "output_type": "execute_result",
          "data": {
            "text/plain": [
              "Pipeline(memory=None,\n",
              "         steps=[('standardscaler',\n",
              "                 StandardScaler(copy=True, with_mean=True, with_std=True)),\n",
              "                ('pca',\n",
              "                 PCA(copy=True, iterated_power='auto', n_components=0.95,\n",
              "                     random_state=None, svd_solver='auto', tol=0.0,\n",
              "                     whiten=False)),\n",
              "                ('kneighborsclassifier',\n",
              "                 KNeighborsClassifier(algorithm='auto', leaf_size=30,\n",
              "                                      metric='minkowski', metric_params=None,\n",
              "                                      n_jobs=None, n_neighbors=5, p=2,\n",
              "                                      weights='uniform'))],\n",
              "         verbose=False)"
            ]
          },
          "metadata": {},
          "execution_count": 637
        }
      ]
    },
    {
      "cell_type": "code",
      "metadata": {
        "colab": {
          "base_uri": "https://localhost:8080/"
        },
        "id": "gKcB4n8is4oK",
        "outputId": "bc126762-bf43-436d-dffe-f9c629148135"
      },
      "source": [
        "print(pipe_knn.score(X_train, y_train))\n",
        "print(pipe_knn.score(X_test, y_test))\n"
      ],
      "execution_count": 638,
      "outputs": [
        {
          "output_type": "stream",
          "name": "stdout",
          "text": [
            "0.8315565031982942\n",
            "0.7667731629392971\n"
          ]
        }
      ]
    },
    {
      "cell_type": "code",
      "metadata": {
        "colab": {
          "base_uri": "https://localhost:8080/"
        },
        "id": "pfuCw659PqN2",
        "outputId": "74a52634-30b5-4335-b6c9-a30347ea34d8"
      },
      "source": [
        "#GridSearch for ideal parameters\n",
        "knn_params = {'kneighborsclassifier__n_neighbors' : [2, 5, 10, 50, 100],\n",
        "          'kneighborsclassifier__weights' : ['uniform', 'distance'], \n",
        "          'kneighborsclassifier__algorithm' : ['auto', 'ball_tree'], \n",
        "          'kneighborsclassifier__p' : [1,2]}\n",
        "grid_knn =GridSearchCV(pipe_knn, knn_params)\n",
        "grid_knn.fit(X_train, y_train)\n",
        "grid_knn.best_params_"
      ],
      "execution_count": 639,
      "outputs": [
        {
          "output_type": "execute_result",
          "data": {
            "text/plain": [
              "{'kneighborsclassifier__algorithm': 'auto',\n",
              " 'kneighborsclassifier__n_neighbors': 50,\n",
              " 'kneighborsclassifier__p': 2,\n",
              " 'kneighborsclassifier__weights': 'distance'}"
            ]
          },
          "metadata": {},
          "execution_count": 639
        }
      ]
    },
    {
      "cell_type": "code",
      "metadata": {
        "colab": {
          "base_uri": "https://localhost:8080/"
        },
        "id": "EJBorSSJQrzf",
        "outputId": "599bf689-d5bf-40ad-9e70-5ede6ed7ef72"
      },
      "source": [
        "grid_knn.score(X_train, y_train)\n",
        "grid_knn.score(X_test, y_test)"
      ],
      "execution_count": 640,
      "outputs": [
        {
          "output_type": "execute_result",
          "data": {
            "text/plain": [
              "0.7859424920127795"
            ]
          },
          "metadata": {},
          "execution_count": 640
        }
      ]
    },
    {
      "cell_type": "code",
      "metadata": {
        "colab": {
          "base_uri": "https://localhost:8080/"
        },
        "id": "dU0OyJ6rl37b",
        "outputId": "6356e18a-4fe9-490e-b193-bd770c7f9260"
      },
      "source": [
        "knn = KNeighborsClassifier(algorithm = 'auto',\n",
        " n_neighbors = 50,\n",
        " p = 2,\n",
        " weights = 'distance')\n",
        "pipe_knn  = make_pipeline(scaler,pca,knn)\n",
        "pipe_knn.fit(X_train, y_train)\n",
        "print(pipe_knn.score(X_train, y_train))\n",
        "print(pipe_knn.score(X_test, y_test))"
      ],
      "execution_count": 641,
      "outputs": [
        {
          "output_type": "stream",
          "name": "stdout",
          "text": [
            "1.0\n",
            "0.7859424920127795\n"
          ]
        }
      ]
    },
    {
      "cell_type": "markdown",
      "metadata": {
        "id": "2CNQh7gy6Jpr"
      },
      "source": [
        "The best models I got are light gradient booster, bagged trees, and XGBoost (in that order) at around 80% each."
      ]
    },
    {
      "cell_type": "markdown",
      "metadata": {
        "id": "TevOPOad99q3"
      },
      "source": [
        "I am choosing the LGBMClassifier (light gradient booster) as my \"production model\" because it has the highest r^2 score."
      ]
    },
    {
      "cell_type": "markdown",
      "metadata": {
        "id": "5uTh9XnszOeg"
      },
      "source": [
        "THIS NEXT SECTION IS FOR UNSUPERVISED LEARNING CLUSTERING MODELS— KMEANS CLUSTERING, HIERARCHICAL (AGGLOMERATIVE) CLUSTERING, AND DBSCAN CLUSTERING. I WILL EVALUATE EACH CLUSTERING METHOD USING SILHOUTTE_SCORE"
      ]
    },
    {
      "cell_type": "code",
      "metadata": {
        "colab": {
          "base_uri": "https://localhost:8080/",
          "height": 224
        },
        "id": "VenHl-RU4jGZ",
        "outputId": "9e7de282-2281-44bc-b4ef-28fb283b196c"
      },
      "source": [
        "#Creating the dataframe to be used for unsupervised learning\n",
        "scaled_np = scaler.fit_transform(dummies_df)\n",
        "scaled_df = pd.DataFrame(scaled_np)\n",
        "scaled_df.head()"
      ],
      "execution_count": 642,
      "outputs": [
        {
          "output_type": "execute_result",
          "data": {
            "text/html": [
              "<div>\n",
              "<style scoped>\n",
              "    .dataframe tbody tr th:only-of-type {\n",
              "        vertical-align: middle;\n",
              "    }\n",
              "\n",
              "    .dataframe tbody tr th {\n",
              "        vertical-align: top;\n",
              "    }\n",
              "\n",
              "    .dataframe thead th {\n",
              "        text-align: right;\n",
              "    }\n",
              "</style>\n",
              "<table border=\"1\" class=\"dataframe\">\n",
              "  <thead>\n",
              "    <tr style=\"text-align: right;\">\n",
              "      <th></th>\n",
              "      <th>0</th>\n",
              "      <th>1</th>\n",
              "      <th>2</th>\n",
              "      <th>3</th>\n",
              "      <th>4</th>\n",
              "      <th>5</th>\n",
              "      <th>6</th>\n",
              "      <th>7</th>\n",
              "      <th>8</th>\n",
              "      <th>9</th>\n",
              "      <th>10</th>\n",
              "      <th>11</th>\n",
              "      <th>12</th>\n",
              "      <th>13</th>\n",
              "      <th>14</th>\n",
              "      <th>15</th>\n",
              "      <th>16</th>\n",
              "      <th>17</th>\n",
              "      <th>18</th>\n",
              "      <th>19</th>\n",
              "      <th>20</th>\n",
              "      <th>21</th>\n",
              "      <th>22</th>\n",
              "      <th>23</th>\n",
              "      <th>24</th>\n",
              "      <th>25</th>\n",
              "      <th>26</th>\n",
              "      <th>27</th>\n",
              "      <th>28</th>\n",
              "      <th>29</th>\n",
              "      <th>30</th>\n",
              "      <th>31</th>\n",
              "      <th>32</th>\n",
              "      <th>33</th>\n",
              "      <th>34</th>\n",
              "      <th>35</th>\n",
              "      <th>36</th>\n",
              "      <th>37</th>\n",
              "      <th>38</th>\n",
              "      <th>39</th>\n",
              "      <th>40</th>\n",
              "      <th>41</th>\n",
              "      <th>42</th>\n",
              "      <th>43</th>\n",
              "      <th>44</th>\n",
              "      <th>45</th>\n",
              "      <th>46</th>\n",
              "      <th>47</th>\n",
              "      <th>48</th>\n",
              "      <th>49</th>\n",
              "      <th>50</th>\n",
              "      <th>51</th>\n",
              "      <th>52</th>\n",
              "      <th>53</th>\n",
              "      <th>54</th>\n",
              "      <th>55</th>\n",
              "      <th>56</th>\n",
              "      <th>57</th>\n",
              "      <th>58</th>\n",
              "      <th>59</th>\n",
              "      <th>60</th>\n",
              "      <th>61</th>\n",
              "      <th>62</th>\n",
              "      <th>63</th>\n",
              "      <th>64</th>\n",
              "      <th>65</th>\n",
              "      <th>66</th>\n",
              "    </tr>\n",
              "  </thead>\n",
              "  <tbody>\n",
              "    <tr>\n",
              "      <th>0</th>\n",
              "      <td>0.675775</td>\n",
              "      <td>0.673024</td>\n",
              "      <td>2.016129</td>\n",
              "      <td>-1.942887</td>\n",
              "      <td>-0.110163</td>\n",
              "      <td>-2.611274</td>\n",
              "      <td>8.276473</td>\n",
              "      <td>-0.357831</td>\n",
              "      <td>0.801082</td>\n",
              "      <td>-0.801082</td>\n",
              "      <td>-0.989662</td>\n",
              "      <td>0.989662</td>\n",
              "      <td>-0.380206</td>\n",
              "      <td>-0.403286</td>\n",
              "      <td>-0.546869</td>\n",
              "      <td>-0.22445</td>\n",
              "      <td>1.824478</td>\n",
              "      <td>-0.538229</td>\n",
              "      <td>0.649300</td>\n",
              "      <td>-0.649300</td>\n",
              "      <td>-0.469561</td>\n",
              "      <td>0.469561</td>\n",
              "      <td>-0.694426</td>\n",
              "      <td>-0.649300</td>\n",
              "      <td>1.282505</td>\n",
              "      <td>-0.814594</td>\n",
              "      <td>1.731128</td>\n",
              "      <td>-0.735283</td>\n",
              "      <td>-0.419228</td>\n",
              "      <td>0.703295</td>\n",
              "      <td>-0.470829</td>\n",
              "      <td>-0.639362</td>\n",
              "      <td>-1.025095</td>\n",
              "      <td>2.016129</td>\n",
              "      <td>-1.367211</td>\n",
              "      <td>-0.232201</td>\n",
              "      <td>1.537174</td>\n",
              "      <td>-0.901689</td>\n",
              "      <td>-0.333185</td>\n",
              "      <td>1.928926</td>\n",
              "      <td>-0.289923</td>\n",
              "      <td>-0.440116</td>\n",
              "      <td>-0.783705</td>\n",
              "      <td>1.252513</td>\n",
              "      <td>-0.546869</td>\n",
              "      <td>-0.451710</td>\n",
              "      <td>2.817040</td>\n",
              "      <td>-0.400603</td>\n",
              "      <td>-0.767842</td>\n",
              "      <td>-0.514698</td>\n",
              "      <td>-0.528338</td>\n",
              "      <td>0.599819</td>\n",
              "      <td>-0.220492</td>\n",
              "      <td>-0.509724</td>\n",
              "      <td>0.789030</td>\n",
              "      <td>-0.464482</td>\n",
              "      <td>-0.445282</td>\n",
              "      <td>0.497251</td>\n",
              "      <td>-0.184077</td>\n",
              "      <td>1.119846</td>\n",
              "      <td>-0.810527</td>\n",
              "      <td>-0.436228</td>\n",
              "      <td>-0.920792</td>\n",
              "      <td>-0.608447</td>\n",
              "      <td>1.640203</td>\n",
              "      <td>0.411289</td>\n",
              "      <td>-0.411289</td>\n",
              "    </tr>\n",
              "    <tr>\n",
              "      <th>1</th>\n",
              "      <td>1.636606</td>\n",
              "      <td>-1.485831</td>\n",
              "      <td>-0.496000</td>\n",
              "      <td>0.514698</td>\n",
              "      <td>-0.110163</td>\n",
              "      <td>-2.611274</td>\n",
              "      <td>8.276473</td>\n",
              "      <td>-0.357831</td>\n",
              "      <td>0.801082</td>\n",
              "      <td>-0.801082</td>\n",
              "      <td>1.010446</td>\n",
              "      <td>-1.010446</td>\n",
              "      <td>-0.380206</td>\n",
              "      <td>-0.403286</td>\n",
              "      <td>-0.546869</td>\n",
              "      <td>-0.22445</td>\n",
              "      <td>-0.548102</td>\n",
              "      <td>1.857944</td>\n",
              "      <td>0.649300</td>\n",
              "      <td>-0.649300</td>\n",
              "      <td>2.129647</td>\n",
              "      <td>-2.129647</td>\n",
              "      <td>1.440038</td>\n",
              "      <td>-0.649300</td>\n",
              "      <td>-0.779724</td>\n",
              "      <td>1.227605</td>\n",
              "      <td>-0.577658</td>\n",
              "      <td>-0.735283</td>\n",
              "      <td>2.385338</td>\n",
              "      <td>-1.421879</td>\n",
              "      <td>-0.470829</td>\n",
              "      <td>1.564059</td>\n",
              "      <td>-1.025095</td>\n",
              "      <td>-0.496000</td>\n",
              "      <td>0.731416</td>\n",
              "      <td>-0.232201</td>\n",
              "      <td>-0.650545</td>\n",
              "      <td>1.109030</td>\n",
              "      <td>-0.333185</td>\n",
              "      <td>-0.518423</td>\n",
              "      <td>-0.289923</td>\n",
              "      <td>-0.440116</td>\n",
              "      <td>1.275990</td>\n",
              "      <td>-0.798395</td>\n",
              "      <td>-0.546869</td>\n",
              "      <td>-0.451710</td>\n",
              "      <td>-0.354983</td>\n",
              "      <td>2.496240</td>\n",
              "      <td>-0.767842</td>\n",
              "      <td>-0.514698</td>\n",
              "      <td>-0.528338</td>\n",
              "      <td>0.599819</td>\n",
              "      <td>-0.220492</td>\n",
              "      <td>1.961845</td>\n",
              "      <td>-1.267379</td>\n",
              "      <td>-0.464482</td>\n",
              "      <td>-0.445282</td>\n",
              "      <td>0.497251</td>\n",
              "      <td>-0.184077</td>\n",
              "      <td>-0.892980</td>\n",
              "      <td>1.233766</td>\n",
              "      <td>-0.436228</td>\n",
              "      <td>1.086021</td>\n",
              "      <td>-0.608447</td>\n",
              "      <td>-0.609681</td>\n",
              "      <td>0.411289</td>\n",
              "      <td>-0.411289</td>\n",
              "    </tr>\n",
              "    <tr>\n",
              "      <th>2</th>\n",
              "      <td>-0.010533</td>\n",
              "      <td>0.673024</td>\n",
              "      <td>-0.496000</td>\n",
              "      <td>0.514698</td>\n",
              "      <td>-0.110163</td>\n",
              "      <td>-2.611274</td>\n",
              "      <td>8.276473</td>\n",
              "      <td>-0.357831</td>\n",
              "      <td>0.801082</td>\n",
              "      <td>-0.801082</td>\n",
              "      <td>1.010446</td>\n",
              "      <td>-1.010446</td>\n",
              "      <td>-0.380206</td>\n",
              "      <td>-0.403286</td>\n",
              "      <td>-0.546869</td>\n",
              "      <td>-0.22445</td>\n",
              "      <td>1.824478</td>\n",
              "      <td>-0.538229</td>\n",
              "      <td>0.649300</td>\n",
              "      <td>-0.649300</td>\n",
              "      <td>-0.469561</td>\n",
              "      <td>0.469561</td>\n",
              "      <td>-0.694426</td>\n",
              "      <td>1.540119</td>\n",
              "      <td>-0.779724</td>\n",
              "      <td>1.227605</td>\n",
              "      <td>-0.577658</td>\n",
              "      <td>-0.735283</td>\n",
              "      <td>-0.419228</td>\n",
              "      <td>0.703295</td>\n",
              "      <td>-0.470829</td>\n",
              "      <td>-0.639362</td>\n",
              "      <td>0.975519</td>\n",
              "      <td>-0.496000</td>\n",
              "      <td>0.731416</td>\n",
              "      <td>-0.232201</td>\n",
              "      <td>-0.650545</td>\n",
              "      <td>-0.901689</td>\n",
              "      <td>3.001333</td>\n",
              "      <td>-0.518423</td>\n",
              "      <td>-0.289923</td>\n",
              "      <td>-0.440116</td>\n",
              "      <td>-0.783705</td>\n",
              "      <td>1.252513</td>\n",
              "      <td>-0.546869</td>\n",
              "      <td>-0.451710</td>\n",
              "      <td>-0.354983</td>\n",
              "      <td>2.496240</td>\n",
              "      <td>-0.767842</td>\n",
              "      <td>-0.514698</td>\n",
              "      <td>-0.528338</td>\n",
              "      <td>0.599819</td>\n",
              "      <td>-0.220492</td>\n",
              "      <td>-0.509724</td>\n",
              "      <td>-1.267379</td>\n",
              "      <td>2.152936</td>\n",
              "      <td>-0.445282</td>\n",
              "      <td>-2.011058</td>\n",
              "      <td>5.432513</td>\n",
              "      <td>-0.892980</td>\n",
              "      <td>-0.810527</td>\n",
              "      <td>2.292379</td>\n",
              "      <td>-0.920792</td>\n",
              "      <td>1.643528</td>\n",
              "      <td>-0.609681</td>\n",
              "      <td>0.411289</td>\n",
              "      <td>-0.411289</td>\n",
              "    </tr>\n",
              "    <tr>\n",
              "      <th>3</th>\n",
              "      <td>-0.147795</td>\n",
              "      <td>-1.485831</td>\n",
              "      <td>-0.496000</td>\n",
              "      <td>0.514698</td>\n",
              "      <td>-0.110163</td>\n",
              "      <td>-2.611274</td>\n",
              "      <td>8.276473</td>\n",
              "      <td>-0.357831</td>\n",
              "      <td>-1.248312</td>\n",
              "      <td>1.248312</td>\n",
              "      <td>-0.989662</td>\n",
              "      <td>0.989662</td>\n",
              "      <td>-0.380206</td>\n",
              "      <td>-0.403286</td>\n",
              "      <td>1.828592</td>\n",
              "      <td>-0.22445</td>\n",
              "      <td>-0.548102</td>\n",
              "      <td>-0.538229</td>\n",
              "      <td>0.649300</td>\n",
              "      <td>-0.649300</td>\n",
              "      <td>-0.469561</td>\n",
              "      <td>0.469561</td>\n",
              "      <td>-0.694426</td>\n",
              "      <td>1.540119</td>\n",
              "      <td>-0.779724</td>\n",
              "      <td>-0.814594</td>\n",
              "      <td>-0.577658</td>\n",
              "      <td>1.360021</td>\n",
              "      <td>-0.419228</td>\n",
              "      <td>0.703295</td>\n",
              "      <td>-0.470829</td>\n",
              "      <td>-0.639362</td>\n",
              "      <td>0.975519</td>\n",
              "      <td>-0.496000</td>\n",
              "      <td>-1.367211</td>\n",
              "      <td>4.306608</td>\n",
              "      <td>-0.650545</td>\n",
              "      <td>-0.901689</td>\n",
              "      <td>3.001333</td>\n",
              "      <td>-0.518423</td>\n",
              "      <td>-0.289923</td>\n",
              "      <td>-0.440116</td>\n",
              "      <td>-0.783705</td>\n",
              "      <td>-0.798395</td>\n",
              "      <td>1.828592</td>\n",
              "      <td>-0.451710</td>\n",
              "      <td>2.817040</td>\n",
              "      <td>-0.400603</td>\n",
              "      <td>-0.767842</td>\n",
              "      <td>-0.514698</td>\n",
              "      <td>-0.528338</td>\n",
              "      <td>-1.667170</td>\n",
              "      <td>4.535302</td>\n",
              "      <td>-0.509724</td>\n",
              "      <td>0.789030</td>\n",
              "      <td>-0.464482</td>\n",
              "      <td>2.245769</td>\n",
              "      <td>-2.011058</td>\n",
              "      <td>-0.184077</td>\n",
              "      <td>1.119846</td>\n",
              "      <td>-0.810527</td>\n",
              "      <td>-0.436228</td>\n",
              "      <td>-0.920792</td>\n",
              "      <td>1.643528</td>\n",
              "      <td>-0.609681</td>\n",
              "      <td>-2.431379</td>\n",
              "      <td>2.431379</td>\n",
              "    </tr>\n",
              "    <tr>\n",
              "      <th>4</th>\n",
              "      <td>-0.147795</td>\n",
              "      <td>0.673024</td>\n",
              "      <td>-0.496000</td>\n",
              "      <td>0.514698</td>\n",
              "      <td>-0.110163</td>\n",
              "      <td>-2.611274</td>\n",
              "      <td>8.276473</td>\n",
              "      <td>-0.357831</td>\n",
              "      <td>0.801082</td>\n",
              "      <td>-0.801082</td>\n",
              "      <td>1.010446</td>\n",
              "      <td>-1.010446</td>\n",
              "      <td>-0.380206</td>\n",
              "      <td>2.479631</td>\n",
              "      <td>-0.546869</td>\n",
              "      <td>-0.22445</td>\n",
              "      <td>-0.548102</td>\n",
              "      <td>-0.538229</td>\n",
              "      <td>-1.540119</td>\n",
              "      <td>1.540119</td>\n",
              "      <td>-0.469561</td>\n",
              "      <td>0.469561</td>\n",
              "      <td>-0.694426</td>\n",
              "      <td>-0.649300</td>\n",
              "      <td>1.282505</td>\n",
              "      <td>1.227605</td>\n",
              "      <td>-0.577658</td>\n",
              "      <td>-0.735283</td>\n",
              "      <td>2.385338</td>\n",
              "      <td>-1.421879</td>\n",
              "      <td>-0.470829</td>\n",
              "      <td>1.564059</td>\n",
              "      <td>-1.025095</td>\n",
              "      <td>-0.496000</td>\n",
              "      <td>0.731416</td>\n",
              "      <td>-0.232201</td>\n",
              "      <td>-0.650545</td>\n",
              "      <td>1.109030</td>\n",
              "      <td>-0.333185</td>\n",
              "      <td>-0.518423</td>\n",
              "      <td>-0.289923</td>\n",
              "      <td>-0.440116</td>\n",
              "      <td>-0.783705</td>\n",
              "      <td>1.252513</td>\n",
              "      <td>-0.546869</td>\n",
              "      <td>2.213807</td>\n",
              "      <td>-0.354983</td>\n",
              "      <td>-0.400603</td>\n",
              "      <td>-0.767842</td>\n",
              "      <td>-0.514698</td>\n",
              "      <td>-0.528338</td>\n",
              "      <td>0.599819</td>\n",
              "      <td>-0.220492</td>\n",
              "      <td>-0.509724</td>\n",
              "      <td>0.789030</td>\n",
              "      <td>-0.464482</td>\n",
              "      <td>-0.445282</td>\n",
              "      <td>-2.011058</td>\n",
              "      <td>5.432513</td>\n",
              "      <td>-0.892980</td>\n",
              "      <td>-0.810527</td>\n",
              "      <td>2.292379</td>\n",
              "      <td>1.086021</td>\n",
              "      <td>-0.608447</td>\n",
              "      <td>-0.609681</td>\n",
              "      <td>0.411289</td>\n",
              "      <td>-0.411289</td>\n",
              "    </tr>\n",
              "  </tbody>\n",
              "</table>\n",
              "</div>"
            ],
            "text/plain": [
              "         0         1         2   ...        64        65        66\n",
              "0  0.675775  0.673024  2.016129  ...  1.640203  0.411289 -0.411289\n",
              "1  1.636606 -1.485831 -0.496000  ... -0.609681  0.411289 -0.411289\n",
              "2 -0.010533  0.673024 -0.496000  ... -0.609681  0.411289 -0.411289\n",
              "3 -0.147795 -1.485831 -0.496000  ... -0.609681 -2.431379  2.431379\n",
              "4 -0.147795  0.673024 -0.496000  ... -0.609681  0.411289 -0.411289\n",
              "\n",
              "[5 rows x 67 columns]"
            ]
          },
          "metadata": {},
          "execution_count": 642
        }
      ]
    },
    {
      "cell_type": "code",
      "metadata": {
        "colab": {
          "base_uri": "https://localhost:8080/",
          "height": 301
        },
        "id": "Q-nv-EP1zulr",
        "outputId": "d1a0188b-7fff-4967-9ff6-a149044b31b3"
      },
      "source": [
        "#PCA for data visualization\n",
        "le = LabelEncoder()\n",
        "y_pca_dv = le.fit_transform(df['supervisor'])\n",
        "pca = PCA(n_components=2)\n",
        "pcs = pca.fit_transform(scaled_df)\n",
        "\n",
        "#visualize it\n",
        "plt.figure(figsize = (8, 4))\n",
        "plt.scatter(pcs[:,0], pcs[:,1], c = y_pca_dv)\n",
        "plt.title('Visualization of all of our data using the first two Principal Components')\n",
        "plt.xlabel('PC1')\n",
        "plt.ylabel('PC2');\n",
        "\n"
      ],
      "execution_count": 643,
      "outputs": [
        {
          "output_type": "display_data",
          "data": {
            "image/png": "[encoded data removed]",
            "text/plain": [
              "<Figure size 576x288 with 1 Axes>"
            ]
          },
          "metadata": {}
        }
      ]
    },
    {
      "cell_type": "markdown",
      "metadata": {
        "id": "jMmwnbFezyQN"
      },
      "source": [
        "We can see here that there is some separation between the two groups (which people would and would not talk to a supervisor about mental health), but also significant overlap in the middle. The clearest section is upper-left where there is mostly white and nearly no black.\n",
        "\n",
        "This also gives some explanation as to why the supervised learning models' r^2's were not perfect, since there is some significant overlap in the two groups."
      ]
    },
    {
      "cell_type": "code",
      "metadata": {
        "colab": {
          "base_uri": "https://localhost:8080/"
        },
        "id": "yK6vOtZ8DXy8",
        "outputId": "5b1740b7-8cf9-455e-a3c9-a659619292a2"
      },
      "source": [
        "#DBSCAN\n",
        "\n",
        "dbs = DBSCAN( eps = 0.5, min_samples = -1).fit(scaled_df)\n",
        "scaled_df['cluster_db'] = dbs.labels_\n",
        "silhouette_score(scaled_df, dbs.labels_)\n"
      ],
      "execution_count": 644,
      "outputs": [
        {
          "output_type": "execute_result",
          "data": {
            "text/plain": [
              "0.006394884092725819"
            ]
          },
          "metadata": {},
          "execution_count": 644
        }
      ]
    },
    {
      "cell_type": "markdown",
      "metadata": {
        "id": "031qosSXDY-q"
      },
      "source": [
        "Obviously not a good dataset for DBSCAN. Very terrible score. Probably ends up with far too many groups."
      ]
    },
    {
      "cell_type": "code",
      "metadata": {
        "colab": {
          "base_uri": "https://localhost:8080/",
          "height": 296
        },
        "id": "lE1PO2yK2f1S",
        "outputId": "cf8c63dd-5e9f-4387-d6ff-c1a70376c617"
      },
      "source": [
        "#KMeans elbow plot to find ideal number of clusters\n",
        "ks = range(1,11)\n",
        "inertias = []\n",
        "for k in ks:\n",
        "        model = KMeans(n_clusters=k)\n",
        "        model.fit(scaled_df)\n",
        "        inertias.append(model.inertia_)\n",
        "plt.plot(ks, inertias)\n",
        "plt.xlabel('number of clusters, k')\n",
        "plt.ylabel('inertia')\n",
        "plt.xticks(ks)\n",
        "plt.show()"
      ],
      "execution_count": 645,
      "outputs": [
        {
          "output_type": "display_data",
          "data": {
            "image/png": "[encoded data removed]",
            "text/plain": [
              "<Figure size 432x288 with 1 Axes>"
            ]
          },
          "metadata": {}
        }
      ]
    },
    {
      "cell_type": "markdown",
      "metadata": {
        "id": "LJNRZggz6iyz"
      },
      "source": [
        "The \"elbow\" is at two, suggesting 2 to be the ideal number of clusters"
      ]
    },
    {
      "cell_type": "code",
      "metadata": {
        "colab": {
          "base_uri": "https://localhost:8080/",
          "height": 285
        },
        "id": "Lx06R4fB6g0y",
        "outputId": "f1bcd7fb-52b2-44db-c218-73d919b10a18"
      },
      "source": [
        "#Silhoutte score graph KMeans\n",
        "\n",
        "\n",
        "silhouette_scores = []\n",
        "for i in range(2, 11):\n",
        "  kmeans = KMeans(n_clusters = i)\n",
        "  kmeans.fit(scaled_df)\n",
        "  silhouette_scores.append(silhouette_score(scaled_df, kmeans.labels_))\n",
        "plt.plot(range(2, 11), silhouette_scores, marker = '.')\n",
        "plt.xlabel('Number of Clusters')\n",
        "plt.ylabel('Silhouette Score');"
      ],
      "execution_count": 646,
      "outputs": [
        {
          "output_type": "display_data",
          "data": {
            "image/png": "[encoded data removed]",
            "text/plain": [
              "<Figure size 432x288 with 1 Axes>"
            ]
          },
          "metadata": {}
        }
      ]
    },
    {
      "cell_type": "markdown",
      "metadata": {
        "id": "Ac9Q2_oH66FT"
      },
      "source": [
        "Looks like ideal number of clusters is 2 or 3"
      ]
    },
    {
      "cell_type": "code",
      "metadata": {
        "colab": {
          "base_uri": "https://localhost:8080/"
        },
        "id": "vrZ5hr-z6sH-",
        "outputId": "0b516580-d590-414f-ebb4-ada9c80f65f3"
      },
      "source": [
        "#trying silhoutte scores for both 2 and 3 clusters to see what gets the best score\n",
        "kmeans_2 = KMeans(n_clusters = 2)\n",
        "kmeans_3 = KMeans(n_clusters = 3)\n",
        "\n",
        "kmeans_2.fit(scaled_df)\n",
        "kmeans_3.fit(scaled_df)\n",
        "\n",
        "scaled_df['cluster_km2'] = kmeans_2.labels_\n",
        "scaled_df['cluster_km3'] = kmeans_3.labels_\n",
        "silhouette_score(scaled_df, kmeans.labels_)\n",
        "\n"
      ],
      "execution_count": 647,
      "outputs": [
        {
          "output_type": "execute_result",
          "data": {
            "text/plain": [
              "0.5131908238269463"
            ]
          },
          "metadata": {},
          "execution_count": 647
        }
      ]
    },
    {
      "cell_type": "code",
      "metadata": {
        "colab": {
          "base_uri": "https://localhost:8080/"
        },
        "id": "jFoKXOFxHfzX",
        "outputId": "bb574695-a4ed-4a92-8771-b7e762ee6b18"
      },
      "source": [
        "silhouette_score(scaled_df, kmeans_2.labels_)\n"
      ],
      "execution_count": 648,
      "outputs": [
        {
          "output_type": "execute_result",
          "data": {
            "text/plain": [
              "0.6250762895707275"
            ]
          },
          "metadata": {},
          "execution_count": 648
        }
      ]
    },
    {
      "cell_type": "markdown",
      "metadata": {
        "id": "QOU1YWQUIzkA"
      },
      "source": [
        "^Two clusters gives highest silhoutte score for KMeans"
      ]
    },
    {
      "cell_type": "code",
      "metadata": {
        "colab": {
          "base_uri": "https://localhost:8080/"
        },
        "id": "TJti3jGrHfl4",
        "outputId": "6b0a2945-5d50-4c40-c871-ed86b286df15"
      },
      "source": [
        "silhouette_score(scaled_df, kmeans_3.labels_)\n"
      ],
      "execution_count": 649,
      "outputs": [
        {
          "output_type": "execute_result",
          "data": {
            "text/plain": [
              "0.5856573738863099"
            ]
          },
          "metadata": {},
          "execution_count": 649
        }
      ]
    },
    {
      "cell_type": "code",
      "metadata": {
        "colab": {
          "base_uri": "https://localhost:8080/",
          "height": 326
        },
        "id": "9OJTHRbF7CNG",
        "outputId": "0dd3be9d-0872-48bc-daf1-ed7a87c82c50"
      },
      "source": [
        "#Hierarchical clustering\n",
        "plt.figure(figsize = (15, 5))\n",
        "sch.dendrogram(sch.linkage(scaled_df, method = 'ward'))\n",
        "plt.xlabel('Data Points');"
      ],
      "execution_count": 650,
      "outputs": [
        {
          "output_type": "display_data",
          "data": {
            "image/png": "[encoded data removed]",
            "text/plain": [
              "<Figure size 1080x360 with 1 Axes>"
            ]
          },
          "metadata": {}
        }
      ]
    },
    {
      "cell_type": "markdown",
      "metadata": {
        "id": "oOCovg3n7YPb"
      },
      "source": [
        "Most likely based on this 2,4, or 8 clusters might be best. We'll try all of them.\n"
      ]
    },
    {
      "cell_type": "code",
      "metadata": {
        "colab": {
          "base_uri": "https://localhost:8080/"
        },
        "id": "Bcu7GHDG7hhf",
        "outputId": "f735eb56-a269-4b35-ad42-ce41f9bd2169"
      },
      "source": [
        "#prepping to get silhoutte scores for 2,4, and 8 clusters\n",
        "hc_2 = AgglomerativeClustering(n_clusters = 2)\n",
        "hc_4 = AgglomerativeClustering(n_clusters = 4)\n",
        "hc_8 = AgglomerativeClustering(n_clusters = 8)\n",
        "\n",
        "hc_2.fit(scaled_df)\n",
        "hc_4.fit(scaled_df)\n",
        "hc_8.fit(scaled_df)\n"
      ],
      "execution_count": 651,
      "outputs": [
        {
          "output_type": "execute_result",
          "data": {
            "text/plain": [
              "AgglomerativeClustering(affinity='euclidean', compute_full_tree='auto',\n",
              "                        connectivity=None, distance_threshold=None,\n",
              "                        linkage='ward', memory=None, n_clusters=8)"
            ]
          },
          "metadata": {},
          "execution_count": 651
        }
      ]
    },
    {
      "cell_type": "code",
      "metadata": {
        "id": "f4sfX9Fa7L58"
      },
      "source": [
        "scaled_df['cluster_h3'] = hc_2.labels_\n",
        "scaled_df['cluster_h4'] = hc_4.labels_\n",
        "scaled_df['cluster_h5'] = hc_8.labels_\n"
      ],
      "execution_count": 652,
      "outputs": []
    },
    {
      "cell_type": "code",
      "metadata": {
        "colab": {
          "base_uri": "https://localhost:8080/"
        },
        "id": "jxOcmIl672z6",
        "outputId": "a2e838d3-149b-487d-c046-e97ca3ccbc4c"
      },
      "source": [
        "silhouette_score(scaled_df, hc_2.labels_)\n"
      ],
      "execution_count": 653,
      "outputs": [
        {
          "output_type": "execute_result",
          "data": {
            "text/plain": [
              "0.6232000413019344"
            ]
          },
          "metadata": {},
          "execution_count": 653
        }
      ]
    },
    {
      "cell_type": "markdown",
      "metadata": {
        "id": "LQs0i8kEI9MU"
      },
      "source": [
        "Two clusters also gives the highest silhoutte score for hierarchical clustering. It is only a fraction of a percent lower than the score from the KMeans 2-cluster."
      ]
    },
    {
      "cell_type": "code",
      "metadata": {
        "colab": {
          "base_uri": "https://localhost:8080/"
        },
        "id": "dGefQkx_79_1",
        "outputId": "756a8d95-c88a-41f2-fc9b-14ffe7c753fd"
      },
      "source": [
        "silhouette_score(scaled_df, hc_4.labels_)\n"
      ],
      "execution_count": 654,
      "outputs": [
        {
          "output_type": "execute_result",
          "data": {
            "text/plain": [
              "0.5346112659218875"
            ]
          },
          "metadata": {},
          "execution_count": 654
        }
      ]
    },
    {
      "cell_type": "code",
      "metadata": {
        "colab": {
          "base_uri": "https://localhost:8080/"
        },
        "id": "uCvLj_N47_gP",
        "outputId": "b461ff91-3956-4cdc-8d18-455c3b67f4cc"
      },
      "source": [
        "silhouette_score(scaled_df, hc_8.labels_)\n"
      ],
      "execution_count": 655,
      "outputs": [
        {
          "output_type": "execute_result",
          "data": {
            "text/plain": [
              "0.4966038053052723"
            ]
          },
          "metadata": {},
          "execution_count": 655
        }
      ]
    },
    {
      "cell_type": "code",
      "metadata": {
        "id": "ZixGOKeV8NXQ"
      },
      "source": [
        ""
      ],
      "execution_count": 655,
      "outputs": []
    },
    {
      "cell_type": "markdown",
      "metadata": {
        "id": "Qwem5ulU8R42"
      },
      "source": [
        "Using two clusters for either KMeans or Agglomerative clustering gives the best result.\n"
      ]
    },
    {
      "cell_type": "markdown",
      "metadata": {
        "id": "fc_hbPeDmgo4"
      },
      "source": [
        "TAKEAWAYS:\n",
        "\n",
        "A highly accurate prediction (80%) can be made based on the data from this dataset whether or not an employee is likely to be willing to talk to their supervisor about mental health.\n",
        "\n",
        "Based on data visualizations, a number of insights can be gleaned concerning the feelings and practices surrounding mental health for tech workers\n",
        "\n",
        "-33% of respondents have a family history of mental health\n",
        "\n",
        "-50% have sought treatment for mental health\n",
        "\n",
        "-33% would not be comfortable talking to a supervisor about mental health\n",
        "\n",
        "-An overwhelming majority (83%) would not bring up mental health in an interview and 66% think it would or might have negative effects if they were to have a discussion about mental health with their employer. \n",
        "\n",
        "-Men are less likely to have gotten treatment for mental illness\n",
        "\n",
        "-The vast majority of employees (1000+) would not mention mental illness in an interview, but many would be open to talking about it with a supervisor (600+)\n",
        "\n",
        "-Many who would not talk to a supervisor would talk to a coworker\n",
        "\n",
        "-Whether or not a person feels comfortable talking to a supervisor is not correlated to whether or not they have been treated for mental illness. Although not visualized in this project, the same is true about talking to coworkers, so we can expand to say that whether a person feels comfortable talking about mental health at work is not correlated to whether or not they have been treated for mental illness.\n",
        "\n",
        "Despite half of the respondents having had mental health issues serious enough for professional care, a substantial amount of respondents feel uncomfortable talking about mental illness, or feel that talking about their own mental health could have negative consequences.\n",
        "\n",
        "Ideas for improving company culture around mental health care, aiming for (1) more employees to think their employers take mental health seriously and (2) Support those with mental health issues.\n",
        "\n",
        "-Employers/supervisors opening conversations about health care so that employees feel that the topic is safe.\n",
        "\n",
        "-Coworker support structures(Since many who would not feel comfortable talking to a supervisor would talk to a coworker); what might this look like?\n",
        "\n",
        "-Companies providing wellness programs and mental health care, such as insurance covering counseling.\n",
        "\n",
        "-Advertising the company's options for mental health care (many respondents were not aware of the options)\n",
        "\n"
      ]
    }
  ]
}